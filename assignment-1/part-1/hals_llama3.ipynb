{
 "cells": [
  {
   "cell_type": "markdown",
   "metadata": {},
   "source": [
    "### A1 Part-1 LLaMA3\n",
    "#### Hallucinations and RAG"
   ]
  },
  {
   "cell_type": "code",
   "execution_count": null,
   "metadata": {},
   "outputs": [],
   "source": [
    "import torch\n",
    "from transformers import AutoTokenizer, AutoModelForCausalLM\n",
    "from transformers import BitsAndBytesConfig\n",
    "from sentence_transformers import SentenceTransformer, util\n",
    "import accelerate\n",
    "from torch.nn.functional import cosine_similarity\n",
    "import requests\n",
    "from bs4 import BeautifulSoup"
   ]
  },
  {
   "cell_type": "code",
   "execution_count": null,
   "metadata": {},
   "outputs": [
    {
     "data": {
      "text/plain": [
       "device(type='cuda')"
      ]
     },
     "metadata": {},
     "output_type": "display_data"
    }
   ],
   "source": [
    "device = torch.device(\"cuda\" if torch.cuda.is_available() else \"cpu\")\n",
    "device"
   ]
  },
  {
   "cell_type": "markdown",
   "metadata": {},
   "source": [
    "##### LLM Preparation"
   ]
  },
  {
   "cell_type": "code",
   "execution_count": null,
   "metadata": {},
   "outputs": [],
   "source": [
    "model_id = \"meta-llama/Meta-Llama-3-8B-Instruct\""
   ]
  },
  {
   "cell_type": "code",
   "execution_count": null,
   "metadata": {},
   "outputs": [],
   "source": [
    "quantization_config = BitsAndBytesConfig(\n",
    "    load_in_8bit=True,\n",
    "    bnb_8bit_use_double_quant=True,\n",
    "    bnb_8bit_quant_type='nf8',  # Can be 'nf4' or 'fp4'\n",
    "    bnb_8bit_compute_dtype=torch.bfloat16  # Adjust compute type if needed\n",
    ")"
   ]
  },
  {
   "cell_type": "code",
   "execution_count": null,
   "metadata": {},
   "outputs": [
    {
     "name": "stderr",
     "output_type": "stream",
     "text": [
      "Special tokens have been added in the vocabulary, make sure the associated word embeddings are fine-tuned or trained.\n"
     ]
    },
    {
     "data": {
      "application/vnd.jupyter.widget-view+json": {
       "model_id": "09aa3534a85c4206a19610311ed12362",
       "version_major": 2,
       "version_minor": 0
      },
      "text/plain": [
       "Loading checkpoint shards:   0%|          | 0/4 [00:00<?, ?it/s]"
      ]
     },
     "metadata": {},
     "output_type": "display_data"
    }
   ],
   "source": [
    "tokenizer = AutoTokenizer.from_pretrained(model_id)\n",
    "model = AutoModelForCausalLM.from_pretrained(\n",
    "    model_id,\n",
    "    torch_dtype=torch.float16,\n",
    "    device_map='auto',\n",
    "    quantization_config=quantization_config,\n",
    ")"
   ]
  },
  {
   "cell_type": "code",
   "execution_count": null,
   "metadata": {},
   "outputs": [
    {
     "name": "stdout",
     "output_type": "stream",
     "text": [
      "Model size: 14.96 GB\n"
     ]
    }
   ],
   "source": [
    "def get_model_size(model):\n",
    "    total_params = sum(p.numel() for p in model.parameters())\n",
    "    total_size_bytes = total_params * 2\n",
    "    total_size_gb = total_size_bytes / (1024 ** 3)\n",
    "    print(f\"Model size: {total_size_gb:.2f} GB\")\n",
    "\n",
    "get_model_size(model)"
   ]
  },
  {
   "cell_type": "code",
   "execution_count": null,
   "metadata": {},
   "outputs": [
    {
     "data": {
      "text/plain": [
       "device(type='cuda', index=0)"
      ]
     },
     "metadata": {},
     "output_type": "display_data"
    }
   ],
   "source": [
    "model.device"
   ]
  },
  {
   "cell_type": "markdown",
   "metadata": {},
   "source": [
    "##### RAG Knowledge Base"
   ]
  },
  {
   "cell_type": "code",
   "execution_count": null,
   "metadata": {},
   "outputs": [],
   "source": [
    "embedding_model = SentenceTransformer('all-MiniLM-L6-v2')"
   ]
  },
  {
   "cell_type": "code",
   "execution_count": null,
   "metadata": {},
   "outputs": [],
   "source": [
    "def split_document_into_passages(document, passage_length=100):\n",
    "    words = document.split()\n",
    "    passages = [' '.join(words[i:i+passage_length]) for i in range(0, len(words), passage_length-5)]\n",
    "    return passages"
   ]
  },
  {
   "cell_type": "code",
   "execution_count": null,
   "metadata": {},
   "outputs": [],
   "source": [
    "def scrape_webpage(url):\n",
    "    response = requests.get(url)\n",
    "    soup = BeautifulSoup(response.text, 'html.parser')\n",
    "    \n",
    "    paragraphs = soup.find_all('p')\n",
    "    content = \"\\n\".join([para.get_text() for para in paragraphs])\n",
    "    articles = soup.find_all('article')\n",
    "    content += \"\\n\".join([para.get_text() for para in articles])\n",
    "    links = soup.find_all('a')\n",
    "    content += \"\\n\".join([para.get_text() for para in links])\n",
    "    \n",
    "    content = content.replace(\"\\n\", \" \").strip()\n",
    "    content_passages = split_document_into_passages(content)\n",
    "    return content_passages\n"
   ]
  },
  {
   "cell_type": "code",
   "execution_count": null,
   "metadata": {},
   "outputs": [],
   "source": [
    "urls = [\n",
    "    'https://www.nobelprize.org/prizes/physics/1921/summary/',\n",
    "    'https://time.com/5198933/why-stephen-hawking-never-won-nobel/',\n",
    "    'https://apollo11space.com/apollo-11-space-mission-food/',\n",
    "    'https://www.merriam-webster.com/wordfinder/classic/begins/all/-1/apt/1',\n",
    "    'https://en.wikipedia.org/wiki/2021_ICC_Men%27s_T20_World_Cup',\n",
    "    'https://doodlelearning.com/maths/skills/division/long-division/',\n",
    "    # 'https://www.idtech.com/blog/easy-division-tricks-for-kids',\n",
    "    \n",
    "]"
   ]
  },
  {
   "cell_type": "code",
   "execution_count": null,
   "metadata": {},
   "outputs": [],
   "source": [
    "knowledge_base = []\n",
    "\n",
    "for url in urls:\n",
    "    knowledge_base.extend(scrape_webpage(url))\n",
    "\n",
    "passage_embeddings = embedding_model.encode(knowledge_base, convert_to_tensor=True)"
   ]
  },
  {
   "cell_type": "code",
   "execution_count": null,
   "metadata": {},
   "outputs": [
    {
     "data": {
      "text/plain": [
       "[\"Photo from the Nobel Foundation archive. Prize share: 1/1 To cite this section MLA style: The Nobel Prize in Physics 1921. NobelPrize.org. Nobel Prize Outreach AB 2024. Thu. 5 Sep 2024. <https://www.nobelprize.org/prizes/physics/1921/summary/> Tasked with a mission to manage Alfred Nobel's fortune and has ultimate responsibility for fulfilling the intentions of Nobel's will. For more than a century, these academic institutions have worked independently to select Nobel Prize laureates. Several outreach organisations and activities have been developed to inspire generations and disseminate knowledge about the Nobel Prize. The Nobel Prize The Nobel Prize in Physics 1921 Navigate to: Summary- Albert Einstein\",\n",
       " 'Navigate to: Summary- Albert Einstein Presentation Speech Photo from the Nobel Foundation archive. Albert Einstein Prize share: 1/1 The Nobel Prize in Physics 1921 was awarded to Albert Einstein \"for his services to Theoretical Physics, and especially for his discovery of the law of the photoelectric effect\" Albert Einstein received his Nobel Prize one year later, in 1922. During the selection process in 1921, the Nobel Committee for Physics decided that none of the year\\'s nominations met the criteria as outlined in the will of Alfred Nobel. According to the Nobel Foundation\\'s statutes, the Nobel Prize can in such a',\n",
       " 'Prize can in such a case be reserved until the following year, and this statute was then applied. Albert Einstein therefore received his Nobel Prize for 1921 one year later, in 1922. To cite this section MLA style: The Nobel Prize in Physics 1921. NobelPrize.org. Nobel Prize Outreach AB 2024. Thu. 5 Sep 2024. <https://www.nobelprize.org/prizes/physics/1921/summary/> Back to top Back To Top Takes users back to the top of the page Nobel Prizes 2023 Eleven laureates were awarded a Nobel Prize in 2023, for achievements that have conferred the greatest benefit to humankind. Their work and discoveries range from effective mRNA',\n",
       " 'discoveries range from effective mRNA vaccines and attosecond physics to fighting against the oppression of women.See them all presented here. Skip to content Close Mobile Menu Toggle Mobile Menu Nobel Prizes & laureates All Nobel Prizes Nobel Prizes 2023 Physics prize Chemistry prize Medicine prize Literature prize Peace prize Prize in economic sciences About About the prize Alfred Nobel Award ceremonies Nomination Organisation Stories Educational Events & museums The Nobel Prize in Physics 1921 Nobel Prize in Physics 1921 - Presentation Speech Summary Albert Einstein Presentation Speech Facebook X LinkedIn Email this page Albert Einstein Back to top Nobel Prizes',\n",
       " 'Back to top Nobel Prizes 2023 About the Nobel Prize organisation The Nobel Foundation The prize-awarding institutions Outreach organisations Press Contact FAQ Privacy policy Technical support Terms of use For developers Media player Facebook Twitter Instagram Youtube LinkedIn The Nobel Prize',\n",
       " 'Professor Stephen Hawking, who died on Wednesday at the age of 76 at his home in Cambridge, England, was considered by many to be a once-in-a-generation genius. The author of A Brief History of Time, Hawking was a living legend in the field of cosmology. He was most famous for his studies on black holes and relativity, which revolutionized the way we see and study the universe. His work with Sir Roger Penrose on Einstein’s general theory of relativity showed that there was an implied beginning to space and time — the Big Bang — and an end, through black',\n",
       " 'and an end, through black holes. However, for all his fame and impact on theoretical physics, his field’s most famous award eluded Hawking throughout his life. So why did one of science’s most iconic pioneers never win a Nobel Prize in Physics? The answer — unlike quantum mechanics — is relatively straightforward. Theoretical scientific discoveries have to be confirmed by observational data before there’s a possibility of winning a Nobel. And it’s somewhat difficult to observe a black hole. It takes decades to build the scientific equipment to test theoretical discoveries; to put this into context, Einstein’s theory of gravitational',\n",
       " 'context, Einstein’s theory of gravitational waves in space, which he first proposed in the 1920s, was only recently proven in 2016. One of Hawking’s most important finds was “Hawkings Radiation,” the theory that black holes are not completely black after all, but emit radiations that ultimately cause them to disappear. The issue is, the technology needed to observe this radiation will take years and cost millions before Hawking’s theory can ever be verified. Hawking never won a Nobel, but as an ambassador for the sciences his influence was profound, as shown by the world leaders and celebrities who took to',\n",
       " \"and celebrities who took to social media today to pay tribute. See a selection of tributes below. The world has lost a beautiful mind and a brilliant scientist. RIP Stephen Hawking His passing has left an intellectual vacuum in his wake. But it's not empty. Think of it as a kind of vacuum energy permeating the fabric of spacetime that defies measure. Stephen Hawking, RIP 1942-2018. pic.twitter.com/nAanMySqkt Professor Stephen Hawking was an outstanding scientist and academic. His grit and tenacity inspired people all over the world. His demise is anguishing. Professor Hawking’s pioneering work made our world a better place.\",\n",
       " 'our world a better place. May his soul rest in peace. In loving memory of Stephen Hawking. It was an honor to have him on The #BigBangTheory. Thank you for inspiring us and the world. pic.twitter.com/9rWoYqIToy Contact us at letters@time.comBy Flora CarrMarch 14, 2018 6:37 AM EDTProfessor Stephen Hawking, who died on Wednesday at the age of 76 at his home in Cambridge, England, was considered by many to be a once-in-a-generation genius.The author of A Brief History of Time, Hawking was a living legend in the field of cosmology. He was most famous for his studies on black holes',\n",
       " 'his studies on black holes and relativity, which revolutionized the way we see and study the universe. His work with Sir Roger Penrose on Einstein’s general theory of relativity showed that there was an implied beginning to space and time — the Big Bang — and an end, through black holes.However, for all his fame and impact on theoretical physics, his field’s most famous award eluded Hawking throughout his life. So why did one of science’s most iconic pioneers never win a Nobel Prize in Physics?The answer — unlike quantum mechanics — is relatively straightforward.Theoretical scientific discoveries have to be',\n",
       " 'scientific discoveries have to be confirmed by observational data before there’s a possibility of winning a Nobel. And it’s somewhat difficult to observe a black hole.It takes decades to build the scientific equipment to test theoretical discoveries; to put this into context, Einstein’s theory of gravitational waves in space, which he first proposed in the 1920s, was only recently proven in 2016.One of Hawking’s most important finds was “Hawkings Radiation,” the theory that black holes are not completely black after all, but emit radiations that ultimately cause them to disappear. The issue is, the technology needed to observe this radiation',\n",
       " \"needed to observe this radiation will take years and cost millions before Hawking’s theory can ever be verified.Hawking never won a Nobel, but as an ambassador for the sciences his influence was profound, as shown by the world leaders and celebrities who took to social media today to pay tribute. See a selection of tributes below.The world has lost a beautiful mind and a brilliant scientist. RIP Stephen Hawking— Sundar Pichai (@sundarpichai) March 14, 2018 His passing has left an intellectual vacuum in his wake. But it's not empty. Think of it as a kind of vacuum energy permeating the\",\n",
       " 'of vacuum energy permeating the fabric of spacetime that defies measure. Stephen Hawking, RIP 1942-2018. pic.twitter.com/nAanMySqkt— Neil deGrasse Tyson (@neiltyson) March 14, 2018 Professor Stephen Hawking was an outstanding scientist and academic. His grit and tenacity inspired people all over the world. His demise is anguishing. Professor Hawking’s pioneering work made our world a better place. May his soul rest in peace.— Narendra Modi (@narendramodi) March 14, 2018 In loving memory of Stephen Hawking. It was an honor to have him on The #BigBangTheory. Thank you for inspiring us and the world. pic.twitter.com/9rWoYqIToy— The Big Bang Theory (@bigbangtheory) March 14,',\n",
       " 'Bang Theory (@bigbangtheory) March 14, 2018 Sign Up for Our Ideas Newsletter POV SubscribeSubscribe Home U.S. Politics World Health Climate Future of Work by Charter Business Tech Entertainment Ideas Science History Sports Magazine TIME 2030 Next Generation Leaders TIME100 Leadership Series TIME Studios Video TIME100 Talks TIMEPieces The TIME Vault TIME for Health TIME for Kids TIME Edge TIMECO2 Red Border: Branded Content by TIME Coupons Personal Finance by TIME Stamped Shopping by TIME Stamped Newsletters Subscribe Give a Gift Shop the TIME Store TIME Cover Store Digital Magazine US & Canada Global Help Center Careers Press Room Contact the',\n",
       " 'Careers Press Room Contact the Editors Media Kit Reprints and Permissions About Us Privacy Policy Your Privacy Rights Terms of Use Modern Slavery Statement Site Map World Flora Carr Professor Stephen Hawking died on Einstein’s only recently proven took to social media today March 14, 2018 pic.twitter.com/nAanMySqkt March 14, 2018 March 14, 2018 #BigBangTheory pic.twitter.com/9rWoYqIToy March 14, 2018 Nayib Bukele’s ‘Iron Fist’ Friendship Last Forever? Read Political Polls Long COVID $129 Frying Pan ‘Friendshoring’ Made Southeast Asia Pivotal Your Cynicism Most Anticipated Books of Fall letters@time.com Edit Post Home U.S. Politics World Health Business Tech Personal Finance by TIME Stamped',\n",
       " 'Personal Finance by TIME Stamped Shopping by TIME Stamped Future of Work by Charter Entertainment Ideas Science History Sports Magazine The TIME Vault TIME For Kids TIMECO2 Coupons TIME Edge Video Masthead Newsletters Subscribe Digital Magazine Give a Gift Shop the TIME Store Careers Modern Slavery Statement Press Room TIME Studios U.S. & Canada Customer Care Global Help Center Contact the Editors Reprints and Permissions Site Map Media Kit Supplied Partner Content About Us Terms of Service Privacy Policy Your Privacy Rights',\n",
       " 'An appropriate representation of the requested resource could not be found on this server. This error was generated by Mod_Security.',\n",
       " 'See Definitions and Examples » Get Word of the Day daily email! Learn a new word every day. Delivered to your inbox! © 2024 Merriam-Webster, Incorporated Merriam-Webster Logo Games & Quizzes Games & Quizzes Word of the Day Grammar Wordplay Word Finder Thesaurus Join MWU Books Merch My Words Recents Account Log Out More Thesaurus Join MWU Books Merch Log In My Words Recents Account Log Out Word Finder apt Aptal Aptals aptamer Aptenodytes apter aptera apterae apteral apteran apteria apterial apteries apterium apterous aptery Apteryges apterygial Apterygiformes Apterygogenea Apterygota apterygote apterygotous apteryla apterylae apteryx apteryxes aptest aptha apthae Aptian',\n",
       " 'apteryxes aptest aptha apthae Aptian Aptiana apting aptitude aptitudes aptitudinal aptitudinally aptly aptness aptnesses aptronym aptronyms apts aptyalism aptychi aptychus Can you solve 4 words at once? Play Play Can you solve 4 words at once? Play Play Word of the Day gridiron See Definitions and Examples Merriam Webster Help About Us Advertising Info Contact Us Diversity Privacy Policy Terms of Use Facebook Twitter YouTube Instagram',\n",
       " \"The 2021 ICC Men's T20 World Cup was the seventh edition of the ICC Men's T20 World Cup, formerly known as the ICC World Twenty20, a Twenty20 cricket tournament that took place from 17 October to 14 November 2021.[2] The tournament was formally hosted by India, with matches played in Oman and the United Arab Emirates. It was scheduled to be hosted by Australia in 2020 but later postponed to 2021 due to the COVID-19 Pandemic. The tournament was scheduled to be held in Australia from 18 October to 15 November 2020. Due to the COVID-19 pandemic, the tournament was\",\n",
       " 'COVID-19 pandemic, the tournament was postponed to 2021, and relocated to India due to Australian entry restrictions; Australia would be awarded the 2022 tournament instead. Due to concerns over the COVID-19 pandemic situation in India, the tournament was re-located to sites in the United Arab Emirates and Oman, with the Board of Control for Cricket in India (BCCI) remaining the official hosts. The West Indies were the defending champions,[3][4] but were eventually eliminated in the Super 12 stage.[5] New Zealand became the first team to reach the final, after they beat England by five wickets in the semi-finals.[6] It was',\n",
       " 'in the semi-finals.[6] It was the first time that New Zealand had qualified for a T20 World Cup final.[7] They were joined in the final by Australia, who beat Pakistan by five wickets in the second semi-final.[8] It was the second time that Australia had qualified for the final of the T20 World Cup, after reaching the final of the 2010 tournament.[9] In the final, Australia beat New Zealand by eight wickets to win their first T20 World Cup.[10] Mitchell Marsh was named the Player of the Match,[11] with David Warner being named the Player of the Tournament.[12] Australia were',\n",
       " 'of the Tournament.[12] Australia were first awarded the tournament in February 2015, with New Zealand expected to co-host. It would have been the first time that Australia would host the ICC World Twenty20. The tournament was provisionally scheduled to be held from 18 October to 15 November 2020.[13][14][15] Prior to the 2018 ICC Women\\'s World Twenty20 final, the ICC announced that the men\\'s and women\\'s World Twenty20 would be rebranded as the \"ICC T20 World Cup\" beginning in 2020, as part of a goal to heighten its profile alongside the ICC\\'s world championships for other formats (the Cricket World Cup',\n",
       " 'formats (the Cricket World Cup for ODI, and ICC World Test Championship).[16][17] In April 2020, the ICC confirmed that despite the COVID-19 pandemic, the tournament was still planned to go ahead as scheduled.[18][19] However, the following month a senior ICC official said that it would be \"too big a risk\" to host the tournament in 2020,[20] The ICC also stated that reports of postponing the tournament were inaccurate, with multiple contingency plans being looked at.[21] A decision on the tournament was originally deferred until the ICC\\'s meeting on 10 June 2020,[22] with a further announcement scheduled to be made in',\n",
       " 'scheduled to be made in July 2020.[23] In June 2020, Earl Eddings, the chairman of Cricket Australia, said that it was \"unlikely\" and \"unrealistic\" that the tournament would take place in Australia as scheduled. Eddings also suggested that Australia could host the event in October 2021, and India stage the tournament a year later in 2022. The ICC also considered moving the tournament to be played around the next Women\\'s Cricket World Cup, which was originally scheduled to take place in New Zealand for February 2021.[24] A month before the official postponement, Australian federal tourism minister Simon Birmingham announced that',\n",
       " \"minister Simon Birmingham announced that the Australian government expected that the country's borders would be closed to international travel until 2021.[25] The ICC also confirmed that either Australia or India, the hosts for the tournaments originally scheduled to take place in 2020 and 2021 respectively, would host this tournament.[26][27] In August 2020, the ICC confirmed that India are expected to host the 2021 tournament, with Australia expected to the 2022 tournament.[28] In the same month, the ICC confirmed that Sri Lanka and the United Arab Emirates were being considered as back-up venues for the tournament.[29] In April 2021, the ICC's\",\n",
       " \"In April 2021, the ICC's CEO Geoff Allardice confirmed that back-up plans were still in place if India were unable to host the tournament due to the pandemic.[30] Later the same month, Dhiraj Malhotra of the Board of Control for Cricket in India (BCCI) confirmed that the UAE would be used as a contingency,[31] if the pandemic in India continued to get worse.[32] The BCCI were also in talks with Oman as a potential co-host of the tournament.[33] On 1 June 2021, the ICC gave the BCCI the deadline of 28 June 2021 to make its decision on where the\",\n",
       " 'its decision on where the tournament would be played.[34] Regardless of the actual location of the tournament, the ICC also confirmed that the BCCI would remain as the hosts of the competition.[35] Later, the ICC confirmed that the tournament had been moved to the UAE and Oman.[36] It was the first time for both the UAE and Oman to be hosting a global ICC event, and also the first occasion that a cricket World Cup was held entirely outside of the Test-playing nations.[37] Less than two weeks before the start of the tournament, Oman was impacted by Cyclone Shaheen which',\n",
       " 'impacted by Cyclone Shaheen which passed only a few miles north of the tournament venue in Al-Amerat. Pankaj Khimji, chairman of Oman Cricket, stated that \"we were so close to being virtually wiped out [...] had this had happened over here in this area, I\\'d have said goodbye to the World Cup\".[38] Teams from every ICC Region : As of 31 December 2018, the top nine ranked ICC Full Members, alongside hosts India, qualified directly for the 2021 tournament.[39][40] Of those ten teams, the top eight ranked sides qualified for the Super 12s stage of the tournament.[39] Sri Lanka and',\n",
       " \"the tournament.[39] Sri Lanka and Bangladesh did not qualify for the Super 12s, instead being placed in the group stage of the competition.[39] They were joined by the six teams who had qualified for the tournament via the 2019 ICC T20 World Cup Qualifier.[39] Of the teams in the ICC Men's T20I Team Rankings, the United Arab Emirates and Nepal could only qualify through regional competitions.[15] The top four teams from the group stage advanced to the Super 12s.[39] Papua New Guinea were the first team to secure their position via the Qualifier, after they won Group A of the\",\n",
       " 'won Group A of the tournament, finishing above the Netherlands on net run rate.[41] It was the first time that Papua New Guinea had qualified for a World Cup in any format.[42] Ireland became the second team to qualify via this route after they won Group B, also on net run rate.[43] In the first match in the playoffs, the Netherlands qualified for the T20 World Cup when they beat the United Arab Emirates by eight wickets, after the UAE only scored 80 runs in their innings.[44] The second qualifier match saw Namibia advance to their first T20 World Cup',\n",
       " \"their first T20 World Cup after beating Oman by 54 runs.[45] Scotland beat tournament hosts the United Arab Emirates in the third qualifier by 90 runs to secure their place in the T20 World Cup.[46] Oman became the final team to qualify for the T20 World Cup, when they beat Hong Kong by 12 runs in the last playoff match.[47] In August 2021, concerns and doubts were raised over the participation of Afghanistan cricket team in the tournament ever since Afghanistan was brought under the control of the Taliban.[48] Afghanistan's team media manager Hikmat Hassan confirmed that Afghanistan would play\",\n",
       " \"confirmed that Afghanistan would play in the T20 World Cup, despite the political turmoil in the country.[49] On 6 October 2021, the Afghanistan team left Kabul, travelling to Doha, Qatar, for a training camp before the start of the tournament.[50] On 7 October 2021, the ICC named the match referees and the on-field umpires for the tournament.[51][52] For the Super 12 match between India and New Zealand, umpire Michael Gough was replaced by Marais Erasmus after Gough was suspended for six days for breaching the tournament's bio-secure bubble.[53] On 3 November 2021, the ICC confirmed that Gough would not officiate\",\n",
       " 'that Gough would not officiate in any further matches in the tournament.[54] On 9 November 2021, the match officials were confirmed for the semi-final matches,[55] with the officials for the final being confirmed on 12 November 2021.[56] Match referees Umpires Each team selected a squad of 15 players before 10 October 2021.[57] Each team was also able to select up to seven additional players, if needed, with regards to COVID-19.[58] On 10 August 2021, New Zealand were the first team to announce their squad for the tournament.[59] All the teams announced their preliminary squads by 12 September 2021.[60] With a',\n",
       " '12 September 2021.[60] With a total of 45 matches, the T20 World Cup was composed of two rounds. Round 1 had twelve matches played between eight teams (Bangladesh, Sri Lanka, Ireland, Netherlands, Scotland, Namibia, Oman and Papua New Guinea), with the top four teams progressing to the Super 12s.[61] The Super 12s consisted of 30 matches between the four teams from Round 1 and the top eight ranked T20I teams. Originally, if Sri Lanka or Bangladesh qualified from their first round groups, they would have retained their respective seedings of A1 or B1 for the Super 12s.[62] However, the ICC',\n",
       " 'Super 12s.[62] However, the ICC later changed this rule, after Scotland topped Group B and progressed as B1.[63] Those teams were then split into two groups of six each. This was then followed by the two semi-finals and then the final.[64] On 16 July 2021, the ICC confirmed the groups for the tournament,[65] which were decided on the rankings of the teams as of 20 March 2021.[66] On 17 August 2021, the ICC confirmed the final fixtures for the tournament including the first round and super 12 matches.[67] The ICC named all of the official broadcasters for the tournament on',\n",
       " 'broadcasters for the tournament on its website, including details on television coverage, digital content for in-match clips and highlights, and audio listings.[68] The official anthem of the tournament was released on 14 October 2021, by Sony Music India.[69] On 17 April 2021, the BCCI proposed the name of the cities which are scheduled to be hosting the matches.[70] Bangalore, Chennai, Dharamshala, Hyderabad, Kolkata, Lucknow, Mumbai, and New Delhi were the venues along with Ahmedabad, hosting the final of the event.[71] On 18 April 2021, it was announced that Pakistan would play two of their group matches in Delhi, while Mumbai',\n",
       " 'matches in Delhi, while Mumbai and Kolkata would host the semi-finals.[72] On 28 June 2021, BCCI President Sourav Ganguly confirmed that due to the COVID-19 situation in the country the board has officially communicated to the ICC about their decision to move the event from India to the UAE.[73] Some of the preliminary round matches of the event were also set to be held in Oman.[74][75] On 29 June 2021, the ICC confirmed that the T20 World Cup would be played in the UAE and Oman.[76] The tournament took place in four venues: the Dubai International Cricket Stadium, the Sheikh',\n",
       " \"International Cricket Stadium, the Sheikh Zayed Cricket Stadium, the Sharjah Cricket Stadium, and the Oman Cricket Academy Ground.[77] During July 2021, the Tolerance Oval in Abu Dhabi was awaiting accreditation by the ICC to also be used as one of the venues for the tournament.[78] On 10 October 2021, the ICC announced the prize money for the tournament.[83] The following warm-up matches for the 2021 ICC Men's T20 World Cup were played between 12 and 20 October between all participants.[84] The first set of matches featured the teams from the groups in the first round of the main tournament, before\",\n",
       " 'of the main tournament, before the teams in the Super 12 phase played their warm-up matches.[85] These matches did not have either Twenty20 International (T20I) status or T20 status as teams were allowed to field all 15 members of their squad. The leading run-scorer in the tournament was Babar Azam, with 303. The leading wicket-taker was Wanindu Hasaranga, who took 16 dismissals, the most by a bowler in a single edition of the T20 World Cup.[128] On 14 November 2021, the ICC announced its team of the tournament, with David Warner being named as player of the tournament and Babar',\n",
       " 'of the tournament and Babar Azam as the captain of the team.[131] Jump to content Main page Contents Current events Random article About Wikipedia Contact us Donate Help Learn to edit Community portal Recent changes Upload file Search Create account Log in Create account Log in learn more Contributions Talk (Top) 1 Background 2 Teams and qualification 3 Match officials 4 Squads 5 Schedule and broadcasting 6 Venues 7 Prize money 8 Warm-up matches 8.1 First round warm-ups 8.2 Super 12 warm-ups 9 First round 9.1 Group A 9.2 Group B 10 Super 12 10.1 Group 1 10.2 Group 2',\n",
       " 'Group 1 10.2 Group 2 11 Knockout stage 11.1 Semi-finals 11.2 Final 12 Statistics 12.1 Most runs 12.2 Most wickets 13 Team of the tournament 14 Notes 15 References 16 External links Afrikaans বাংলা Deutsch Français हिन्दी Bahasa Indonesia Italiano मराठी مصرى नेपाली ਪੰਜਾਬੀ پنجابی ᱥᱟᱱᱛᱟᱲᱤ සිංහල Svenska தமிழ் తెలుగు اردو Edit links Article Talk Read Edit View history Read Edit View history What links here Related changes Upload file Special pages Permanent link Page information Cite this page Get shortened URL Download QR code Wikidata item Download as PDF Printable version Wikimedia Commons International Cricket Council Twenty20 International Group',\n",
       " \"Cricket Council Twenty20 International Group stage knockout United Arab Emirates Oman Australia New Zealand [1] David Warner Babar Azam Wanindu Hasaranga t20worldcup.com 2016 India Australia 2022 ICC Men's T20 World Cup Twenty20 cricket [2] India Oman United Arab Emirates COVID-19 pandemic 2022 tournament COVID-19 pandemic situation in India Board of Control for Cricket in India West Indies [3] [4] [5] New Zealand England [6] New Zealand [7] Australia Pakistan [8] 2010 tournament [9] Australia New Zealand [10] Mitchell Marsh Player of the Match [11] David Warner [12] edit [13] [14] [15] 2018 ICC Women's World Twenty20 final Cricket World Cup\",\n",
       " \"Twenty20 final Cricket World Cup ODI ICC World Test Championship [16] [17] COVID-19 pandemic [18] [19] [20] [21] [22] [23] Cricket Australia Women's Cricket World Cup [24] Simon Birmingham [25] [26] [27] 2022 [28] [29] Geoff Allardice [30] Board of Control for Cricket in India [31] pandemic in India [32] [33] [34] [35] [36] Test-playing nations [37] Cyclone Shaheen Oman Cricket [38] edit 2019 ICC Men's T20 World Cup Qualifier ICC Africa Namibia South Africa Americas West Indies Asia Afghanistan Bangladesh India Oman Pakistan Sri Lanka East Asia-Pacific Australia New Zealand Papua New Guinea Europe England Ireland Netherlands Scotland Full\",\n",
       " \"England Ireland Netherlands Scotland Full Members [39] [40] [39] Sri Lanka Bangladesh [39] 2019 ICC T20 World Cup Qualifier [39] ICC Men's T20I Team Rankings United Arab Emirates Nepal [15] [39] Papua New Guinea Netherlands net run rate [41] [42] Ireland [43] [44] [45] [46] [47] Afghanistan was brought under the control of the Taliban [48] [49] Doha [50] India [a] ICC Men's T20I Team Rankings [39] Afghanistan Australia Bangladesh England New Zealand Pakistan South Africa Sri Lanka West Indies 2019 ICC Men's T20 World Cup Qualifier United Arab Emirates Ireland Namibia Netherlands Oman [b] Papua New Guinea Scotland edit\",\n",
       " \"Papua New Guinea Scotland edit [51] [52] Michael Gough Marais Erasmus bio-secure bubble [53] [54] [55] [56] David Boon Jeff Crowe Ranjan Madugalle Javagal Srinath Chris Brown Aleem Dar Kumar Dharmasena Marais Erasmus Chris Gaffaney Michael Gough Adrian Holdstock Richard Illingworth Richard Kettleborough Nitin Menon Ahsan Raza Paul Reiffel Langton Rusere Rod Tucker Joel Wilson Paul Wilson edit 2021 ICC Men's T20 World Cup squads [57] COVID-19 [58] [59] [60] edit Bangladesh Sri Lanka Ireland Netherlands Scotland Namibia Oman Papua New Guinea [61] [62] [63] [64] [65] [66] first round super 12 [67] [68] Sony Music India [69] edit [70]\",\n",
       " 'Music India [69] edit [70] Bangalore Chennai Dharamshala Hyderabad Kolkata Lucknow Mumbai New Delhi Ahmedabad [71] Delhi Mumbai Kolkata [72] Sourav Ganguly [73] [74] [75] [76] Dubai International Cricket Stadium Sheikh Zayed Cricket Stadium Sharjah Cricket Stadium Oman Cricket Academy Ground [77] Tolerance Oval Abu Dhabi [78] Dubai Sharjah Abu Dhabi Muscat Dubai International Cricket Stadium Sharjah Cricket Stadium Sheikh Zayed Cricket Stadium Oman Cricket Academy Ground [79] [80] [81] [82] Dubai Sharjah Abu Dhabi class=notpageimage| Muscat class=notpageimage| edit [83] edit [84] [85] Twenty20 International T20 UTC+04:00 edit Scorecard Papua New Guinea Ireland Assad Vala Ben White Curtis Campher *',\n",
       " 'Ben White Curtis Campher * Simon Atai Sheikh Zayed Stadium Nursery 2 Abu Dhabi Ahsan Raza Rod Tucker N Scorecard Bangladesh Sri Lanka Soumya Sarkar Dushmantha Chameera Avishka Fernando * Soumya Sarkar Tolerance Oval Abu Dhabi Marais Erasmus Langton Rusere N Scorecard Oman Namibia Aqib Ilyas Jan Nicol Loftie-Eaton Gerhard Erasmus Kaleemullah The Sevens Stadium Dubai Adrian Holdstock Richard Kettleborough N Scorecard Scotland Netherlands Calum MacLeod * Timm van der Gugten Scott Edwards Mark Watt Sheikh Zayed Stadium Nursery 2 Abu Dhabi Kumar Dharmasena Paul Wilson Scorecard Ireland Bangladesh Gareth Delany * Taskin Ahmed Nurul Hasan Mark Adair Sheikh Zayed',\n",
       " 'Hasan Mark Adair Sheikh Zayed Stadium Nursery 2 Abu Dhabi Aleem Dar Rod Tucker Scorecard Sri Lanka Papua New Guinea Pathum Nissanka Kabua Morea Assad Vala Wanindu Hasaranga Tolerance Oval Abu Dhabi Langton Rusere Joel Wilson Scorecard Scotland Namibia George Munsey David Wiese Craig Williams Mark Watt ICC Academy Ground Dubai Chris Brown Paul Wilson Scorecard Netherlands Oman Stephan Myburgh Zeeshan Maqsood Aqib Ilyas Vivian Kingma ICC Academy Ground Dubai Adrian Holdstock Paul Reiffel edit Scorecard South Africa Afghanistan Aiden Markram Mujeeb Ur Rahman Mohammad Nabi * Tabraiz Shamsi Tolerance Oval Abu Dhabi Langton Rusere Paul Wilson Scorecard West Indies',\n",
       " 'Paul Wilson Scorecard West Indies Pakistan Shimron Hetmyer Hasan Ali Babar Azam Hayden Walsh Jr. ICC Academy Ground Dubai Chris Brown Richard Illingworth N Scorecard New Zealand Australia Kane Williamson Kane Richardson Steve Smith Mitchell Santner Tolerance Oval Abu Dhabi Michael Gough Nitin Menon N Scorecard England India Jonny Bairstow Mohammed Shami Ishan Kishan * Liam Livingstone ICC Academy Ground Dubai Aleem Dar Joel Wilson Scorecard England New Zealand Jos Buttler Ish Sodhi Martin Guptill Mark Wood Tolerance Oval Abu Dhabi Marais Erasmus Adrian Holdstock Scorecard Australia India Steve Smith Ravichandran Ashwin Rohit Sharma Ashton Agar ICC Academy Ground Dubai',\n",
       " \"Agar ICC Academy Ground Dubai Richard Illingworth Joel Wilson N Scorecard Pakistan South Africa Fakhar Zaman Kagiso Rabada Rassie van der Dussen * Imad Wasim Tolerance Oval Abu Dhabi Paul Reiffel Rod Tucker N Scorecard Afghanistan West Indies Hazratullah Zazai Obed McCoy Roston Chase * Mohammad Nabi ICC Academy Ground Dubai Chris Brown Aleem Dar edit UTC+04:00 Rankings Bangladesh Sri Lanka Qualifier Ireland Namibia Netherlands Oman Papua New Guinea Scotland edit v t e NRR Sri Lanka Super 12 Namibia Ireland Netherlands CricketArchive Scorecard Netherlands Ireland Max O'Dowd Curtis Campher Gareth Delany Pieter Seelaar Sheikh Zayed Cricket Stadium Abu Dhabi\",\n",
       " \"Zayed Cricket Stadium Abu Dhabi Marais Erasmus Rod Tucker Curtis Campher Curtis Campher hat-trick in T20Is [86] [87] N Scorecard Namibia Sri Lanka Craig Williams Maheesh Theekshana Bhanuka Rajapaksa * JJ Smit Sheikh Zayed Cricket Stadium Abu Dhabi Adrian Holdstock Paul Reiffel Maheesh Theekshana Scorecard Netherlands Namibia Max O'Dowd Jan Frylinck David Wiese * Pieter Seelaar Sheikh Zayed Cricket Stadium Abu Dhabi Michael Gough Langton Rusere David Wiese N Scorecard Sri Lanka Ireland Wanindu Hasaranga Josh Little Andrew Balbirnie Maheesh Theekshana Sheikh Zayed Cricket Stadium Abu Dhabi Nitin Menon Paul Wilson Wanindu Hasaranga [88] [89] Scorecard Ireland Namibia Paul Stirling\",\n",
       " 'Scorecard Ireland Namibia Paul Stirling Jan Frylinck Gerhard Erasmus * Curtis Campher Sharjah Cricket Stadium Sharjah Chris Brown Aleem Dar David Wiese [90] [91] N Scorecard Netherlands Sri Lanka Colin Ackermann Lahiru Kumara Kusal Perera * Brandon Glover Sharjah Cricket Stadium Sharjah Richard Illingworth Joel Wilson Lahiru Kumara edit v t e NRR Scotland Super 12 Bangladesh Oman Papua New Guinea CricketArchive Scorecard Papua New Guinea Oman Assad Vala Zeeshan Maqsood Jatinder Singh * Oman Cricket Academy Ground Muscat Kumar Dharmasena Chris Gaffaney Zeeshan Maqsood Ayaan Khan Kashyap Prajapati N Scorecard Scotland Bangladesh Chris Greaves Mahedi Hasan Mushfiqur Rahim Brad',\n",
       " 'Mahedi Hasan Mushfiqur Rahim Brad Wheal Oman Cricket Academy Ground Muscat Richard Kettleborough Ahsan Raza Chris Greaves Shakib Al Hasan leading wicket-taker in T20Is [92] Scorecard Scotland Papua New Guinea Richie Berrington Kabua Morea Norman Vanua Josh Davey Oman Cricket Academy Ground Muscat Kumar Dharmasena Richard Kettleborough Richie Berrington N Scorecard Bangladesh Oman Mohammad Naim Bilal Khan Jatinder Singh Mustafizur Rahman Oman Cricket Academy Ground Muscat Chris Gaffaney Ahsan Raza Shakib Al Hasan Scorecard Bangladesh Papua New Guinea Mahmudullah Assad Vala Kiplin Doriga * Shakib Al Hasan Oman Cricket Academy Ground Muscat Kumar Dharmasena Richard Kettleborough Shakib Al Hasan biggest',\n",
       " 'Kettleborough Shakib Al Hasan biggest winning margin [93] [94] [95] N Scorecard Oman Scotland Aqib Ilyas Josh Davey Kyle Coetzer Fayyaz Butt Oman Cricket Academy Ground Muscat Chris Gaffaney Ahsan Raza Josh Davey [96] [97] edit Rankings Afghanistan Australia England India New Zealand Pakistan South Africa West Indies first round Bangladesh Namibia Scotland Sri Lanka UTC+04:00 edit v t e NRR England knockout stage Australia South Africa Sri Lanka West Indies Bangladesh ESPN Cricinfo Scorecard South Africa Australia Aiden Markram Josh Hazlewood Steve Smith Anrich Nortje Sheikh Zayed Cricket Stadium Abu Dhabi Michael Gough Nitin Menon Josh Hazlewood N Scorecard',\n",
       " \"Menon Josh Hazlewood N Scorecard West Indies England Chris Gayle Adil Rashid Jos Buttler * Akeal Hosein Dubai International Cricket Stadium Dubai Aleem Dar Marais Erasmus Moeen Ali Full Member [98] N Scorecard Bangladesh Sri Lanka Mohammad Naim Chamika Karunaratne Charith Asalanka * Shakib Al Hasan Sharjah Cricket Stadium Sharjah Adrian Holdstock Joel Wilson Charith Asalanka Shakib Al Hasan leading wicket-taker in men's T20 World Cup matches [99] Scorecard West Indies South Africa Evin Lewis Dwaine Pretorius Aiden Markram * Akeal Hosein Dubai International Cricket Stadium Dubai Aleem Dar Paul Reiffel Anrich Nortje Scorecard Bangladesh England Mushfiqur Rahim Tymal Mills\",\n",
       " 'England Mushfiqur Rahim Tymal Mills Jason Roy Nasum Ahmed Sheikh Zayed Cricket Stadium Abu Dhabi Nitin Menon Langton Rusere Jason Roy N Scorecard Sri Lanka Australia Kusal Perera Adam Zampa David Warner Wanindu Hasaranga Dubai International Cricket Stadium Dubai Aleem Dar Richard Illingworth Adam Zampa Scorecard West Indies Bangladesh Nicholas Pooran Shoriful Islam Litton Das Jason Holder Sharjah Cricket Stadium Sharjah Adrian Holdstock Rod Tucker Nicholas Pooran Roston Chase Scorecard Sri Lanka South Africa Pathum Nissanka Tabraiz Shamsi Temba Bavuma Wanindu Hasaranga Sharjah Cricket Stadium Sharjah Joel Wilson Paul Wilson Tabraiz Shamsi Wanindu Hasaranga take a hat-trick [100] N Scorecard',\n",
       " 'a hat-trick [100] N Scorecard Australia England Aaron Finch Chris Jordan Jos Buttler * Ashton Agar Dubai International Cricket Stadium Dubai Marais Erasmus Nitin Menon Chris Jordan N Scorecard England Sri Lanka Jos Buttler * Wanindu Hasaranga Wanindu Hasaranga Moeen Ali Sharjah Cricket Stadium Sharjah Adrian Holdstock Rod Tucker Jos Buttler Jos Buttler [101] Wanindu Hasaranga [102] Eoin Morgan most successful captain in T20Is [103] Scorecard Bangladesh South Africa Mahedi Hasan Anrich Nortje Temba Bavuma * Taskin Ahmed Sheikh Zayed Cricket Stadium Abu Dhabi Richard Illingworth Paul Reiffel Kagiso Rabada [104] Scorecard Bangladesh Australia Shamim Hossain Adam Zampa Aaron Finch',\n",
       " 'Hossain Adam Zampa Aaron Finch Shoriful Islam Dubai International Cricket Stadium Dubai Kumar Dharmasena Nitin Menon Adam Zampa Adam Zampa five-wicket haul in T20Is [105] N Scorecard Sri Lanka West Indies Charith Asalanka Andre Russell Shimron Hetmyer * Wanindu Hasaranga Sheikh Zayed Cricket Stadium Abu Dhabi Aleem Dar Langton Rusere Charith Asalanka [106] Scorecard West Indies Australia Kieron Pollard Josh Hazlewood David Warner * Chris Gayle Sheikh Zayed Cricket Stadium Abu Dhabi Richard Illingworth Langton Rusere David Warner N Scorecard South Africa England Rassie van der Dussen * Moeen Ali Moeen Ali Kagiso Rabada Sharjah Cricket Stadium Sharjah Chris Brown',\n",
       " 'Cricket Stadium Sharjah Chris Brown Joel Wilson Rassie van der Dussen Kagiso Rabada hat-trick in T20Is [107] [108] [109] edit v t e NRR Pakistan knockout stage New Zealand India Afghanistan Namibia Scotland ESPN Cricinfo N Scorecard India Pakistan Virat Kohli Shaheen Afridi Mohammad Rizwan * Dubai International Cricket Stadium Dubai Marais Erasmus Chris Gaffaney Shaheen Afridi India and Pakistan [110] Cricket World Cup T20 World Cup [111] lost by 10 wickets in T20Is [112] N Scorecard Afghanistan Scotland Najibullah Zadran Safyaan Sharif George Munsey Mujeeb Ur Rahman Sharjah Cricket Stadium Sharjah Kumar Dharmasena Paul Wilson Mujeeb Ur Rahman Mujeeb',\n",
       " 'Wilson Mujeeb Ur Rahman Mujeeb Ur Rahman five-wicket haul in T20Is [113] Mujeeb Ur Rahman take a five-wicket haul [114] biggest winning margin in T20Is [115] N Scorecard New Zealand Pakistan Daryl Mitchell Haris Rauf Mohammad Rizwan Ish Sodhi Sharjah Cricket Stadium Sharjah Michael Gough Richard Kettleborough Haris Rauf Tim Southee 100th wicket in T20Is [116] N Scorecard Scotland Namibia Michael Leask Ruben Trumpelmann JJ Smit * Michael Leask Sheikh Zayed Cricket Stadium Abu Dhabi Adrian Holdstock Rod Tucker Ruben Trumpelmann N Scorecard Afghanistan Pakistan Gulbadin Naib * Imad Wasim Babar Azam Rashid Khan Dubai International Cricket Stadium Dubai Chris',\n",
       " 'International Cricket Stadium Dubai Chris Brown Joel Wilson Asif Ali Rashid Khan 100 wickets in T20Is [117] Babar Azam [118] Scorecard Afghanistan Namibia Mohammad Shahzad Jan Nicol Loftie-Eaton David Wiese Hamid Hassan Sheikh Zayed Cricket Stadium Abu Dhabi Chris Gaffaney Ahsan Raza Naveen-ul-Haq Mohammad Shahzad score 2,000 runs in T20Is [119] N Scorecard India New Zealand Ravindra Jadeja * Trent Boult Daryl Mitchell Jasprit Bumrah Dubai International Cricket Stadium Dubai Marais Erasmus Richard Kettleborough Ish Sodhi N Scorecard Pakistan Namibia Mohammad Rizwan * David Wiese David Wiese * Imad Wasim Sheikh Zayed Cricket Stadium Abu Dhabi Chris Brown Chris Gaffaney',\n",
       " 'Dhabi Chris Brown Chris Gaffaney Mohammad Rizwan [120] Scorecard New Zealand Scotland Martin Guptill Safyaan Sharif Michael Leask * Trent Boult Dubai International Cricket Stadium Dubai Marais Erasmus Ahsan Raza Martin Guptill Martin Guptill score 3,000 runs in T20Is [121] [122] N Scorecard India Afghanistan Rohit Sharma Karim Janat Karim Janat * Mohammed Shami Sheikh Zayed Cricket Stadium Abu Dhabi Richard Kettleborough Paul Reiffel Rohit Sharma Scorecard New Zealand Namibia Glenn Phillips * Bernard Scholtz Michael van Lingen Tim Southee Sharjah Cricket Stadium Sharjah Paul Reiffel Paul Wilson James Neesham [123] N Scorecard Scotland India George Munsey Mohammed Shami KL',\n",
       " 'George Munsey Mohammed Shami KL Rahul Mark Watt Dubai International Cricket Stadium Dubai Marais Erasmus Rod Tucker Ravindra Jadeja KL Rahul Scorecard Afghanistan New Zealand Najibullah Zadran Trent Boult Kane Williamson * Rashid Khan Sheikh Zayed Cricket Stadium Abu Dhabi Kumar Dharmasena Langton Rusere Trent Boult Rashid Khan [124] [125] [126] N Scorecard Pakistan Scotland Babar Azam Chris Greaves Richie Berrington * Shadab Khan Sharjah Cricket Stadium Sharjah Rod Tucker Paul Wilson Shoaib Malik Shoaib Malik N Scorecard Namibia India David Wiese Ravindra Jadeja Rohit Sharma Jan Frylinck Dubai International Cricket Stadium Dubai Chris Brown Richard Illingworth Ravindra Jadeja Virat',\n",
       " \"Richard Illingworth Ravindra Jadeja Virat Kohli 50th time in T20Is [127] edit England New Zealand New Zealand Australia Pakistan Australia edit N Scorecard England New Zealand Moeen Ali * James Neesham Daryl Mitchell * Liam Livingstone Sheikh Zayed Cricket Stadium Abu Dhabi Kumar Dharmasena Marais Erasmus Daryl Mitchell N Scorecard Pakistan Australia Mohammad Rizwan Mitchell Starc David Warner Shadab Khan Dubai International Cricket Stadium Dubai Chris Gaffaney Richard Kettleborough Matthew Wade edit 2021 ICC Men's T20 World Cup Final N Scorecard New Zealand Australia Kane Williamson Josh Hazlewood Mitchell Marsh * Trent Boult Dubai International Cricket Stadium Dubai Marais Erasmus\",\n",
       " 'Cricket Stadium Dubai Marais Erasmus Richard Kettleborough Mitchell Marsh edit Babar Azam Wanindu Hasaranga [128] edit Average Babar Azam David Warner * Mohammad Rizwan * Jos Buttler * Charith Asalanka * [129] edit Wanindu Hasaranga Adam Zampa Trent Boult Shakib Al Hasan Josh Hazlewood [130] edit player of the tournament [131] David Warner Jos Buttler Babar Azam Charith Asalanka Aiden Markram Moeen Ali Wanindu Hasaranga Adam Zampa Josh Hazlewood Trent Boult Anrich Nortje Shaheen Afridi edit ^ ^ edit ^ \"Ganguly, Sawhney and Shah get countdown to ICC Men\\'s T20 World Cup 2021 underway\" ^ \"World T20 to be called',\n",
       " '\"World T20 to be called T20 World Cup from 2020 edition: ICC\" The Times of India Archived ^ \"Brathwaite sixes take WI to thrilling title win\" ^ \"World Twenty20: West Indies beat England to claim second title\" ^ \"T20 World Cup: Holders West Indies eliminated after Sri Lanka defeat\" ^ \"Daryl Mitchell stars as Black Caps surge late to stun England in T20 World Cup semifinal\" ^ \"By the Numbers: New Zealand\\'s incredible chase\" ^ \"Wade, Stoinis pull off sensational heist to put Australia in final\" ^ \"Late fireworks sends Aussies into WC final\" ^ \"Marsh and Warner take Australia',\n",
       " '\"Marsh and Warner take Australia to T20 World Cup glory\" ^ \"Magical Marsh innings fires Australia to maiden ICC Men\\'s T20 World Cup crown\" ^ \"Champions! Marsh\\'s finest hour leads Aussies to glory\" ^ \"Australia and New Zealand to host World Twenty20 in 2020\" Archived ^ \"IPL now has window in ICC Future Tours Programme\" Archived a b \"The road to the men\\'s ICC World T20 Australia 2020 heads to Kuwait as regional qualification groups are confirmed\" Archived ^ \"World T20 renamed as T20 World Cup\" Archived ^ \"ICC renames global T20 tournament\" ^ \"ICC update following Chief Executives\\' meeting\"',\n",
       " 'update following Chief Executives\\' meeting\" ^ \"Men\\'s T20 World Cup and Women\\'s 50-over World Cup plans ongoing – ICC\" ^ \"T20 World Cup would be \\'too big a risk\\' in 2020\" ^ \"ICC statement on election of next Chair\" ^ \"ICC defers decision on 2020 T20 World Cup to June 10\" ^ \"ICC Board update\" ^ \"T20 World Cup \\'unrealistic\\' and \\'unlikely\\' this year – Cricket Australia chairman\" ^ \"Australian borders likely to stay closed until next year, Tourism Minister says\" Australian Broadcasting Corporation ^ \"ICC Men\\'s T20 World Cup in Australia postponed\" ^ \"World Cup call paves the way',\n",
       " 'Cup call paves the way for summer like no other\" ^ \"Men\\'s T20WC 2021 in India, 2022 in Australia; Women\\'s CWC postponed\" International Cricket Council ^ \"Sri Lanka, UAE among back-up venues for 2021 T20 World Cup\" ^ \"ICC CEO Geoff Allardice: \\'Back-up plans\\' in place if India cannot host T20 World Cup\" ^ \"T20 World Cup could be moved to United Arab Emirates, says BCCI\" ^ \"BCCI mulls moving T20 World Cup to UAE in \\'worst case scenario\\'\" ^ \"Oman in the fray to co-host T20 World Cup\" ^ \"ICC gives BCCI June 28 deadline for T20 World Cup',\n",
       " 'deadline for T20 World Cup decision\" ^ \"ICC announces expansion of global events\" ^ \"ICC Men\\'s T20 World Cup shifted to UAE, Oman\" ^ \"T20 World Cup will move to UAE and Oman, confirms ICC\" Archived ^ \"Oman faced losing cricket World Cup due to Cyclone Shaheen\" a b c d e f \"Direct qualifiers for ICC Men\\'s T20 World Cup 2020 confirmed\" Archived ^ \"Afghanistan earn direct qualification in 2020 T20 World Cup\" Archived ^ \"Vanua, Bau dig PNG out of 19 for 6 hole to seal T20 World Cup qualification\" Archived ^ \"PNG make history, secure qualification for',\n",
       " 'make history, secure qualification for Men\\'s T20 World Cup 2020\" Archived ^ \"Ireland qualify for T20 World Cup after Jersey shock Oman\" ^ \"UAE beaten by Netherlands as T20 World Cup hopes hang in the balance\" Archived ^ \"Smit, spinners carry Namibia to historic first T20 World Cup\" Archived ^ \"T20 World Cup Qualifier: Scotland beat UAE to qualify for finals\" Archived ^ \"Oman come from behind against Hong Kong to claim T20 World Cup spot\" Archived ^ \"\\'Afghanistan Will Play in ICC Men\\'s T20 World Cup 2021\\'\" ^ \"Afghanistan will play T20 World Cup, preparations are on: Media manager\"',\n",
       " 'preparations are on: Media manager\" ^ \"Andy Flower named Afghanistan consultant for T20 World Cup\" ^ \"20-strong contingent of match officials announced for ICC Men\\'s T20 World Cup 2021\" ^ \"ICC T20 World Cup 2021 Match Official Appointments\" ^ \"Umpire Michael Gough serves six-day suspension for bubble breach\" ^ \"Michael Gough not to officiate further in T20 World Cup\" ^ \"Match officials confirmed for T20 World Cup semi-finals\" ^ \"Match Officials for Final announced\" ^ \"T20 World Cup: Full squad list for tournament in UAE and Oman\" ^ \"Limit on squads at ICC events increased to 30 in response to',\n",
       " 'to 30 in response to Covid-19\" ^ \"New Zealand name T20WC squad within 32-man group for Asian expedition\" ^ \"Men\\'s T20 World Cup 2021 – what the squads look like\" ^ \"T20 World Cup group stages preview: A team-by-team breakdown\" ^ \"ICC Men\\'s T20 World Cup 2021 schedule announced\" ^ \"T20 World Cup 2021: ICC changes Super 12 Group seedings in the middle of the Qualifiers\" ^ \"T20 World Cup set to begin on October 17 in UAE; final on November 14\" ^ \"ICC Men\\'s T20 World Cup groups announced\" ^ \"T20 World Cup 2021: India and Pakistan to face',\n",
       " 'India and Pakistan to face off in Super 12s\" ^ \"ICC Men\\'s T20 World Cup 2021 fixtures revealed\" ^ \"Fans worldwide invited to \\'Live The Game\\' via unparalleled coverage of ICC Men\\'s T20 World Cup 2021\" ^ \"ICC Men\\'s T20 World Cup 2021 Official Anthem – Single\" ^ \"BCCI proposes nine venues for men\\'s T20 World Cup to ICC\" ^ \"BCCI picks nine venues for ICC T20 World Cup 2021 to be held in India: Reports\" ^ \"Delhi to host 2 Pakistan ties, Ahmedabad final of T20 World Cup\" ^ \"ICC T20 World Cup 2021 to take place in UAE',\n",
       " 'to take place in UAE from October 17\" ^ \"ICC T20 World Cup to be played in UAE and Oman from October 17: report\" ^ \"T20 World Cup to kick off on October 17 in UAE, final on November 14: Report\" ^ \"T20 World Cup to take place in UAE and Oman, confirms ICC\" ^ \"ICC Men\\'s T20 World Cup shifted to UAE, Oman\" ^ \"\\'Broadcast-ready\\' Tolerance Oval part of Abu Dhabi Cricket expansion\" ^ \"T20 world cup venue guide Dubai International Stadium\" ^ \"Sharjah Cricket Stadium\" ^ \"T20 world cup venue guide Sheikh Zayed Cricket Stadium\" ^ \"Oman Cricket',\n",
       " 'Cricket Stadium\" ^ \"Oman Cricket Academy Ground\" ^ \"ICC Men\\'s T20 World Cup 2021 Prize Money details announced\" ^ \"ICC T20 World Cup 2021 Match Official Appointments\" ^ \"ICC Men\\'s T20 World Cup 2021: Warm-up fixtures revealed\" ^ \"Curtis Campher takes four wickets in four balls vs Netherlands in T20 World Cup\" ^ \"Ireland pacer Curtis Campher becomes third bowler to take four wickets in four balls in T20Is\" ^ \"Sri Lanka qualify for ICC T20 World Cup Super 12 stage\" ^ \"Hasaranga dominates Ireland with bat and ball as Sri Lanka confirm Super 12 spot\" ^ \"T20 World Cup:',\n",
       " 'spot\" ^ \"T20 World Cup: Namibia go through as Ireland knocked out\" ^ \"Wiese, Erasmus the heroes as Namibia qualify for the Super 12s\" ^ \"Shakib Al Hasan becomes leading wicket-taker in T20Is\" ^ \"Shakib, Mahmudullah help Tigers to their biggest-ever T20I win\" ^ \"Bangladesh storm into the Super 12 after dismantling PNG for 97\" ^ \"Shakib, Mahmudullah star as Bangladesh rout PNG to seal spot in Super 12s\" ^ \"T20 World Cup: Scotland & Bangladesh win to reach Super 12s\" ^ \"Bowling might helps Scotland qualify for Super 12s; Oman knocked out\" ^ \"Lara \\'doesn\\'t have words\\' after England',\n",
       " '\\'doesn\\'t have words\\' after England bowl West Indies out for lowest total by a full-member team in T20 World Cup\" ^ \"BAN vs SL: Shakib Al Hasan becomes leading wicket-taker in T20 World Cups\" ^ \"T20 World Cup: Wanindu Hasaranga becomes fourth Sri Lankan to pick up a T20I hat-trick\" ^ \"T20 World Cup: Jos Buttler\\'s sensational century sets up England win over Sri Lanka\" ^ \"Buttler\\'s brilliant century inspires England win despite late scare\" ^ \"T20 World Cup: Jos Buttler scores first T20I century as England beat Sri Lanka to close in on semi-finals\" ^ \"Sri Lanka officially knocked',\n",
       " '^ \"Sri Lanka officially knocked out of semi-finals race\" ^ \"Zampa takes five wickets as Australia bowl out Bangladesh for 73\" the original ^ \"Hetmyer scores 81 not out in Sri Lanka loss\" ^ \"Kagiso Rabada becomes first SA bowler to take hat-trick in T20Is; leads Proteas to win over England\" ^ \"T20 World Cup: England reach semi-finals despite defeat by South Africa\" ^ \"England qualify for last four despite defeat, South Africa fall short in Sharjah\" ^ \"From Virat Kohli\\'s unbeaten run in T20Is to their 200th international game – IND vs PAK stats you need to know\" ^',\n",
       " 'you need to know\" ^ \"Babar Azam, Mohammad Rizwan break Pakistan\\'s World Cup jinx against India with 10-wicket romp\" ^ \"Pakistan routs India with 10-wicket win at T20 World Cup\" ^ \"Mujeeb ur Rahman records five-wicket haul on World Cup debut\" ^ \"Mujeeb magic and Scotland\\'s record sequence of ducks\" ^ \"Afghanistan power-hitters and spinners demolish Scotland in record 130-run win\" ^ \"Tim Southee cleans up Babar Azam during Pak vs NZ clash at WC, enters elite list with 100th wicket in T20Is\" ^ \"AFG vs PAK: Rashid becomes fastest bowler to pick 100 T20I wickets\" ^ \"T20 World Cup:',\n",
       " 'wickets\" ^ \"T20 World Cup: Babar Azam equals another Virat Kohli record\" ^ \"Mohammad Shahzad becomes first Afghan player to reach 2000 T20I runs\" ^ \"Pakistan vs Namibia: Pakistan through to semi-finals after triumph over Namibia\" ^ \"NZ vs SCO: Martin Guptill joins Virat Kohli in elite list, becomes 2nd batter to complete 3,000 T20I runs\" ^ \"T20 World Cup: Scotland eliminated with a 16-run loss to New Zealand\" ^ \"Late batting surge sets Black Caps up to beat Namibia at Twenty20 World Cup\" ^ \"Rashid Khan reaches 400 wickets in T20 cricket, does so in quickest time\" ^ \"Black',\n",
       " 'in quickest time\" ^ \"Black Caps into semifinals at Twenty20 World Cup after win over Afghanistan\" ^ \"New Zealand ease past Afghanistan and send India out of T20 World Cup\" ^ \"Virat Kohli set to play his 50th T20I match as captain against Namibia and much more\" ^ \"T20 World Cup: World No 1 bowler Wanindu Hasaranga scripts another record, becomes bowler with most wickets in a T20 WC\" ^ \"Records / ICC World T20, 2021 / Most runs\" ^ \"Records / ICC World T20, 2021 / Most wickets\" ^ \"The Upstox Most Valuable Team of the Tournament\" edit Series',\n",
       " 'of the Tournament\" edit Series home v t e 2021 ICC Men\\'s T20 World Cup First Round Group A Group B Super 12 Group 1 Group 2 Knockout Stage Final Qualifier Africa Americas Asia East Asia-Pacific Europe Squads Statistics Umpires and Officials Venues Warm-up matches v t e ICC Men\\'s T20 World Cup International Cricket Council South Africa 2007 England 2009 West Indies 2010 Sri Lanka 2012 Bangladesh 2014 India 2016 UAE/Oman 2021 Australia 2022 USA/West Indies 2024 India/Sri Lanka 2026 Australia/New Zealand 2028 Qualifying 2007 2009 2010 2012 2014 2016 2021 A B 2024 2026 2007 2009 2010 2012',\n",
       " '2026 2007 2009 2010 2012 2014 2016 2021 2022 2024 2007 2009 2010 2012 2014 2016 2021 2022 2024 2007 2014 2021 2022 2024 Awards Format History Records Centuries Five-wicket hauls Teams Trophy v t e 2016–17 2018 2019–20 2021–22 2023–24 1956–57 1959–60 1964–65 1969–70 1979–80 1984–85 1986–87 1996–97 1997–98 2000–01 2004–05 2007 2008–09 2009–10 2010–11 2012–13 2013–14 2016–17 2017–18 2018–19 2019–20 2022–23 2023–24 2016–17 2018 2019–20 2024–25 1933–34 1951–52 1961–62 1963–64 1972–73 1976–77 1979–80 1981–82 1984–85 1992–93 2001–02 2005–06 2008–09 2011–12 2012–13 2016–17 2020–21 2023–24 2024–25 2016–17 2018-19 2019–20 1955–56 1964–65 1969–70 1976–77 1988–89 1995–96 1999–2000 2003–04 2010–11 2012',\n",
       " \"1995–96 1999–2000 2003–04 2010–11 2012 2016–17 2017–18 2021–22 2022-23 2024–25 1952–53 1960–61 1979–80 1983–84 1986–87 1998–99 2004–05 2007–08 2012–13 1991–92 1996–97 1999–2000 2004–05 2005–06 2007–08 2009–10 2015–16 2019–20 2022 2022–23 1982–83 1986–87 1990–91 1993–94 1997–98 2005–06 2006–07 2009–10 2014-15 2015–16 2017–18 2019–20 2021–22 1948–49 1958–59 1966–67 1974–75 1978–79 1983–84 1987–88 1994–95 2002–03 2006–07 2011–12 2013–14 2014-15 2018–19 2019–20 2021–22 1992–93 2000–01 2001–02 World Cup 1987 1996 2011 2023 Men's T20 World Cup 2016 2021 Champions Trophy 2006 Asia Cup 1990–91 1989 1993 1994–95 1996–97 1997 1997–98 1997–98 1998–99 2003–04 1935–36 1945–46 1932–33 1940–41 1952–53 1955–56 1957–58 1959–60 1961–62 1964–65 1966–67\",\n",
       " \"1957–58 1959–60 1961–62 1964–65 1966–67 1968–69 1970–71 1972–73 1974–75 1975–76 1994–95 2012–13 1889–90 1892–93 1926–27 1937–38 1956–57 1963–64 1994–95 2005–06 2023–24 1999–00 2011–12 1930–31 1949–50 1950–51 1953–54 1961–62 1964–65 1967–68 2006–07 v t e International cricket in 2021–22 International cricket in 2021 New Zealand in Bangladesh Afghanistan in Pakistan South Africa in Sri Lanka Women's T20 World Cup EAP Qualifier Uganda Tri-Nation Series PNG in Oman Women's T20 World Cup Africa Qualifier Oman Tri-Nation Series (round 6) New Zealand in Pakistan India women in Australia Oman Tri-Nation Series (round 7) ACA Africa T20 Cup Summer T20 Bash Ireland women in\",\n",
       " \"T20 Bash Ireland women in Zimbabwe Cyprus T20I Cup Sri Lanka in Oman England women in Pakistan England in Pakistan T20 World Cup EAP Qualifier T20 World Cup Europe Qualifier Final T20 World Cup Africa Qualifier Group A ICC Men's T20 World Cup Final Women's T20 World Cup Americas Qualifier Sierra Leone in Nigeria Valletta Cup T20 World Cup Asia Qualifier Group A T20 World Cup Africa Qualifier Group B T20 World Cup Americas Qualifier West Indies women in Pakistan Bangladesh women in Zimbabwe T20 World Cup Asia Qualifier Group B Nepal women in Qatar T20 World Cup Africa Qualifier\",\n",
       " \"T20 World Cup Africa Qualifier Final New Zealand in India Pakistan in Bangladesh West Indies in Sri Lanka Women's Cricket World Cup Qualifier Women's T20 World Cup Asia Qualifier Namibia Tri-Nation series Netherlands in South Africa Afghanistan in Australia England in Australia The Ashes West Indies in Pakistan Ireland in United States India in South Africa Bangladesh in New Zealand Ireland in West Indies Under-19 Cricket World Cup England women in Australia Zimbabwe in Sri Lanka Commonwealth Games Qualifier Netherlands against Afghanistan in Qatar West Indies women in South Africa England in West Indies UAE in Oman West Indies in\",\n",
       " \"in Oman West Indies in India India women in New Zealand Sri Lanka in Australia Oman Quadrangular Series South Africa in New Zealand T20 World Cup Global Qualifier A Afghanistan in Bangladesh Sri Lanka in India Australia in Pakistan Australia in New Zealand Women's Cricket World Cup Final UAE Tri-Nation Series (round 9) UAE Tri-Nation Series (round 10) Bangladesh in South Africa GCC Women's Gulf Cup Netherlands in New Zealand PNG in Nepal Nepal Tri-Nation Series Nigeria Invitational Uganda in Namibia PNG Tri-Nation Series Bahamas in the Cayman Islands Capricorn Women's Tri-Series Hong Kong women in UAE World Test Championship\",\n",
       " 'in UAE World Test Championship Cricket World Cup Super League Cricket World Cup League 2 Associate T20I cricket International cricket in 2022 v t e World championships 2021 Archery Arm wrestling race walking relay individual team mixed team Baseball (women) Beach tennis 9-pin 10-pin Bowls (indoor) Boxing (men) sprint slalom marathon wildwater ocean race standup paddling canoe sailing T20 Test road track mountain bike mountain bike marathon mountain bike eliminator cyclo-cross BMX urban indoor gran fondo Finswimming men women men women futsal (men) beach soccer (men) artistic rhythmic trampoline acrobatic aerobic aesthetic men women Judo kata Karate Modern pentathlon biathle/triathle',\n",
       " 'kata Karate Modern pentathlon biathle/triathle Muaythai Orienteering Padel Racquetball Rowing coastal Inline speed skating Skateboarding (street) Artistic skating Scootering Inline downhill Inline hockey 470 Laser Radial Melges 20 Platu 25 offshore sailing match racing Hempel Shooting (running target) Sport climbing men women Surfing Swimming (25m) Table tennis Surf longboard duathlon cross aquathlon long distance duathlon half Ironman long distance triathlon triathlon Tug of War (outdoor) Weightlifting iQFoil RS:X Raceboard Wrestling Alpine skiing men Biathlon summer Bobsleigh / Skeleton men women mixed doubles wheelchair Figure skating Freestyle skiing Grass skiing men women artificial track natural track Nordic skiing Rollerski Ski orienteering',\n",
       " \"Nordic skiing Rollerski Ski orienteering Snowboarding single distances short track Telemarking Winter triathlon Chess Darts men women's match women Nine-ball Team nine-ball Ten-ball Snooker Three-cushion Aquabike Drifting Endurance auto racing FIM EWC Superstock Enduro endurance e-bike Flat Track F1 Powerboat 2020–21 2021–22 Formula One Hill climb Long track men women team MotoGP Moto2 Moto3 MotoE Motosurf Rally WRC-2 WRC-3 R-GT J-WRC Rallycross Auto Moto Bajas auto Bajas moto individual team ice speedway Sidecar Sidecarcross Snowcross Superbike Supersport Supersport 300 Supercross Supermoto team Touring car men women e-trial x-trial team trial https://en.wikipedia.org/w/index.php?title=2021_ICC_Men%27s_T20_World_Cup&oldid=1243987371 Categories 2021 in cricket 2021 in Emirati cricket 2021\",\n",
       " \"2021 in Emirati cricket 2021 in Omani sport 2021 ICC Men's T20 World Cup International cricket competitions in 2021–22 Cricket events postponed due to the COVID-19 pandemic International cricket competitions in the United Arab Emirates International cricket competitions in Oman October 2021 sports events in Asia November 2021 sports events in the United Arab Emirates Articles with short description Short description is different from Wikidata Use dmy dates from October 2021 Creative Commons Attribution-ShareAlike License 4.0 Terms of Use Privacy Policy Wikimedia Foundation, Inc. Privacy policy About Wikipedia Disclaimers Contact Wikipedia Code of Conduct Developers Statistics Cookie statement Mobile view\",\n",
       " 'Statistics Cookie statement Mobile view',\n",
       " 'Turn your big numbers into smaller ones with long division – just master these easy steps! AuthorTaylor Hartley Expert reviewerJill Padfield Published: August 24, 2023 Turn your big numbers into smaller ones with long division – just master these easy steps! AuthorTaylor Hartley Expert ReviewerJill Padfield Published: August 24, 2023 Turn your big numbers into smaller ones with long division – just master these easy steps! AuthorTaylor Hartley Expert reviewerJill Padfield Published: August 24, 2023 Key takeaways Table of contents Long division might seem a little complicated, but anything’s easier when you divide it into smaller parts! Let’s explore the',\n",
       " 'smaller parts! Let’s explore the process of long division and why it’s so important. First, we’ll explain what long division is and how it relates directly to another important concept — multiplication. If you’ve already mastered the basics of multiplication down, long division won’t be that bad, we promise! Finally, we’ll run through a few practice examples to make sure you’ve got the hang of things before you go back to the classroom. Long division is the process of reducing a multi-digit number into smaller groups. It’s also the practice of reversing multiplication: taking a certain value and separating it',\n",
       " 'certain value and separating it into different numbers that were multiplied together to equal that original value. Division is an important skill if you want to reduce numbers more efficiently, but long division is especially important as those numbers get bigger and bigger. Long division is a helpful way of breaking a larger number up into two smaller ones. It follows a sequence of steps that, once mastered, makes the process of reducing any large number much easier. You’ll encounter long division a lot when practicing mathematics, so it’s important that you get the basics down early. You never know',\n",
       " 'down early. You never know when you might need to use it in your everyday life—and trust us, you will! Follow along as we learn and practice the basics of long division. One of the most important parts of understanding division is that it’s the opposite of another common mathematical operation — multiplying. The same way you think of multiplication as repeatedly adding a certain value over and over again, division is the practice of subtracting a certain value over and over again, with the number of times you subtract being the quotient. Think of multiplication as the repeated addition',\n",
       " 'multiplication as the repeated addition of equal values. And think of division as a way of finding out what those equal values are, and how many times you’re adding them. This way, you’ll be able to see how multiplication and division are inverses, or opposites, of one another. Before we get into the basic steps of how to perform long division, we need to define a few important terms so that we can better understand these steps. There are four main definitions involved in the process of long division: Get 1 FREE month of Doodle! Use code SCHOOL_24 to kick-start',\n",
       " 'Use code SCHOOL_24 to kick-start school with unlimited questions and games Use code SCHOOL_24 to get 1 FREE month of Doodle! Try DoodleMaths for free! Select a year group Unlock unlimited maths questions Put your learning into practice with fun exercises + games that are proven to boost ability! Let’s take a look at a practice problem. This is a good opportunity to rinse and repeat the basic steps of long division, and make sure you’ve got the main points down before we go on to some other practice examples. Take a look below: Solve 225÷5 Make sure the divisor',\n",
       " '225÷5 Make sure the divisor is written first, and separate it from the dividend by either a right parentheses [)] or a backslash [/]. Then, draw an overhead bar above the dividend that connects to the parentheses or backslash you just drew. This will help you understand the difference between divisor and dividend. Now, let’s take a look at the first number from the left in our divisor. Since 2 is less than 5, the dividend, we know we can’t do any division here. So, we write a 0 as our first number in the quotient and multiply it by',\n",
       " 'quotient and multiply it by our 5, giving us a product of 0. We then need to subtract this 0 from the first digit of the dividend, 2. Now we can drag the 2 in the tens place down and place it next to the difference we calculated in step 2. This gives us a value of 22. 22 isn’t divisible by 5, but we know 5 x 4 = 20, or that 5 fits into 20 four times. That means we can write a four in the quotient to the right of our 0. We then write that 20',\n",
       " 'We then write that 20 below our 22, and subtract. Our subtraction from step 4 gives us a value of 2. Now we drag the 5 in the ones place of 225 all the way down next to that 2, giving us a value of 25. Now, we can divide that final 25 by our original dividend of five. 25 divided by 5 equals 5, which we write in the final place of our quotient. DoodleMaths is an award-winning app that’s filled with thousands of questions and games exploring multiplication, division and more! Designed by teachers, it creates each child',\n",
       " 'teachers, it creates each child a unique work programme tailored to their needs, doubling their progression with just 10 minutes of use a day. Try it for free! Solve 135 ÷ 6 1. Since we know 1 is less than 6, we can write a 0 as the first number in our quotient, and drag our 1 down. 2. We then drag the 3 down next to our 1, giving us a value of 13. Since 6 fits into 13 twice, 6 x 2 = 12, we can write that 2 next to our 0 in the quotient. 3. We',\n",
       " 'in the quotient. 3. We then subtract 12 from 13, giving us a 1. 4. Now we can drag our 5 down and place it next to that one, giving us 15. Six fits into 15 twice, meaning we can write another two in our quotient. 5. However, 15 – 12 = 3, and there are no more numbers to drag down! Here is where we use the term REMAINDER. 3 is the remainder here, since there is no more possible division to perform. Our final answer is 22 with a remainder of 3. Solve 339 ÷ 3 1. The',\n",
       " '339 ÷ 3 1. The 3 in the hundreds place of the dividend is divisible by 3, giving us a value of 1 to write first in the quotient. 2. Now, we can write a 3 underneath the 3 in the hundreds place, and subtract. This should give us a value of 0. 3. We can then drag the three in the tens place down next to our 0. 4. Let’s repeat the same process in step 1, since 3 is still divisible by 3. This will give us another 1 in the quotient, and a subtraction equation of 3',\n",
       " 'a subtraction equation of 3 – 3 that gives another 0. 5. Now, let’s drag the 9 down next to our new 0. 9 is also divisible by 3. 93 = 3, meaning we can write a 3 as our last digit in our quotient. 3-3=0, meaning we’ve finished our long division. We should have a value of 113 in our quotient. Ready to give it a go? Now it’s your turn to put your long division skills to the test. Use your knowledge of long division to solve the following problems. Feel free to consult the guide if you',\n",
       " 'consult the guide if you get stuck. Question 1: what is 645 ÷ 9? Question 2: what is 422 ÷ 8? Question 3: what is 218 ÷ 4? Just remember to divide, multiply, subtract, bring that next number down and keep repeating that process. Long division is all about repeating the same steps over and over again until you can’t do any more division. The hardest part is remembering to drag that next digit down so you can repeat the process. But if you can master those basic steps, you’ll begin to build some muscle memory that makes the process',\n",
       " 'memory that makes the process much easier. For these problems, we check the first two digits of the dividend and see if they are divisible by our divisor. If the first two digits of the dividend are less than the divisor, we’ll need to consider the first three digits of the dividend instead. Now we can follow the same steps. Figure out how many times we can multiply our divisor into our dividend, and subtract that value. Long division is often more accurate than shorthand division, because the steps are written out plainly in front of us. This allows us',\n",
       " 'of us. This allows us to track our division through a step-by-step process, and continue dividing until we discover an exact remainder. Think of long division as the most convenient and accurate way of dividing larger numbers. As you continue to learn mathematics, it’ll become an essential skill for solving more complicated problems. This process might seem a bit more complicated, but it relies on the same rules and procedures we’ve been using this whole time. Since we know that the quotient, remainder and divisor are all related to the dividend in some way, there is a mathematical procedure we',\n",
       " \"is a mathematical procedure we can use to calculate each. To find the dividend, simply multiply the quotient by the divisor, and add that product to your remainder. Lesson credits Taylor Hartley Taylor Hartley is an author and an English teacher. When she's not writing, you can find her on the rowing machine or lost in a good novel. Jill Padfield Jill Padfield has 7 years of experience teaching mathematics. She is currently working as a Business Analyst, working to improve services for Veterans while earning a masters degree in business administration. Taylor Hartley Taylor Hartley is an author and\",\n",
       " \"Hartley is an author and an English teacher based in Charlotte, North Carolina. When she's not writing, you can find her on the rowing machine or lost in a good novel. Jill Padfield Jill Padfield has 7 years of experience teaching high school mathematics, ranging from Alegra 1 to AP Calculas. She is currently working as a Business Analyst, working to improve services for Veterans while earning a masters degree in business administration. Parents, sign up for a DoodleMaths subscription and see your child become a maths wizard! The answer is 71 with a remainder of 6 How did we\",\n",
       " 'of 6 How did we get here? The answer is 52 with a remainder of 6 How did we get here? The answer is 54 with a remainder of 2 How did we get here? What we offer Who we are Resources Quick links All rights reserved. Book a chat with our team I’m new to Doodle My school is already using Doodle I’m new to Doodle My school is already using Doodle Parent Teacher Student Parent Teacher Student Parent Teacher Parent Teacher DoodleMaths DoodleTables DoodleEnglish DoodleSpell If you’d like to use Doodle’s browser version, please visit this page on',\n",
       " 'please visit this page on a desktop. To log in to Doodle on this device, you can do so through our apps. You can find out how to download them here:Skip to content Improve your child’s confidence with DoodleLearning’s personalised maths & English apps Start your 7-day free trial Our products DoodleMaths DoodleTables DoodleEnglish DoodleSpell Maths and English help Maths topics Maths by year group English subjects Parent guides Exam prep KS2 SATs papers KS1 SATs papers 11 plus exam MTC Check Phonics screening Boost confidence with DoodleLearning’s personalised maths & English apps Start your free trial Chat with our',\n",
       " 'free trial Chat with our team Our products DoodleMaths DoodleTables DoodleEnglish DoodleSpell Doodle in your school SEN schools Pricing Success stories Our impact Our solutions Actionable data Digital homework tool Interventions Prevent learning loss Save teachers time Improve results with DoodleLearning’s personalised maths & English apps Request a pilot Talk to our team Our products DoodleMaths DoodleTables DoodleEnglish DoodleSpell Doodle in your MAT Pricing Success stories Our impact Our solutions Actionable data Digital homework tool Interventions Reduce staff workload Exam prep UK UK US UK UK US Log in Try Doodle for free UK UK US UK UK US Log',\n",
       " \"US UK UK US Log in Try for free Improve your child's confidence with DoodleLearning's personalised maths and English apps Start your 7-day free trial Our products DoodleMaths DoodleTables DoodleEnglish DoodleSpell Maths and English help Maths topics Maths by year group English subjects Parents guides Exam prep KS2 SATs papers KS1 SATs papers 11 plus exam MTC Check Phonics screening Boost confidence with DoodleLearning’s personalised maths & English apps Start your free trial Chat with our team Our products DoodleMaths DoodleTables DoodleEnglish DoodleSpell Doodle in your school SEN schools Pricing Success stories Our impact Our solutions Actionable data Digital homework\",\n",
       " \"solutions Actionable data Digital homework tool Interventions Prevent learning loss Save teachers time Improve results with DoodleLearning's personalised English and maths apps Request a pilot Chat with our team Our products DoodleMaths DoodleTables DoodleEnglish DoodleSpell Doodle in your MAT Pricing Success stories Our impact Our solutions Actionable data Digital homework tool Interventions Reduce staff workload Exam prep dividing numbers dividends remainder quotient Key takeaways What is long division? How to do long division Practice problems FAQs multiplication Division subtracting repeated addition Create Doodle account Create Doodle account Create Doodle account DoodleMaths Try it for free! Create a free Doodle account\",\n",
       " 'Create a free Doodle account Check answers What are the five basic steps of long division? How to do long division if there are two digits? Why do we teach long division? How do we calculate the dividend from the quotient, remainder, and divisor? Subscribe to DoodleMaths Facebook-f Twitter Instagram Youtube Privacy policy Cookie policy Anti-slavery policy Terms and conditions Sub-processors Sitemap How to cancel Privacy policy Cookie policy Anti-slavery policy Terms and conditions Sub-processors Sitemap How to cancel Cookie settings Cookie settings UK & World US UK & World US For families For schools Pricing for parents Pricing for',\n",
       " 'Pricing for parents Pricing for schools For families For schools Pricing for parents Pricing for schools About us Work with us Awards Our impact About us Work with us Awards Our impact Blog Shop Curriculum Help centre Blog Shop Curriculum Help centre Download Parent Dashboard Teacher Dashboard Student login Download Parent Dashboard Teacher Dashboard Student login Privacy policy. Manage options Manage services Manage {vendor_count} vendors Read more about these purposes View preferences {title} {title} {title} Privacy policy. Manage options Manage services Manage {vendor_count} vendors Read more about these purposes View preferences {title} {title} {title} Manage options Manage services Manage {vendor_count}',\n",
       " 'options Manage services Manage {vendor_count} vendors Read more about these purposes View preferences {title} {title} {title} I’m new to Doodle My school is already using Doodle I’m new to Doodle My school is already using Doodle Parent Teacher Student Parent Teacher Student Parent Teacher Parent Teacher DoodleMaths DoodleTables DoodleEnglish DoodleSpell Download apps']"
      ]
     },
     "metadata": {},
     "output_type": "display_data"
    }
   ],
   "source": [
    "knowledge_base"
   ]
  },
  {
   "cell_type": "code",
   "execution_count": null,
   "metadata": {},
   "outputs": [],
   "source": [
    "def retrieve_information(query, top_k=2):\n",
    "    query_embedding = embedding_model.encode(query, convert_to_tensor=True)\n",
    "    similarities = cosine_similarity(query_embedding, passage_embeddings)\n",
    "    \n",
    "    top_k_indices = torch.topk(similarities, k=top_k).indices\n",
    "    retrieved_passages = [knowledge_base[idx] for idx in top_k_indices]\n",
    "    \n",
    "    return retrieved_passages"
   ]
  },
  {
   "cell_type": "markdown",
   "metadata": {},
   "source": [
    "##### Response Generation without RAG"
   ]
  },
  {
   "cell_type": "code",
   "execution_count": null,
   "metadata": {},
   "outputs": [],
   "source": [
    "def generate_response(prompt, max_tokens=40):\n",
    "    messages = [\n",
    "        {\"role\": \"system\", \"content\": \"You are a general purpose chatbot!\"},\n",
    "        {\"role\": \"user\", \"content\": prompt},\n",
    "    ]\n",
    "\n",
    "    input_ids = tokenizer.apply_chat_template(\n",
    "        messages,\n",
    "        add_generation_prompt=True,\n",
    "        return_tensors=\"pt\"\n",
    "    ).to(model.device)\n",
    "\n",
    "    terminators = [\n",
    "        tokenizer.eos_token_id,\n",
    "        tokenizer.convert_tokens_to_ids(\"<|eot_id|>\")\n",
    "    ]\n",
    "\n",
    "    outputs = model.generate(\n",
    "        input_ids,\n",
    "        max_new_tokens=max_tokens,\n",
    "        eos_token_id=terminators,\n",
    "        pad_token_id=tokenizer.eos_token_id,\n",
    "        do_sample=True,\n",
    "        temperature=0.6,\n",
    "        top_p=0.9,\n",
    "    )\n",
    "    response = outputs[0][input_ids.shape[-1]:]\n",
    "    del input_ids\n",
    "    torch.cuda.empty_cache()\n",
    "    return f'Prompt: {prompt}\\n' + f'Response: {tokenizer.decode(response, skip_special_tokens=True)}'"
   ]
  },
  {
   "cell_type": "markdown",
   "metadata": {},
   "source": [
    "##### Response Generation with RAG"
   ]
  },
  {
   "cell_type": "code",
   "execution_count": null,
   "metadata": {},
   "outputs": [],
   "source": [
    "def generate_response_with_rag(prompt, top_k=4, max_tokens=40, print_retrieved_docs=True):\n",
    "    retrieved_passages = retrieve_information(prompt, top_k=top_k)\n",
    "    context = \"\\n\\n\".join(retrieved_passages)\n",
    "\n",
    "    if context:\n",
    "        if print_retrieved_docs:\n",
    "            print(\"Retrieved facts: \\n\" + '\\n'.join([f\"{i}. {j}\" for i, j in enumerate(context.split(\"\\n\\n\"))]) + '\\n')\n",
    "        rag_prompt = context + \"\\n\\n\" + prompt\n",
    "    else:\n",
    "        rag_prompt = prompt\n",
    "\n",
    "    messages = [\n",
    "        {\"role\": \"system\", \"content\": \"You are a general purpose chatbot!\"},\n",
    "        {\"role\": \"user\", \"content\": rag_prompt},\n",
    "    ]\n",
    "\n",
    "    input_ids = tokenizer.apply_chat_template(\n",
    "        messages,\n",
    "        add_generation_prompt=True,\n",
    "        return_tensors=\"pt\"\n",
    "    ).to(model.device)\n",
    "\n",
    "    terminators = [\n",
    "        tokenizer.eos_token_id,\n",
    "        tokenizer.convert_tokens_to_ids(\"<|eot_id|>\")\n",
    "    ]\n",
    "\n",
    "    outputs = model.generate(\n",
    "        input_ids,\n",
    "        max_new_tokens=max_tokens,\n",
    "        eos_token_id=terminators,\n",
    "        pad_token_id=tokenizer.eos_token_id,\n",
    "        do_sample=True,\n",
    "        temperature=0.6,\n",
    "        top_p=0.9,\n",
    "    )\n",
    "    response = outputs[0][input_ids.shape[-1]:]\n",
    "    del input_ids\n",
    "    torch.cuda.empty_cache()\n",
    "    return f'Prompt: {prompt}\\n' + f'Response: {tokenizer.decode(response, skip_special_tokens=True)}'\n"
   ]
  },
  {
   "cell_type": "markdown",
   "metadata": {},
   "source": [
    "##### Example Prompts - Fact Checking"
   ]
  },
  {
   "cell_type": "markdown",
   "metadata": {},
   "source": [
    "Example 1:   \n",
    "- Without RAG"
   ]
  },
  {
   "cell_type": "code",
   "execution_count": null,
   "metadata": {},
   "outputs": [
    {
     "name": "stdout",
     "output_type": "stream",
     "text": [
      "Prompt: When did Albert Einstein and Stephen Hawking win the Nobel Prize?\n",
      "Response: Albert Einstein never won the Nobel Prize in Physics, despite being one of the most influential physicists of the 20th century. He was nominated for the prize several times, but the Nobel Committee did not\n"
     ]
    }
   ],
   "source": [
    "prompt = 'When did Albert Einstein and Stephen Hawking win the Nobel Prize?'\n",
    "output = generate_response(prompt)\n",
    "print(output)"
   ]
  },
  {
   "cell_type": "markdown",
   "metadata": {},
   "source": [
    "- With RAG"
   ]
  },
  {
   "cell_type": "code",
   "execution_count": null,
   "metadata": {},
   "outputs": [
    {
     "name": "stdout",
     "output_type": "stream",
     "text": [
      "Retrieved facts: \n",
      "0. physics, his field’s most famous award eluded Hawking throughout his life. So why did one of science’s most iconic pioneers never win a Nobel Prize in Physics? The answer — unlike quantum mechanics — is relatively straightforward. Theoretical scientific discoveries have to be confirmed by observational data before there’s a possibility of winning a Nobel. And it’s somewhat difficult to\n",
      "1. science’s most iconic pioneers never win a Nobel Prize in Physics?The answer — unlike quantum mechanics — is relatively straightforward.Theoretical scientific discoveries have to be confirmed by observational data before there’s a possibility of winning a Nobel. And it’s somewhat difficult to observe a black hole.It takes decades to build the scientific equipment to test theoretical discoveries; to put this\n",
      "2. The issue is, the technology needed to observe this radiation will take years and cost millions before Hawking’s theory can ever be verified.Hawking never won a Nobel, but as an ambassador for the sciences his influence was profound, as shown by the world leaders and celebrities who took to social media today to pay tribute. See a selection of tributes\n",
      "3. that none of the year's nominations met the criteria as outlined in the will of Alfred Nobel. According to the Nobel Foundation's statutes, the Nobel Prize can in such a case be reserved until the following year, and this statute was then applied. Albert Einstein therefore received his Nobel Prize for 1921 one year later, in 1922. To cite this\n",
      "\n",
      "Prompt: When did Albert Einstein and Stephen Hawking win the Nobel Prize?\n",
      "Response: According to the text, Albert Einstein received his Nobel Prize in 1922, one year after the initial nomination. Stephen Hawking, on the other hand, never won a Nobel Prize in Physics, as his theoretical discoveries had not been confirmed by observational data at the time of his death.\n"
     ]
    }
   ],
   "source": [
    "prompt = 'When did Albert Einstein and Stephen Hawking win the Nobel Prize?'\n",
    "output = generate_response_with_rag(prompt, max_tokens=80)\n",
    "print(output)"
   ]
  },
  {
   "cell_type": "markdown",
   "metadata": {},
   "source": [
    "Example 2:   \n",
    "- Without RAG"
   ]
  },
  {
   "cell_type": "code",
   "execution_count": null,
   "metadata": {},
   "outputs": [
    {
     "name": "stdout",
     "output_type": "stream",
     "text": [
      "Prompt: Neil Armstrong did not eat on the Apollo 11 module. Yes or no?\n",
      "Response: Yes.\n"
     ]
    }
   ],
   "source": [
    "prompt = 'Neil Armstrong did not eat on the Apollo 11 module. Yes or no?'\n",
    "output = generate_response(prompt)\n",
    "print(output)"
   ]
  },
  {
   "cell_type": "markdown",
   "metadata": {},
   "source": [
    "- With RAG"
   ]
  },
  {
   "cell_type": "code",
   "execution_count": null,
   "metadata": {},
   "outputs": [
    {
     "name": "stdout",
     "output_type": "stream",
     "text": [
      "Retrieved facts: \n",
      "0. that Neil Armstrong’s favorite meal was spaghetti with meat sauce, scalloped potatoes, fruitcake cubes, and grape punch, a spread that certainly sounds Retro Recipe ready. The first food eaten on the Moon was a communion wafer. When Apollo 11‘s Eagle lunar module landed on the Moon on July 20, 1969, the two astronauts, Buzz Aldrin and Neil Armstrong, had to\n",
      "1. spaghetti with meat sauce, scalloped potatoes, fruitcake cubes, and grape punch, a spread that certainly sounds Retro Recipe ready. The first food that was eaten on the Moon The first food eaten on the Moon was a communion wafer. When Apollo 11‘s Eagle lunar module landed on the Moon on July 20, 1969, the two astronauts, Buzz Aldrin and Neil\n",
      "2. Apollo rehydratable food packaging. Buzz Aldrin later enjoyed the shrimp cocktail, explaining, “The shrimp were chosen one by one to be sure they would be tiny enough to squeeze out of the food packet, and they were delicious!” From First Man: The Life of Neil A. Armstrong, we learn that Neil Armstrong’s favorite meal was spaghetti with meat sauce, scalloped\n",
      "3. had spent 300 calories an hour on the Moon. Dr. Malcolm Smith, the Chief of Food and Nutrition at NASA for the Apollo 11 flight, reported in the Autumn 1969 edition of Nutrition Today (paid article) that astronauts Armstrong, Aldrin, and Collins “enjoyed the food we had put aboard. The variety was satisfactory, and there was enough to satisfy their\n",
      "\n",
      "Prompt: Neil Armstrong did not eat on the Apollo 11 module. Yes or no?\n",
      "Response: No. According to the text, Neil Armstrong and Buzz Aldrin had to eat the food they had brought with them, which was pre-prepared and packaged, including spaghetti with meat sauce, scallo\n"
     ]
    }
   ],
   "source": [
    "prompt = 'Neil Armstrong did not eat on the Apollo 11 module. Yes or no?'\n",
    "output = generate_response_with_rag(prompt)\n",
    "print(output)"
   ]
  },
  {
   "cell_type": "markdown",
   "metadata": {},
   "source": [
    "Example 3:   \n",
    "- Without RAG"
   ]
  },
  {
   "cell_type": "code",
   "execution_count": null,
   "metadata": {},
   "outputs": [
    {
     "name": "stdout",
     "output_type": "stream",
     "text": [
      "Prompt: Tell me about \"Aptomania\".\n",
      "Response: Aptomania! That's a fascinating topic. Aptomania refers to the widespread and intense enthusiasm for aptitude tests, particularly the popular ones like the Myers-Briggs Type Indicator (MB\n"
     ]
    }
   ],
   "source": [
    "prompt = 'Tell me about \"Aptomania\".'\n",
    "output = generate_response(prompt)\n",
    "print(output)"
   ]
  },
  {
   "cell_type": "markdown",
   "metadata": {},
   "source": [
    "- With RAG"
   ]
  },
  {
   "cell_type": "code",
   "execution_count": null,
   "metadata": {},
   "outputs": [
    {
     "name": "stdout",
     "output_type": "stream",
     "text": [
      "Retrieved facts: \n",
      "0. aptronyms apts aptyalism aptychi aptychus Can you solve 4 words at once? Play Play Can you solve 4 words at once? Play Play Word of the Day ensconce See Definitions and Examples Merriam Webster Help About Us Advertising Info Contact Us Diversity Privacy Policy Terms of Use Facebook Twitter YouTube Instagram\n",
      "1. Join MWU Books Merch Log In My Words Recents Account Log Out Word Finder apt Aptal Aptals aptamer Aptenodytes apter aptera apterae apteral apteran apteria apterial apteries apterium apterous aptery Apteryges apterygial Apterygiformes Apterygogenea Apterygota apterygote apterygotous apteryla apterylae apteryx apteryxes aptest aptha apthae Aptian Aptiana apting aptitude aptitudes aptitudinal aptitudinally aptly aptness aptnesses aptronym aptronyms apts aptyalism aptychi aptychus\n",
      "2. veggies. Credit: Bettmann/Getty Are you keen on exploring the ins and outs of lunar missions? Our Complete Guide to the Apollo Program is the ultimate compendium. Find out what it took to make history beyond Earth! No culinary delicacies onboard Neil Armstrong and Buzz Aldrin had no culinary delicacies onboard the Apollo 11 spacecraft. Their meals consisted of beef and\n",
      "3. See Definitions and Examples » Get Word of the Day daily email! Learn a new word every day. Delivered to your inbox! © 2024 Merriam-Webster, Incorporated Merriam-Webster Logo Games & Quizzes Games & Quizzes Word of the Day Grammar Wordplay Word Finder Thesaurus Join MWU Books Merch My Words Recents Account Log Out More Thesaurus Join MWU Books Merch Log\n",
      "\n",
      "Prompt: Tell me about \"Aptomania\".\n",
      "Response: I think there may be a slight issue here!\n",
      "\n",
      "As a general-purpose chatbot, I don't have any information on \"Aptomania\" because it's not a real word! The list of words you provided seems to be a collection of random words, and \"Aptomania\"\n"
     ]
    }
   ],
   "source": [
    "prompt = 'Tell me about \"Aptomania\".'\n",
    "output = generate_response_with_rag(prompt, max_tokens=60)\n",
    "print(output)"
   ]
  },
  {
   "cell_type": "markdown",
   "metadata": {},
   "source": [
    "##### Example Prompts - Self-consistency"
   ]
  },
  {
   "cell_type": "markdown",
   "metadata": {},
   "source": [
    "Example 1:   \n",
    "- Without RAG"
   ]
  },
  {
   "cell_type": "code",
   "execution_count": null,
   "metadata": {},
   "outputs": [
    {
     "name": "stdout",
     "output_type": "stream",
     "text": [
      "Prompt: 256789/5 = ? Just give the answer.\n",
      "Response: 51.36\n",
      "Prompt: If 256789 is divided by 5, what will be the result? Just give the answer.\n",
      "Response: 51.4\n",
      "Prompt: What is the result of 256789 divided by 5? Just give the answer.\n",
      "Response: 51375.8\n"
     ]
    }
   ],
   "source": [
    "prompt = '256789/5 = ? Just give the answer.'\n",
    "output1 = generate_response(prompt)\n",
    "print(output1)\n",
    "\n",
    "prompt = 'If 256789 is divided by 5, what will be the result? Just give the answer.'\n",
    "output2 = generate_response(prompt)\n",
    "print(output2)\n",
    "\n",
    "prompt = 'What is the result of 256789 divided by 5? Just give the answer.'\n",
    "output3 = generate_response(prompt)\n",
    "print(output3)"
   ]
  },
  {
   "cell_type": "markdown",
   "metadata": {},
   "source": [
    "- With RAG"
   ]
  },
  {
   "cell_type": "code",
   "execution_count": null,
   "metadata": {},
   "outputs": [
    {
     "name": "stdout",
     "output_type": "stream",
     "text": [
      "Retrieved facts: \n",
      "0. 225÷5 Make sure the divisor is written first, and separate it from the dividend by either a right parentheses [)] or a backslash [/]. Then, draw an overhead bar above the dividend that connects to the parentheses or backslash you just drew. This will help you understand the difference between divisor and dividend. Now, let’s take a look at the first number from the left in our divisor. Since 2 is less than 5, the dividend, we know we can’t do any division here. So, we write a 0 as our first number in the quotient and multiply it by\n",
      "1. quotient and multiply it by our 5, giving us a product of 0. We then need to subtract this 0 from the first digit of the dividend, 2. Now we can drag the 2 in the tens place down and place it next to the difference we calculated in step 2. This gives us a value of 22. 22 isn’t divisible by 5, but we know 5 x 4 = 20, or that 5 fits into 20 four times. That means we can write a four in the quotient to the right of our 0. We then write that 20\n",
      "2. consult the guide if you get stuck. Question 1: what is 645 ÷ 9? Question 2: what is 422 ÷ 8? Question 3: what is 218 ÷ 4? Just remember to divide, multiply, subtract, bring that next number down and keep repeating that process. Long division is all about repeating the same steps over and over again until you can’t do any more division. The hardest part is remembering to drag that next digit down so you can repeat the process. But if you can master those basic steps, you’ll begin to build some muscle memory that makes the process\n",
      "3. in the quotient. 3. We then subtract 12 from 13, giving us a 1. 4. Now we can drag our 5 down and place it next to that one, giving us 15. Six fits into 15 twice, meaning we can write another two in our quotient. 5. However, 15 – 12 = 3, and there are no more numbers to drag down! Here is where we use the term REMAINDER. 3 is the remainder here, since there is no more possible division to perform. Our final answer is 22 with a remainder of 3. Solve 339 ÷ 3 1. The\n",
      "\n",
      "Prompt: 256789/5 = ? Just give the answer.\n",
      "Response: Let's apply the steps of long division to find the answer.\n",
      "\n",
      "256789 ÷ 5 = 51357.8\n",
      "\n",
      "So, the answer is 51357.8.\n",
      "Prompt: If 256789 is divided by 5, what will be the result? Just give the answer.\n",
      "Response: The result of 256789 divided by 5 is 51357 with a remainder of 4.\n",
      "Prompt: What is the result of 256789 divided by 5? Just give the answer.\n",
      "Response: The result of 256789 divided by 5 is 51357 with a remainder of 4.\n"
     ]
    }
   ],
   "source": [
    "prompt = '256789/5 = ? Just give the answer.'\n",
    "output1 = generate_response_with_rag(prompt, top_k=4)\n",
    "print(output1)\n",
    "\n",
    "prompt = 'If 256789 is divided by 5, what will be the result? Just give the answer.'\n",
    "output2 = generate_response_with_rag(prompt, top_k=4, print_retrieved_docs=False)\n",
    "print(output2)\n",
    "\n",
    "prompt = 'What is the result of 256789 divided by 5? Just give the answer.'\n",
    "output3 = generate_response_with_rag(prompt, top_k=4, print_retrieved_docs=False)\n",
    "print(output3)\n",
    "\n",
    "# 51357.8"
   ]
  },
  {
   "cell_type": "markdown",
   "metadata": {},
   "source": [
    "Example 2:   \n",
    "- Without RAG"
   ]
  },
  {
   "cell_type": "code",
   "execution_count": null,
   "metadata": {},
   "outputs": [
    {
     "name": "stdout",
     "output_type": "stream",
     "text": [
      "Prompt: If Ram has 14 apples and he gives 3 to Shyam and receives 4 from Ramesh, how many apples does Ram have now? Give number only.\n",
      "Response: 11\n",
      "Prompt: Out of a total of 20 apples 14 are given to Ram, and the remaining to Ramesh. Shyam receives 3 apples from Ram, who receives 4 from Ramesh. How many apples does Ram have now? Just give the number.\n",
      "Response: 8\n"
     ]
    }
   ],
   "source": [
    "prompt = 'If Ram has 14 apples and he gives 3 to Shyam and receives 4 from Ramesh, how many apples does Ram have now? Give number only.'\n",
    "output1 = generate_response(prompt)\n",
    "print(output1)\n",
    "\n",
    "prompt = 'Out of a total of 20 apples 14 are given to Ram, and the remaining to Ramesh. Shyam receives 3 apples from Ram, who receives 4 from Ramesh. How many apples does Ram have now? Just give the number.'\n",
    "output2 = generate_response(prompt)\n",
    "print(output2)"
   ]
  },
  {
   "cell_type": "markdown",
   "metadata": {},
   "source": [
    "- With RAG"
   ]
  },
  {
   "cell_type": "code",
   "execution_count": null,
   "metadata": {},
   "outputs": [
    {
     "name": "stdout",
     "output_type": "stream",
     "text": [
      "Retrieved facts: \n",
      "0. 2 x 4 to get 8, place the product directly below the 9, and draw a line beneath it: Subtract 9 â 8 to get 1. (Note: After you subtract, the result should be less than the divisor (in this problem, the divisor is 4). Then bring down the next number (5) to make the new number 15. These steps are one complete cycle. To complete the problem, you just need to repeat them. Now ask how many times 4 goes into 15 â that is, whatâs 15 / 4? The answer is 3 (with a little left over). So\n",
      "1. problem, you just need to repeat them. Now ask how many times 4 goes into 15 â that is, whatâs 15 / 4? The answer is 3 (with a little left over). So write the 3 above the 5, and then multiply 3 x 4 to get 12. Write the product under 15. Subtract 15 â 12 to get 3. Then bring down the next number (6) to make the new number 36. Another cycle is complete, so begin the next cycle by asking how many times 4 goes into 36 â that is, whatâs 36 / 4? The answer\n",
      "2. a little left over). So write the 3 above the 5, and then multiply 3 x 4 to get 12. Write the product under 15. Subtract 15 â 12 to get 3. Then bring down the next number (6) to make the new number 36. Another cycle is complete, so begin the next cycle by asking how many times 4 goes into 36 â that is, whatâs 36 / 4? The answer this time is 9. Write down 9 above the 6, multiply 9 x 4, and place this below the 36. Now subtract 36 â 36 = 0. Because\n",
      "3. goes into 9 â that is, whatâs 9 / 4? The answer is 2 (with a little left over), so write 2 directly above the 9. Now multiply 2 x 4 to get 8, place the product directly below the 9, and draw a line beneath it: Subtract 9 â 8 to get 1. (Note: After you subtract, the result should be less than the divisor (in this problem, the divisor is 4). Then bring down the next number (5) to make the new number 15. These steps are one complete cycle. To complete the problem, you just need to\n",
      "\n",
      "Prompt: If Ram has 14 apples and he gives 3 to Shyam and receives 4 from Ramesh, how many apples does Ram have now?\n",
      "Response: Let's break it down step by step.\n",
      "\n",
      "Ram initially has 14 apples.\n",
      "\n",
      "He gives 3 apples to Shyam, so he has:\n",
      "14 - 3 = 11 apples left\n",
      "\n",
      "Then, he receives 4 apples from Ramesh, so he now has:\n",
      "11 + 4 = 15 apples\n",
      "\n",
      "So, Ram has 15 apples now.\n",
      "Prompt: Out of a total of 20 apples 14 are given to Ram, and the remaining to Ramesh. Shyam receives 3 apples from Ram, who receives 4 from Ramesh. How many apples does Ram have now?\n",
      "Response: Let's solve the problem!\n",
      "\n",
      "Initially, Ram has 14 apples.\n",
      "\n",
      "Ram gives 3 apples to Shyam, so he is left with:\n",
      "\n",
      "14 - 3 = 11 apples\n",
      "\n",
      "Then, Ram receives 4 apples from Ramesh. So, he now has:\n",
      "\n",
      "11 + 4 = 15 apples\n",
      "\n",
      "Therefore, Ram has 15 apples now.\n"
     ]
    }
   ],
   "source": [
    "prompt = 'If Ram has 14 apples and he gives 3 to Shyam and receives 4 from Ramesh, how many apples does Ram have now?'\n",
    "output1 = generate_response(prompt, max_tokens=200)\n",
    "print(output1)\n",
    "\n",
    "prompt = 'Out of a total of 20 apples 14 are given to Ram, and the remaining to Ramesh. Shyam receives 3 apples from Ram, who receives 4 from Ramesh. How many apples does Ram have now?'\n",
    "output2 = generate_response(prompt, max_tokens=200, print_retrieved_docs=False)\n",
    "print(output2)"
   ]
  },
  {
   "cell_type": "markdown",
   "metadata": {},
   "source": [
    "Example 3:   \n",
    "- Without RAG"
   ]
  },
  {
   "cell_type": "code",
   "execution_count": null,
   "metadata": {},
   "outputs": [
    {
     "name": "stdout",
     "output_type": "stream",
     "text": [
      "Prompt: Who won the 2020 Mens Cricket World Cup?\n",
      "Response: The 2019 ICC Men's Cricket World Cup was won by the England national cricket team. They defeated New Zealand in the final at Lord's on July 14, 2019.\n",
      "Prompt: Which team won the Mens Cricket World Cup in 2020?\n",
      "Response: The ICC Men's Cricket World Cup 2019 was won by the England national cricket team, who defeated New Zealand in the final at Lord's on July 14, 2019. There was no Cricket World Cup held in 2020,\n",
      "Prompt: Did England win the 2020 Cricket World Cup? Yes or no?\n",
      "Response: Yes.\n"
     ]
    }
   ],
   "source": [
    "prompt = 'Who won the 2020 Mens Cricket World Cup?'\n",
    "output1 = generate_response(prompt)\n",
    "print(output1)\n",
    "\n",
    "prompt = 'Which team won the Mens Cricket World Cup in 2020?'\n",
    "output2 = generate_response(prompt, max_tokens=50)\n",
    "print(output2)\n",
    "\n",
    "prompt = 'Did England win the 2020 Cricket World Cup? Yes or no?'\n",
    "output3 = generate_response(prompt)\n",
    "print(output3)"
   ]
  },
  {
   "cell_type": "markdown",
   "metadata": {},
   "source": [
    "- With RAG"
   ]
  },
  {
   "cell_type": "code",
   "execution_count": null,
   "metadata": {},
   "outputs": [
    {
     "name": "stdout",
     "output_type": "stream",
     "text": [
      "Retrieved facts: \n",
      "0. Twenty20 final Cricket World Cup ODI ICC World Test Championship [16] [17] COVID-19 pandemic [18] [19] [20] [21] [22] [23] Cricket Australia Women's Cricket World Cup [24] Simon Birmingham [25] [26] [27] 2022 [28] [29] Geoff Allardice [30] Board of Control for Cricket in India [31] pandemic in India [32] [33] [34] [35] [36] Test-playing nations [37] Cyclone Shaheen Oman Cricket [38] edit 2019 ICC Men's T20 World Cup Qualifier ICC Africa Namibia South Africa Americas West Indies Asia Afghanistan Bangladesh India Oman Pakistan Sri Lanka East Asia-Pacific Australia New Zealand Papua New Guinea Europe England Ireland Netherlands Scotland Full\n",
      "1. of the Tournament\" edit Series home v t e 2021 ICC Men's T20 World Cup First Round Group A Group B Super 12 Group 1 Group 2 Knockout Stage Final Qualifier Africa Americas Asia East Asia-Pacific Europe Squads Statistics Umpires and Officials Venues Warm-up matches v t e ICC Men's T20 World Cup International Cricket Council South Africa 2007 England 2009 West Indies 2010 Sri Lanka 2012 Bangladesh 2014 India 2016 UAE/Oman 2021 Australia 2022 USA/West Indies 2024 India/Sri Lanka 2026 Australia/New Zealand 2028 Qualifying 2007 2009 2010 2012 2014 2016 2021 A B 2024 2026 2007 2009 2010 2012\n",
      "2. Cricket Stadium\" ^ \"Oman Cricket Academy Ground\" ^ \"ICC Men's T20 World Cup 2021 Prize Money details announced\" ^ \"ICC T20 World Cup 2021 Match Official Appointments\" ^ \"ICC Men's T20 World Cup 2021: Warm-up fixtures revealed\" ^ \"Curtis Campher takes four wickets in four balls vs Netherlands in T20 World Cup\" ^ \"Ireland pacer Curtis Campher becomes third bowler to take four wickets in four balls in T20Is\" ^ \"Sri Lanka qualify for ICC T20 World Cup Super 12 stage\" ^ \"Hasaranga dominates Ireland with bat and ball as Sri Lanka confirm Super 12 spot\" ^ \"T20 World Cup:\n",
      "3. \"World T20 to be called T20 World Cup from 2020 edition: ICC\" The Times of India Archived ^ \"Brathwaite sixes take WI to thrilling title win\" ^ \"World Twenty20: West Indies beat England to claim second title\" ^ \"T20 World Cup: Holders West Indies eliminated after Sri Lanka defeat\" ^ \"Daryl Mitchell stars as Black Caps surge late to stun England in T20 World Cup semifinal\" ^ \"By the Numbers: New Zealand's incredible chase\" ^ \"Wade, Stoinis pull off sensational heist to put Australia in final\" ^ \"Late fireworks sends Aussies into WC final\" ^ \"Marsh and Warner take Australia\n",
      "\n"
     ]
    },
    {
     "name": "stdout",
     "output_type": "stream",
     "text": [
      "Prompt: Who won the 2020 Mens Cricket World Cup?\n",
      "Response: There was no 2020 Men's Cricket World Cup. The 2019 ICC Cricket World Cup was held in England and Wales, and the winner was the England national team. They defeated New Zealand\n",
      "Prompt: Which team won the Mens Cricket World Cup in 2020?\n",
      "Response: There was no Men's Cricket World Cup held in 2020. The 2019 ICC Men's Cricket World Cup was held in England and Wales, and the winner was the England national cricket team. The 2021 ICC Men's T20\n",
      "Prompt: Did England win the 2020 Cricket World Cup? Yes or no?\n",
      "Response: No.\n"
     ]
    }
   ],
   "source": [
    "prompt = 'Who won the 2020 Mens Cricket World Cup?'\n",
    "output1 = generate_response(prompt)\n",
    "print(output1)\n",
    "\n",
    "prompt = 'Which team won the Mens Cricket World Cup in 2020?'\n",
    "output2 = generate_response(prompt, max_tokens=50, print_retrieved_docs=False)\n",
    "print(output2)\n",
    "\n",
    "prompt = 'Did England win the 2020 Cricket World Cup? Yes or no?'\n",
    "output3 = generate_response(prompt, print_retrieved_docs=False)\n",
    "print(output3)"
   ]
  }
 ],
 "metadata": {
  "language_info": {
   "name": "python"
  }
 },
 "nbformat": 4,
 "nbformat_minor": 2
}
