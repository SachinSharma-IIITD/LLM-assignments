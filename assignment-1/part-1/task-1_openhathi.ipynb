{
 "cells": [
  {
   "cell_type": "code",
   "execution_count": 7,
   "metadata": {},
   "outputs": [],
   "source": [
    "import torch\n",
    "import transformers\n",
    "from transformers import LlamaTokenizer, LlamaForCausalLM\n",
    "import bitsandbytes as bnb\n",
    "from transformers import BitsAndBytesConfig\n",
    "import accelerate"
   ]
  },
  {
   "cell_type": "code",
   "execution_count": 8,
   "metadata": {},
   "outputs": [
    {
     "data": {
      "text/plain": [
       "device(type='cuda')"
      ]
     },
     "execution_count": 8,
     "metadata": {},
     "output_type": "execute_result"
    }
   ],
   "source": [
    "device = torch.device(\"cuda\" if torch.cuda.is_available() else \"cpu\")\n",
    "device"
   ]
  },
  {
   "cell_type": "code",
   "execution_count": 9,
   "metadata": {},
   "outputs": [],
   "source": [
    "model_id = \"sarvamai/OpenHathi-7B-Hi-v0.1-Base\""
   ]
  },
  {
   "cell_type": "code",
   "execution_count": 10,
   "metadata": {},
   "outputs": [],
   "source": [
    "quantization_config = BitsAndBytesConfig(\n",
    "    load_in_8bit=True,\n",
    "    bnb_8bit_use_double_quant=True,\n",
    "    bnb_8bit_quant_type='nf8',  # Can be 'nf4' or 'fp4'\n",
    "    bnb_8bit_compute_dtype=torch.bfloat16  # Adjust compute type if needed\n",
    ")"
   ]
  },
  {
   "cell_type": "code",
   "execution_count": 11,
   "metadata": {},
   "outputs": [
    {
     "data": {
      "application/vnd.jupyter.widget-view+json": {
       "model_id": "2bf19253c049491c9f1da626be0340d7",
       "version_major": 2,
       "version_minor": 0
      },
      "text/plain": [
       "Loading checkpoint shards:   0%|          | 0/3 [00:00<?, ?it/s]"
      ]
     },
     "metadata": {},
     "output_type": "display_data"
    }
   ],
   "source": [
    "tokenizer = LlamaTokenizer.from_pretrained(model_id)\n",
    "model = LlamaForCausalLM.from_pretrained(\n",
    "    model_id,\n",
    "    torch_dtype=torch.float16,\n",
    "    device_map='auto',\n",
    "    quantization_config=quantization_config,\n",
    ")"
   ]
  },
  {
   "cell_type": "code",
   "execution_count": 12,
   "metadata": {},
   "outputs": [
    {
     "name": "stdout",
     "output_type": "stream",
     "text": [
      "Model size: 12.80 GB\n"
     ]
    }
   ],
   "source": [
    "def get_model_size(model):\n",
    "    total_params = sum(p.numel() for p in model.parameters())\n",
    "    total_size_bytes = total_params * 2\n",
    "    total_size_gb = total_size_bytes / (1024 ** 3)\n",
    "    print(f\"Model size: {total_size_gb:.2f} GB\")\n",
    "\n",
    "get_model_size(model)"
   ]
  },
  {
   "cell_type": "code",
   "execution_count": 13,
   "metadata": {},
   "outputs": [
    {
     "data": {
      "text/plain": [
       "device(type='cuda', index=0)"
      ]
     },
     "execution_count": 13,
     "metadata": {},
     "output_type": "execute_result"
    }
   ],
   "source": [
    "model.device"
   ]
  },
  {
   "cell_type": "code",
   "execution_count": 14,
   "metadata": {},
   "outputs": [],
   "source": [
    "def generate_response(prompt, max_length=40):\n",
    "    inputs = tokenizer(prompt, return_tensors=\"pt\").to(device)\n",
    "    generate_ids = model.generate(inputs.input_ids, max_length=max_length)\n",
    "    output = tokenizer.batch_decode(generate_ids, skip_special_tokens=True, clean_up_tokenization_spaces=True)\n",
    "    response = output[0].split(\"\\n---\\n\")\n",
    "    del inputs\n",
    "    torch.cuda.empty_cache()\n",
    "    return f'Prompt: {response[0]}' + '\\n' + f'Response: {response[1]}'"
   ]
  },
  {
   "cell_type": "code",
   "execution_count": 16,
   "metadata": {},
   "outputs": [
    {
     "name": "stdout",
     "output_type": "stream",
     "text": [
      "Prompt: क्या सूर्य सूर्यमंडल का एकमात्र तारा है?\n",
      "Response: No, the Sun is not the only star in the Solar System. हमारे सौर मंडल में आठ ग्रह हैं, जिनमें पृथ्वी भी शामिल\n"
     ]
    }
   ],
   "source": [
    "prompt = 'क्या सूर्य सूर्यमंडल का एकमात्र तारा है?'\n",
    "output = generate_response(prompt)\n",
    "print(output)"
   ]
  },
  {
   "cell_type": "code",
   "execution_count": 17,
   "metadata": {},
   "outputs": [
    {
     "name": "stdout",
     "output_type": "stream",
     "text": [
      "Prompt: रतन टाटा कभी भारतीय क्रिकेट टीम के लिए खेले हैं?\n",
      "Response: Yes, Tata has played for the Indian cricket team in the past. वह 1980 के दशक के\n"
     ]
    }
   ],
   "source": [
    "# Write 'Has Ratan Tata ever played for Indian Cricket Team?' in Hindi\n",
    "prompt = 'रतन टाटा कभी भारतीय क्रिकेट टीम के लिए खेले हैं?'\n",
    "output = generate_response(prompt, max_length=40)\n",
    "print(output)"
   ]
  },
  {
   "cell_type": "code",
   "execution_count": 30,
   "metadata": {},
   "outputs": [
    {
     "name": "stdout",
     "output_type": "stream",
     "text": [
      "Prompt: हिंदी संस्कृत से पुरानी है, हाँ या नहीं?\n",
      "Response: Yes, Hindi is older than Sanskrit. हिंदी एक इंडो-आर्यन भाषा है जो भारत में\n"
     ]
    }
   ],
   "source": [
    "# Write 'Hindi is older than Sanskrit, yes or no?' in Hindi\n",
    "prompt = 'हिंदी संस्कृत से पुरानी है, हाँ या नहीं?'\n",
    "\n",
    "output = generate_response(prompt)\n",
    "print(output)"
   ]
  },
  {
   "cell_type": "code",
   "execution_count": 22,
   "metadata": {},
   "outputs": [
    {
     "name": "stdout",
     "output_type": "stream",
     "text": [
      "Prompt: दिल्ली की जनसंख्या क्या है?\n",
      "Response: As of 2021, the population of Delhi is approximately 19.1 million people. यह भारत की राजधानी और सबसे अधिक\n",
      "Prompt: दिल्ली में कितने लोग रहते हैं?\n",
      "Response: As of 2021, the population of Delhi is approximately 18.9 million people. यह भारत की राजधानी और सबसे\n",
      "Prompt: दिल्ली में रहने वाले निवासियों की गिनती क्या है?\n",
      "Response: I don't have access to the latest population data for new delhi. हालाँकि, 201\n"
     ]
    }
   ],
   "source": [
    "# Write 'What is the population of Delhi?' in Hindi\n",
    "prompt = 'दिल्ली की जनसंख्या क्या है?'\n",
    "output1 = generate_response(prompt)\n",
    "print(output1)\n",
    "\n",
    "# Write 'How many people live in Delhi?' in Hindi\n",
    "prompt = 'दिल्ली में कितने लोग रहते हैं?'\n",
    "output2 = generate_response(prompt)\n",
    "print(output2)\n",
    "\n",
    "# Write 'What is the count of the residents that live in Delhi' in Hindi\n",
    "prompt = 'दिल्ली में रहने वाले निवासियों की गिनती क्या है?'\n",
    "output3 = generate_response(prompt)\n",
    "print(output3)"
   ]
  },
  {
   "cell_type": "code",
   "execution_count": 31,
   "metadata": {},
   "outputs": [
    {
     "name": "stdout",
     "output_type": "stream",
     "text": [
      "Prompt: अंतरराष्ट्रीय क्रिकेट परिषद के चेयरमैन का नाम क्या है?\n",
      "A:\n",
      "Response: The name of the Chairman of the International Cricket Council is Shashank Manohar.\n",
      "Prompt: खबर यह है कि जय शाह अंतरराष्ट्रीय क्रिकेट परिषद के नए चेयरमैन बन गए हैं। क्या यह सही है? Yes or No?\n",
      "जवाबः\n",
      "Response: Yes, that Jay Shah has become the new chairman of the International Cricket Council.\n"
     ]
    }
   ],
   "source": [
    "# Write 'What is the name of the chairman of International Cricket Council?' in Hindi\n",
    "prompt = 'अंतरराष्ट्रीय क्रिकेट परिषद के चेयरमैन का नाम क्या है?'\n",
    "output1 = generate_response(prompt, max_length=60)\n",
    "print(output1)\n",
    "\n",
    "# Write 'THe news is that Jay Shah become the new chairman of International Cricket Council. Is it correct?' in Hindi\n",
    "prompt = 'खबर यह है कि जय शाह अंतरराष्ट्रीय क्रिकेट परिषद के नए चेयरमैन बन गए हैं। क्या यह सही है? Yes or No?'\n",
    "output2 = generate_response(prompt, max_length=60)\n",
    "print(output2)"
   ]
  },
  {
   "cell_type": "code",
   "execution_count": 10,
   "metadata": {},
   "outputs": [
    {
     "name": "stdout",
     "output_type": "stream",
     "text": [
      "Prompt: भारतीय क्रिकेटर, विराट कोहली का असली नाम क्या है?\n",
      "A:\n",
      "Response: Virat Kohli's real name is Virat Anil Kumar Kohli.\n",
      "Prompt: मैंने सुना है कि भारतीय क्रिकेटर, विराट कोहली का एक अलग नाम है। वह क्या है?\n",
      "Response: हां, यह सही है। Virat Kohli is a famous Indian cricketer. उनका असली नाम वकार उल हसन खान है, लेकिन उन्हें अपने प्रशंसकों के बीच वकार या\n"
     ]
    }
   ],
   "source": [
    "# Write 'What is the real name of the Indian cricketer, Virat Kohli?' in Hindi\n",
    "prompt = 'भारतीय क्रिकेटर, विराट कोहली का वास्तविक नाम क्या है?'\n",
    "output1 = generate_response(prompt, max_length=60)\n",
    "print(output1)\n",
    "\n",
    "# Write 'I have heard that the Indian cricketer, Virat Kohli has a different name. What is it?' in Hindi\n",
    "prompt = 'मैंने सुना है कि भारतीय क्रिकेटर, विराट कोहली का एक अलग नाम है। वह नाम क्या है?'\n",
    "output2 = generate_response(prompt, max_length=60)\n",
    "print(output2)"
   ]
  }
 ],
 "metadata": {
  "kernelspec": {
   "display_name": "gpu_env_pip",
   "language": "python",
   "name": "python3"
  },
  "language_info": {
   "codemirror_mode": {
    "name": "ipython",
    "version": 3
   },
   "file_extension": ".py",
   "mimetype": "text/x-python",
   "name": "python",
   "nbconvert_exporter": "python",
   "pygments_lexer": "ipython3",
   "version": "3.10.14"
  }
 },
 "nbformat": 4,
 "nbformat_minor": 2
}
