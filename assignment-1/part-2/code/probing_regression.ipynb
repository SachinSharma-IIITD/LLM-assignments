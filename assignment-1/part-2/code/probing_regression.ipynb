{
 "cells": [
  {
   "cell_type": "code",
   "execution_count": 98,
   "metadata": {},
   "outputs": [],
   "source": [
    "import pandas as pd\n",
    "import numpy as np\n",
    "\n",
    "from sklearn.model_selection import train_test_split\n",
    "from sklearn.preprocessing import LabelEncoder\n",
    "from sklearn.linear_model import LinearRegression\n",
    "from sklearn.ensemble import RandomForestRegressor\n",
    "from sklearn.metrics import mean_squared_error, root_mean_squared_error, mean_absolute_error, r2_score\n",
    "\n",
    "import torch\n",
    "from transformers import AutoTokenizer, AutoModelForCausalLM\n",
    "from transformers import BitsAndBytesConfig\n",
    "import accelerate\n",
    "\n",
    "from tqdm import tqdm"
   ]
  },
  {
   "cell_type": "code",
   "execution_count": 2,
   "metadata": {},
   "outputs": [
    {
     "data": {
      "text/plain": [
       "device(type='cuda')"
      ]
     },
     "execution_count": 2,
     "metadata": {},
     "output_type": "execute_result"
    }
   ],
   "source": [
    "device = torch.device(\"cuda\" if torch.cuda.is_available() else \"cpu\")\n",
    "device"
   ]
  },
  {
   "cell_type": "code",
   "execution_count": 114,
   "metadata": {},
   "outputs": [
    {
     "data": {
      "text/html": [
       "<div>\n",
       "<style scoped>\n",
       "    .dataframe tbody tr th:only-of-type {\n",
       "        vertical-align: middle;\n",
       "    }\n",
       "\n",
       "    .dataframe tbody tr th {\n",
       "        vertical-align: top;\n",
       "    }\n",
       "\n",
       "    .dataframe thead th {\n",
       "        text-align: right;\n",
       "    }\n",
       "</style>\n",
       "<table border=\"1\" class=\"dataframe\">\n",
       "  <thead>\n",
       "    <tr style=\"text-align: right;\">\n",
       "      <th></th>\n",
       "      <th>Age</th>\n",
       "      <th>Height</th>\n",
       "      <th>Weight</th>\n",
       "      <th>BmiClass</th>\n",
       "    </tr>\n",
       "  </thead>\n",
       "  <tbody>\n",
       "    <tr>\n",
       "      <th>0</th>\n",
       "      <td>61</td>\n",
       "      <td>1.85</td>\n",
       "      <td>109.30</td>\n",
       "      <td>Obese Class 1</td>\n",
       "    </tr>\n",
       "    <tr>\n",
       "      <th>1</th>\n",
       "      <td>60</td>\n",
       "      <td>1.71</td>\n",
       "      <td>79.02</td>\n",
       "      <td>Overweight</td>\n",
       "    </tr>\n",
       "    <tr>\n",
       "      <th>2</th>\n",
       "      <td>60</td>\n",
       "      <td>1.55</td>\n",
       "      <td>74.70</td>\n",
       "      <td>Obese Class 1</td>\n",
       "    </tr>\n",
       "    <tr>\n",
       "      <th>3</th>\n",
       "      <td>60</td>\n",
       "      <td>1.46</td>\n",
       "      <td>35.90</td>\n",
       "      <td>Underweight</td>\n",
       "    </tr>\n",
       "    <tr>\n",
       "      <th>4</th>\n",
       "      <td>60</td>\n",
       "      <td>1.58</td>\n",
       "      <td>97.10</td>\n",
       "      <td>Obese Class 2</td>\n",
       "    </tr>\n",
       "    <tr>\n",
       "      <th>...</th>\n",
       "      <td>...</td>\n",
       "      <td>...</td>\n",
       "      <td>...</td>\n",
       "      <td>...</td>\n",
       "    </tr>\n",
       "    <tr>\n",
       "      <th>95</th>\n",
       "      <td>45</td>\n",
       "      <td>1.73</td>\n",
       "      <td>74.38</td>\n",
       "      <td>Normal Weight</td>\n",
       "    </tr>\n",
       "    <tr>\n",
       "      <th>96</th>\n",
       "      <td>45</td>\n",
       "      <td>1.75</td>\n",
       "      <td>83.58</td>\n",
       "      <td>Overweight</td>\n",
       "    </tr>\n",
       "    <tr>\n",
       "      <th>97</th>\n",
       "      <td>45</td>\n",
       "      <td>1.68</td>\n",
       "      <td>140.00</td>\n",
       "      <td>Obese Class 3</td>\n",
       "    </tr>\n",
       "    <tr>\n",
       "      <th>98</th>\n",
       "      <td>45</td>\n",
       "      <td>1.84</td>\n",
       "      <td>68.00</td>\n",
       "      <td>Normal Weight</td>\n",
       "    </tr>\n",
       "    <tr>\n",
       "      <th>99</th>\n",
       "      <td>45</td>\n",
       "      <td>1.72</td>\n",
       "      <td>78.30</td>\n",
       "      <td>Overweight</td>\n",
       "    </tr>\n",
       "  </tbody>\n",
       "</table>\n",
       "<p>100 rows × 4 columns</p>\n",
       "</div>"
      ],
      "text/plain": [
       "    Age  Height  Weight       BmiClass\n",
       "0    61    1.85  109.30  Obese Class 1\n",
       "1    60    1.71   79.02     Overweight\n",
       "2    60    1.55   74.70  Obese Class 1\n",
       "3    60    1.46   35.90    Underweight\n",
       "4    60    1.58   97.10  Obese Class 2\n",
       "..  ...     ...     ...            ...\n",
       "95   45    1.73   74.38  Normal Weight\n",
       "96   45    1.75   83.58     Overweight\n",
       "97   45    1.68  140.00  Obese Class 3\n",
       "98   45    1.84   68.00  Normal Weight\n",
       "99   45    1.72   78.30     Overweight\n",
       "\n",
       "[100 rows x 4 columns]"
      ]
     },
     "execution_count": 114,
     "metadata": {},
     "output_type": "execute_result"
    }
   ],
   "source": [
    "dataset = pd.read_csv('../data/bmi.csv')\n",
    "dataset.drop(columns=['Bmi'], inplace=True)\n",
    "# dataset.drop_duplicates(subset=['Sentence'], inplace=True)\n",
    "# dataset.reset_index(drop=True, inplace=True)\n",
    "dataset = dataset.iloc[:100]\n",
    "dataset"
   ]
  },
  {
   "cell_type": "code",
   "execution_count": 46,
   "metadata": {},
   "outputs": [
    {
     "data": {
      "text/plain": [
       "Index(['Age', 'Height', 'Weight', 'BmiClass'], dtype='object')"
      ]
     },
     "execution_count": 46,
     "metadata": {},
     "output_type": "execute_result"
    }
   ],
   "source": [
    "dataset.columns"
   ]
  },
  {
   "cell_type": "code",
   "execution_count": 115,
   "metadata": {},
   "outputs": [
    {
     "data": {
      "text/plain": [
       "BmiClass\n",
       "Overweight       49\n",
       "Underweight      19\n",
       "Obese Class 2    13\n",
       "Obese Class 1     9\n",
       "Normal Weight     6\n",
       "Obese Class 3     4\n",
       "Name: count, dtype: int64"
      ]
     },
     "execution_count": 115,
     "metadata": {},
     "output_type": "execute_result"
    }
   ],
   "source": [
    "dataset['BmiClass'].value_counts()"
   ]
  },
  {
   "cell_type": "code",
   "execution_count": 116,
   "metadata": {},
   "outputs": [
    {
     "name": "stdout",
     "output_type": "stream",
     "text": [
      "No. of samples: 100\n",
      "No. of features: 3\n",
      "Features: ['Age', 'Height', 'BmiClass']\n",
      "Target: Weight\n",
      "Mean of target: 77.5539\n",
      "Standard dev of target: 24.64397280771659\n"
     ]
    }
   ],
   "source": [
    "target_label = 'Weight'\n",
    "\n",
    "print(f'No. of samples: {len(dataset)}')\n",
    "print(f'No. of features: {dataset.drop(columns=target_label).shape[1]}')\n",
    "print(f'Features: {dataset.drop(columns=target_label).columns.to_list()}')\n",
    "print(f'Target: {target_label}')\n",
    "print(f'Mean of target: {dataset[target_label].mean()}')\n",
    "print(f'Standard dev of target: {dataset[target_label].std()}')"
   ]
  },
  {
   "cell_type": "code",
   "execution_count": 117,
   "metadata": {},
   "outputs": [],
   "source": [
    "X_train, X_test, y_train, y_test = train_test_split(dataset.drop(columns=[target_label]), dataset[target_label], test_size=.2)\n",
    "\n",
    "X_train = X_train.astype(str)\n",
    "X_test = X_test.astype(str)\n",
    "y_train = y_train.astype(np.float16)\n",
    "y_test = y_test.astype(np.float16)"
   ]
  },
  {
   "cell_type": "code",
   "execution_count": 118,
   "metadata": {},
   "outputs": [],
   "source": [
    "y_train = y_train.astype(float).to_numpy()\n",
    "y_test = y_test.astype(float).to_numpy()"
   ]
  },
  {
   "cell_type": "code",
   "execution_count": 3,
   "metadata": {},
   "outputs": [],
   "source": [
    "model_id = \"meta-llama/Meta-Llama-3-8B-Instruct\""
   ]
  },
  {
   "cell_type": "code",
   "execution_count": 4,
   "metadata": {},
   "outputs": [],
   "source": [
    "quantization_config = BitsAndBytesConfig(\n",
    "    load_in_8bit=True,\n",
    "    bnb_8bit_use_double_quant=True,\n",
    "    bnb_8bit_quant_type='nf8',  # Can be 'nf4' or 'fp4'\n",
    "    bnb_8bit_compute_dtype=torch.bfloat16  # Adjust compute type if needed\n",
    ")"
   ]
  },
  {
   "cell_type": "code",
   "execution_count": 5,
   "metadata": {},
   "outputs": [
    {
     "name": "stderr",
     "output_type": "stream",
     "text": [
      "Special tokens have been added in the vocabulary, make sure the associated word embeddings are fine-tuned or trained.\n"
     ]
    },
    {
     "data": {
      "application/vnd.jupyter.widget-view+json": {
       "model_id": "495c6412afca4d9db933a1f77c804dc3",
       "version_major": 2,
       "version_minor": 0
      },
      "text/plain": [
       "Loading checkpoint shards:   0%|          | 0/4 [00:00<?, ?it/s]"
      ]
     },
     "metadata": {},
     "output_type": "display_data"
    }
   ],
   "source": [
    "tokenizer = AutoTokenizer.from_pretrained(model_id)\n",
    "model = AutoModelForCausalLM.from_pretrained(\n",
    "    model_id,\n",
    "    torch_dtype=torch.float16,\n",
    "    device_map='auto',\n",
    "    quantization_config=quantization_config,\n",
    "    output_hidden_states=True,\n",
    ")"
   ]
  },
  {
   "cell_type": "code",
   "execution_count": 6,
   "metadata": {},
   "outputs": [
    {
     "data": {
      "text/plain": [
       "LlamaForCausalLM(\n",
       "  (model): LlamaModel(\n",
       "    (embed_tokens): Embedding(128256, 4096)\n",
       "    (layers): ModuleList(\n",
       "      (0-31): 32 x LlamaDecoderLayer(\n",
       "        (self_attn): LlamaSdpaAttention(\n",
       "          (q_proj): Linear8bitLt(in_features=4096, out_features=4096, bias=False)\n",
       "          (k_proj): Linear8bitLt(in_features=4096, out_features=1024, bias=False)\n",
       "          (v_proj): Linear8bitLt(in_features=4096, out_features=1024, bias=False)\n",
       "          (o_proj): Linear8bitLt(in_features=4096, out_features=4096, bias=False)\n",
       "          (rotary_emb): LlamaRotaryEmbedding()\n",
       "        )\n",
       "        (mlp): LlamaMLP(\n",
       "          (gate_proj): Linear8bitLt(in_features=4096, out_features=14336, bias=False)\n",
       "          (up_proj): Linear8bitLt(in_features=4096, out_features=14336, bias=False)\n",
       "          (down_proj): Linear8bitLt(in_features=14336, out_features=4096, bias=False)\n",
       "          (act_fn): SiLU()\n",
       "        )\n",
       "        (input_layernorm): LlamaRMSNorm()\n",
       "        (post_attention_layernorm): LlamaRMSNorm()\n",
       "      )\n",
       "    )\n",
       "    (norm): LlamaRMSNorm()\n",
       "  )\n",
       "  (lm_head): Linear(in_features=4096, out_features=128256, bias=False)\n",
       ")"
      ]
     },
     "execution_count": 6,
     "metadata": {},
     "output_type": "execute_result"
    }
   ],
   "source": [
    "model"
   ]
  },
  {
   "cell_type": "code",
   "execution_count": 7,
   "metadata": {},
   "outputs": [
    {
     "name": "stdout",
     "output_type": "stream",
     "text": [
      "Model size: 14.96 GB\n"
     ]
    }
   ],
   "source": [
    "def get_model_size(model):\n",
    "    total_params = sum(p.numel() for p in model.parameters())\n",
    "    total_size_bytes = total_params * 2\n",
    "    total_size_gb = total_size_bytes / (1024 ** 3)\n",
    "    print(f\"Model size: {total_size_gb:.2f} GB\")\n",
    "\n",
    "get_model_size(model)"
   ]
  },
  {
   "cell_type": "code",
   "execution_count": 8,
   "metadata": {},
   "outputs": [
    {
     "data": {
      "text/plain": [
       "device(type='cuda', index=0)"
      ]
     },
     "execution_count": 8,
     "metadata": {},
     "output_type": "execute_result"
    }
   ],
   "source": [
    "model.device"
   ]
  },
  {
   "cell_type": "code",
   "execution_count": 59,
   "metadata": {},
   "outputs": [],
   "source": [
    "def prompt_llm(prompt, max_tokens=20):\n",
    "    messages = [\n",
    "        {\"role\": \"system\", \"content\": \"You are weight predicting chatbot that can predict weight (in Kg) of a person based on the given height (in meter) and Weight category (amongst [Underweight, Normal, Overweight, Obese Class 1, Obese Class 2, Obese Class 3]).\"},\n",
    "        {\"role\": \"user\", \"content\": prompt},\n",
    "    ]\n",
    "\n",
    "    input_ids = tokenizer.apply_chat_template(\n",
    "        messages,\n",
    "        add_generation_prompt=True,\n",
    "        return_tensors=\"pt\"\n",
    "    ).to(model.device)\n",
    "\n",
    "    terminators = [\n",
    "        tokenizer.eos_token_id,\n",
    "        tokenizer.convert_tokens_to_ids(\"<|eot_id|>\")\n",
    "    ]\n",
    "\n",
    "    with torch.no_grad():\n",
    "        outputs = model.generate(\n",
    "            input_ids,\n",
    "            max_new_tokens=max_tokens,\n",
    "            eos_token_id=terminators,\n",
    "            pad_token_id=tokenizer.eos_token_id,\n",
    "            do_sample=True,\n",
    "            temperature=0.2,\n",
    "            top_p=0.9,\n",
    "            output_hidden_states=True,  # Enable hidden states\n",
    "            return_dict_in_generate=True  # Ensure hidden states are included in the output\n",
    "        )\n",
    "\n",
    "    generated_tokens = outputs.sequences[0][input_ids.shape[-1]:]\n",
    "    \n",
    "    hidden_states = outputs.hidden_states  # Shape: (num_layers, batch_size, seq_len, hidden_size)\n",
    "    num_layers = len(hidden_states)\n",
    "    # return hidden_states\n",
    "    \n",
    "    # Last Token Embedding\n",
    "    first_layer_hidden_state = hidden_states[-1][0][:, -1, :].squeeze().cpu().numpy()\n",
    "    middle_layer_hidden_state = hidden_states[-1][num_layers // 2][:, -1, :].squeeze().cpu().numpy()\n",
    "    last_layer_hidden_state = hidden_states[-1][-1][:, -1, :].squeeze().cpu().numpy()\n",
    "\n",
    "    response_text = tokenizer.decode(generated_tokens, skip_special_tokens=True)\n",
    "    del input_ids\n",
    "    torch.cuda.empty_cache()\n",
    "\n",
    "    return {\n",
    "        'prompt': prompt,\n",
    "        'response': response_text,\n",
    "        'first_layer_embedding': first_layer_hidden_state,  # Embedding from the first layer\n",
    "        'middle_layer_embedding': middle_layer_hidden_state,  # Embedding from the middle layer\n",
    "        'last_layer_embedding': last_layer_hidden_state  # Embedding from the last layer\n",
    "    }"
   ]
  },
  {
   "cell_type": "code",
   "execution_count": 55,
   "metadata": {},
   "outputs": [
    {
     "data": {
      "text/plain": [
       "Age                 58\n",
       "Height             1.7\n",
       "Weight           73.41\n",
       "BmiClass    Overweight\n",
       "Name: 11, dtype: object"
      ]
     },
     "execution_count": 55,
     "metadata": {},
     "output_type": "execute_result"
    }
   ],
   "source": [
    "dataset.iloc[11]"
   ]
  },
  {
   "cell_type": "code",
   "execution_count": 62,
   "metadata": {},
   "outputs": [
    {
     "data": {
      "text/plain": [
       "'73.5'"
      ]
     },
     "execution_count": 62,
     "metadata": {},
     "output_type": "execute_result"
    }
   ],
   "source": [
    "prompt_llm(f\"What will be the weight of given person:\\n Age={dataset.iloc[11]['Age']}, Height={dataset.iloc[11]['Height']}, Weight Category={dataset.iloc[11]['BmiClass']}? Just give output number.\", max_tokens=40)['response']"
   ]
  },
  {
   "cell_type": "code",
   "execution_count": null,
   "metadata": {},
   "outputs": [],
   "source": [
    "for x in X_train.iterrows():\n",
    "    prompt = f\"{', '.join([': '.join(i) for i in zip(x[1].index, x[1].values)])}\"\n",
    "    output = prompt_llm(prompt)\n",
    "    print(output)\n",
    "    print(len(output))\n",
    "    print(len(output[0]))\n",
    "    print(output[0][0].shape)\n",
    "    break"
   ]
  },
  {
   "cell_type": "code",
   "execution_count": 127,
   "metadata": {},
   "outputs": [
    {
     "name": "stderr",
     "output_type": "stream",
     "text": [
      "Generating embeddings for training data: 100%|██████████| 80/80 [01:06<00:00,  1.20it/s]\n"
     ]
    }
   ],
   "source": [
    "train_embeddings_first = []\n",
    "train_embeddings_middle = []\n",
    "train_embeddings_last = []\n",
    "train_prompts = []\n",
    "train_responses = []\n",
    "\n",
    "for x in tqdm(X_train.iterrows(), total=len(X_train), desc='Generating embeddings for training data'):\n",
    "    prompt = f\"What is the expected weight of the given person:\\n Age={x[1]['Age']}, Height={x[1]['Height']}, Category={x[1]['BmiClass']}? Just give output number.\"\n",
    "    output = prompt_llm(prompt)\n",
    "    train_prompts.append(output['prompt'])\n",
    "    train_responses.append(output['response'])\n",
    "    train_embeddings_first.append(output['first_layer_embedding'])\n",
    "    train_embeddings_middle.append(output['middle_layer_embedding'])\n",
    "    train_embeddings_last.append(output['last_layer_embedding'])\n",
    "\n",
    "train_embeddings_first = np.array(train_embeddings_first)\n",
    "train_embeddings_middle = np.array(train_embeddings_middle)\n",
    "train_embeddings_last = np.array(train_embeddings_last)"
   ]
  },
  {
   "cell_type": "code",
   "execution_count": 128,
   "metadata": {},
   "outputs": [
    {
     "name": "stderr",
     "output_type": "stream",
     "text": [
      "Generating embeddings for testing data: 100%|██████████| 20/20 [00:16<00:00,  1.21it/s]\n"
     ]
    }
   ],
   "source": [
    "test_embeddings_first = []\n",
    "test_embeddings_middle = []\n",
    "test_embeddings_last = []\n",
    "test_prompts = []\n",
    "test_responses = []\n",
    "\n",
    "for x in tqdm(X_test.iterrows(), total=len(X_test), desc='Generating embeddings for testing data'):\n",
    "    prompt = f\"What will be the weight of given person:\\nHeight={x[1]['Height']}, Age={x[1]['Age']}, Category={x[1]['BmiClass']}? Just give output number.\"\n",
    "    output = prompt_llm(prompt)\n",
    "    test_prompts.append(output['prompt'])\n",
    "    test_responses.append(output['response'])\n",
    "    test_embeddings_first.append(output['first_layer_embedding'])\n",
    "    test_embeddings_middle.append(output['middle_layer_embedding'])\n",
    "    test_embeddings_last.append(output['last_layer_embedding'])\n",
    "\n",
    "test_embeddings_first = np.array(test_embeddings_first)\n",
    "test_embeddings_middle = np.array(test_embeddings_middle)\n",
    "test_embeddings_last = np.array(test_embeddings_last)"
   ]
  },
  {
   "cell_type": "code",
   "execution_count": 129,
   "metadata": {},
   "outputs": [],
   "source": [
    "# rg_model_first = LinearRegression()\n",
    "# rg_model_middle = LinearRegression()\n",
    "# rg_model_last = LinearRegression()\n",
    "\n",
    "rg_model_first = RandomForestRegressor(warm_start=True)\n",
    "rg_model_middle = RandomForestRegressor(warm_start=True)\n",
    "rg_model_last = RandomForestRegressor(warm_start=True)"
   ]
  },
  {
   "cell_type": "code",
   "execution_count": 118,
   "metadata": {},
   "outputs": [],
   "source": [
    "# y_train = y_train.to_numpy(dtype='object')\n",
    "# y_test = y_test.to_numpy(dtype='object')"
   ]
  },
  {
   "cell_type": "code",
   "execution_count": 130,
   "metadata": {},
   "outputs": [
    {
     "data": {
      "text/html": [
       "<style>#sk-container-id-6 {\n",
       "  /* Definition of color scheme common for light and dark mode */\n",
       "  --sklearn-color-text: black;\n",
       "  --sklearn-color-line: gray;\n",
       "  /* Definition of color scheme for unfitted estimators */\n",
       "  --sklearn-color-unfitted-level-0: #fff5e6;\n",
       "  --sklearn-color-unfitted-level-1: #f6e4d2;\n",
       "  --sklearn-color-unfitted-level-2: #ffe0b3;\n",
       "  --sklearn-color-unfitted-level-3: chocolate;\n",
       "  /* Definition of color scheme for fitted estimators */\n",
       "  --sklearn-color-fitted-level-0: #f0f8ff;\n",
       "  --sklearn-color-fitted-level-1: #d4ebff;\n",
       "  --sklearn-color-fitted-level-2: #b3dbfd;\n",
       "  --sklearn-color-fitted-level-3: cornflowerblue;\n",
       "\n",
       "  /* Specific color for light theme */\n",
       "  --sklearn-color-text-on-default-background: var(--sg-text-color, var(--theme-code-foreground, var(--jp-content-font-color1, black)));\n",
       "  --sklearn-color-background: var(--sg-background-color, var(--theme-background, var(--jp-layout-color0, white)));\n",
       "  --sklearn-color-border-box: var(--sg-text-color, var(--theme-code-foreground, var(--jp-content-font-color1, black)));\n",
       "  --sklearn-color-icon: #696969;\n",
       "\n",
       "  @media (prefers-color-scheme: dark) {\n",
       "    /* Redefinition of color scheme for dark theme */\n",
       "    --sklearn-color-text-on-default-background: var(--sg-text-color, var(--theme-code-foreground, var(--jp-content-font-color1, white)));\n",
       "    --sklearn-color-background: var(--sg-background-color, var(--theme-background, var(--jp-layout-color0, #111)));\n",
       "    --sklearn-color-border-box: var(--sg-text-color, var(--theme-code-foreground, var(--jp-content-font-color1, white)));\n",
       "    --sklearn-color-icon: #878787;\n",
       "  }\n",
       "}\n",
       "\n",
       "#sk-container-id-6 {\n",
       "  color: var(--sklearn-color-text);\n",
       "}\n",
       "\n",
       "#sk-container-id-6 pre {\n",
       "  padding: 0;\n",
       "}\n",
       "\n",
       "#sk-container-id-6 input.sk-hidden--visually {\n",
       "  border: 0;\n",
       "  clip: rect(1px 1px 1px 1px);\n",
       "  clip: rect(1px, 1px, 1px, 1px);\n",
       "  height: 1px;\n",
       "  margin: -1px;\n",
       "  overflow: hidden;\n",
       "  padding: 0;\n",
       "  position: absolute;\n",
       "  width: 1px;\n",
       "}\n",
       "\n",
       "#sk-container-id-6 div.sk-dashed-wrapped {\n",
       "  border: 1px dashed var(--sklearn-color-line);\n",
       "  margin: 0 0.4em 0.5em 0.4em;\n",
       "  box-sizing: border-box;\n",
       "  padding-bottom: 0.4em;\n",
       "  background-color: var(--sklearn-color-background);\n",
       "}\n",
       "\n",
       "#sk-container-id-6 div.sk-container {\n",
       "  /* jupyter's `normalize.less` sets `[hidden] { display: none; }`\n",
       "     but bootstrap.min.css set `[hidden] { display: none !important; }`\n",
       "     so we also need the `!important` here to be able to override the\n",
       "     default hidden behavior on the sphinx rendered scikit-learn.org.\n",
       "     See: https://github.com/scikit-learn/scikit-learn/issues/21755 */\n",
       "  display: inline-block !important;\n",
       "  position: relative;\n",
       "}\n",
       "\n",
       "#sk-container-id-6 div.sk-text-repr-fallback {\n",
       "  display: none;\n",
       "}\n",
       "\n",
       "div.sk-parallel-item,\n",
       "div.sk-serial,\n",
       "div.sk-item {\n",
       "  /* draw centered vertical line to link estimators */\n",
       "  background-image: linear-gradient(var(--sklearn-color-text-on-default-background), var(--sklearn-color-text-on-default-background));\n",
       "  background-size: 2px 100%;\n",
       "  background-repeat: no-repeat;\n",
       "  background-position: center center;\n",
       "}\n",
       "\n",
       "/* Parallel-specific style estimator block */\n",
       "\n",
       "#sk-container-id-6 div.sk-parallel-item::after {\n",
       "  content: \"\";\n",
       "  width: 100%;\n",
       "  border-bottom: 2px solid var(--sklearn-color-text-on-default-background);\n",
       "  flex-grow: 1;\n",
       "}\n",
       "\n",
       "#sk-container-id-6 div.sk-parallel {\n",
       "  display: flex;\n",
       "  align-items: stretch;\n",
       "  justify-content: center;\n",
       "  background-color: var(--sklearn-color-background);\n",
       "  position: relative;\n",
       "}\n",
       "\n",
       "#sk-container-id-6 div.sk-parallel-item {\n",
       "  display: flex;\n",
       "  flex-direction: column;\n",
       "}\n",
       "\n",
       "#sk-container-id-6 div.sk-parallel-item:first-child::after {\n",
       "  align-self: flex-end;\n",
       "  width: 50%;\n",
       "}\n",
       "\n",
       "#sk-container-id-6 div.sk-parallel-item:last-child::after {\n",
       "  align-self: flex-start;\n",
       "  width: 50%;\n",
       "}\n",
       "\n",
       "#sk-container-id-6 div.sk-parallel-item:only-child::after {\n",
       "  width: 0;\n",
       "}\n",
       "\n",
       "/* Serial-specific style estimator block */\n",
       "\n",
       "#sk-container-id-6 div.sk-serial {\n",
       "  display: flex;\n",
       "  flex-direction: column;\n",
       "  align-items: center;\n",
       "  background-color: var(--sklearn-color-background);\n",
       "  padding-right: 1em;\n",
       "  padding-left: 1em;\n",
       "}\n",
       "\n",
       "\n",
       "/* Toggleable style: style used for estimator/Pipeline/ColumnTransformer box that is\n",
       "clickable and can be expanded/collapsed.\n",
       "- Pipeline and ColumnTransformer use this feature and define the default style\n",
       "- Estimators will overwrite some part of the style using the `sk-estimator` class\n",
       "*/\n",
       "\n",
       "/* Pipeline and ColumnTransformer style (default) */\n",
       "\n",
       "#sk-container-id-6 div.sk-toggleable {\n",
       "  /* Default theme specific background. It is overwritten whether we have a\n",
       "  specific estimator or a Pipeline/ColumnTransformer */\n",
       "  background-color: var(--sklearn-color-background);\n",
       "}\n",
       "\n",
       "/* Toggleable label */\n",
       "#sk-container-id-6 label.sk-toggleable__label {\n",
       "  cursor: pointer;\n",
       "  display: block;\n",
       "  width: 100%;\n",
       "  margin-bottom: 0;\n",
       "  padding: 0.5em;\n",
       "  box-sizing: border-box;\n",
       "  text-align: center;\n",
       "}\n",
       "\n",
       "#sk-container-id-6 label.sk-toggleable__label-arrow:before {\n",
       "  /* Arrow on the left of the label */\n",
       "  content: \"▸\";\n",
       "  float: left;\n",
       "  margin-right: 0.25em;\n",
       "  color: var(--sklearn-color-icon);\n",
       "}\n",
       "\n",
       "#sk-container-id-6 label.sk-toggleable__label-arrow:hover:before {\n",
       "  color: var(--sklearn-color-text);\n",
       "}\n",
       "\n",
       "/* Toggleable content - dropdown */\n",
       "\n",
       "#sk-container-id-6 div.sk-toggleable__content {\n",
       "  max-height: 0;\n",
       "  max-width: 0;\n",
       "  overflow: hidden;\n",
       "  text-align: left;\n",
       "  /* unfitted */\n",
       "  background-color: var(--sklearn-color-unfitted-level-0);\n",
       "}\n",
       "\n",
       "#sk-container-id-6 div.sk-toggleable__content.fitted {\n",
       "  /* fitted */\n",
       "  background-color: var(--sklearn-color-fitted-level-0);\n",
       "}\n",
       "\n",
       "#sk-container-id-6 div.sk-toggleable__content pre {\n",
       "  margin: 0.2em;\n",
       "  border-radius: 0.25em;\n",
       "  color: var(--sklearn-color-text);\n",
       "  /* unfitted */\n",
       "  background-color: var(--sklearn-color-unfitted-level-0);\n",
       "}\n",
       "\n",
       "#sk-container-id-6 div.sk-toggleable__content.fitted pre {\n",
       "  /* unfitted */\n",
       "  background-color: var(--sklearn-color-fitted-level-0);\n",
       "}\n",
       "\n",
       "#sk-container-id-6 input.sk-toggleable__control:checked~div.sk-toggleable__content {\n",
       "  /* Expand drop-down */\n",
       "  max-height: 200px;\n",
       "  max-width: 100%;\n",
       "  overflow: auto;\n",
       "}\n",
       "\n",
       "#sk-container-id-6 input.sk-toggleable__control:checked~label.sk-toggleable__label-arrow:before {\n",
       "  content: \"▾\";\n",
       "}\n",
       "\n",
       "/* Pipeline/ColumnTransformer-specific style */\n",
       "\n",
       "#sk-container-id-6 div.sk-label input.sk-toggleable__control:checked~label.sk-toggleable__label {\n",
       "  color: var(--sklearn-color-text);\n",
       "  background-color: var(--sklearn-color-unfitted-level-2);\n",
       "}\n",
       "\n",
       "#sk-container-id-6 div.sk-label.fitted input.sk-toggleable__control:checked~label.sk-toggleable__label {\n",
       "  background-color: var(--sklearn-color-fitted-level-2);\n",
       "}\n",
       "\n",
       "/* Estimator-specific style */\n",
       "\n",
       "/* Colorize estimator box */\n",
       "#sk-container-id-6 div.sk-estimator input.sk-toggleable__control:checked~label.sk-toggleable__label {\n",
       "  /* unfitted */\n",
       "  background-color: var(--sklearn-color-unfitted-level-2);\n",
       "}\n",
       "\n",
       "#sk-container-id-6 div.sk-estimator.fitted input.sk-toggleable__control:checked~label.sk-toggleable__label {\n",
       "  /* fitted */\n",
       "  background-color: var(--sklearn-color-fitted-level-2);\n",
       "}\n",
       "\n",
       "#sk-container-id-6 div.sk-label label.sk-toggleable__label,\n",
       "#sk-container-id-6 div.sk-label label {\n",
       "  /* The background is the default theme color */\n",
       "  color: var(--sklearn-color-text-on-default-background);\n",
       "}\n",
       "\n",
       "/* On hover, darken the color of the background */\n",
       "#sk-container-id-6 div.sk-label:hover label.sk-toggleable__label {\n",
       "  color: var(--sklearn-color-text);\n",
       "  background-color: var(--sklearn-color-unfitted-level-2);\n",
       "}\n",
       "\n",
       "/* Label box, darken color on hover, fitted */\n",
       "#sk-container-id-6 div.sk-label.fitted:hover label.sk-toggleable__label.fitted {\n",
       "  color: var(--sklearn-color-text);\n",
       "  background-color: var(--sklearn-color-fitted-level-2);\n",
       "}\n",
       "\n",
       "/* Estimator label */\n",
       "\n",
       "#sk-container-id-6 div.sk-label label {\n",
       "  font-family: monospace;\n",
       "  font-weight: bold;\n",
       "  display: inline-block;\n",
       "  line-height: 1.2em;\n",
       "}\n",
       "\n",
       "#sk-container-id-6 div.sk-label-container {\n",
       "  text-align: center;\n",
       "}\n",
       "\n",
       "/* Estimator-specific */\n",
       "#sk-container-id-6 div.sk-estimator {\n",
       "  font-family: monospace;\n",
       "  border: 1px dotted var(--sklearn-color-border-box);\n",
       "  border-radius: 0.25em;\n",
       "  box-sizing: border-box;\n",
       "  margin-bottom: 0.5em;\n",
       "  /* unfitted */\n",
       "  background-color: var(--sklearn-color-unfitted-level-0);\n",
       "}\n",
       "\n",
       "#sk-container-id-6 div.sk-estimator.fitted {\n",
       "  /* fitted */\n",
       "  background-color: var(--sklearn-color-fitted-level-0);\n",
       "}\n",
       "\n",
       "/* on hover */\n",
       "#sk-container-id-6 div.sk-estimator:hover {\n",
       "  /* unfitted */\n",
       "  background-color: var(--sklearn-color-unfitted-level-2);\n",
       "}\n",
       "\n",
       "#sk-container-id-6 div.sk-estimator.fitted:hover {\n",
       "  /* fitted */\n",
       "  background-color: var(--sklearn-color-fitted-level-2);\n",
       "}\n",
       "\n",
       "/* Specification for estimator info (e.g. \"i\" and \"?\") */\n",
       "\n",
       "/* Common style for \"i\" and \"?\" */\n",
       "\n",
       ".sk-estimator-doc-link,\n",
       "a:link.sk-estimator-doc-link,\n",
       "a:visited.sk-estimator-doc-link {\n",
       "  float: right;\n",
       "  font-size: smaller;\n",
       "  line-height: 1em;\n",
       "  font-family: monospace;\n",
       "  background-color: var(--sklearn-color-background);\n",
       "  border-radius: 1em;\n",
       "  height: 1em;\n",
       "  width: 1em;\n",
       "  text-decoration: none !important;\n",
       "  margin-left: 1ex;\n",
       "  /* unfitted */\n",
       "  border: var(--sklearn-color-unfitted-level-1) 1pt solid;\n",
       "  color: var(--sklearn-color-unfitted-level-1);\n",
       "}\n",
       "\n",
       ".sk-estimator-doc-link.fitted,\n",
       "a:link.sk-estimator-doc-link.fitted,\n",
       "a:visited.sk-estimator-doc-link.fitted {\n",
       "  /* fitted */\n",
       "  border: var(--sklearn-color-fitted-level-1) 1pt solid;\n",
       "  color: var(--sklearn-color-fitted-level-1);\n",
       "}\n",
       "\n",
       "/* On hover */\n",
       "div.sk-estimator:hover .sk-estimator-doc-link:hover,\n",
       ".sk-estimator-doc-link:hover,\n",
       "div.sk-label-container:hover .sk-estimator-doc-link:hover,\n",
       ".sk-estimator-doc-link:hover {\n",
       "  /* unfitted */\n",
       "  background-color: var(--sklearn-color-unfitted-level-3);\n",
       "  color: var(--sklearn-color-background);\n",
       "  text-decoration: none;\n",
       "}\n",
       "\n",
       "div.sk-estimator.fitted:hover .sk-estimator-doc-link.fitted:hover,\n",
       ".sk-estimator-doc-link.fitted:hover,\n",
       "div.sk-label-container:hover .sk-estimator-doc-link.fitted:hover,\n",
       ".sk-estimator-doc-link.fitted:hover {\n",
       "  /* fitted */\n",
       "  background-color: var(--sklearn-color-fitted-level-3);\n",
       "  color: var(--sklearn-color-background);\n",
       "  text-decoration: none;\n",
       "}\n",
       "\n",
       "/* Span, style for the box shown on hovering the info icon */\n",
       ".sk-estimator-doc-link span {\n",
       "  display: none;\n",
       "  z-index: 9999;\n",
       "  position: relative;\n",
       "  font-weight: normal;\n",
       "  right: .2ex;\n",
       "  padding: .5ex;\n",
       "  margin: .5ex;\n",
       "  width: min-content;\n",
       "  min-width: 20ex;\n",
       "  max-width: 50ex;\n",
       "  color: var(--sklearn-color-text);\n",
       "  box-shadow: 2pt 2pt 4pt #999;\n",
       "  /* unfitted */\n",
       "  background: var(--sklearn-color-unfitted-level-0);\n",
       "  border: .5pt solid var(--sklearn-color-unfitted-level-3);\n",
       "}\n",
       "\n",
       ".sk-estimator-doc-link.fitted span {\n",
       "  /* fitted */\n",
       "  background: var(--sklearn-color-fitted-level-0);\n",
       "  border: var(--sklearn-color-fitted-level-3);\n",
       "}\n",
       "\n",
       ".sk-estimator-doc-link:hover span {\n",
       "  display: block;\n",
       "}\n",
       "\n",
       "/* \"?\"-specific style due to the `<a>` HTML tag */\n",
       "\n",
       "#sk-container-id-6 a.estimator_doc_link {\n",
       "  float: right;\n",
       "  font-size: 1rem;\n",
       "  line-height: 1em;\n",
       "  font-family: monospace;\n",
       "  background-color: var(--sklearn-color-background);\n",
       "  border-radius: 1rem;\n",
       "  height: 1rem;\n",
       "  width: 1rem;\n",
       "  text-decoration: none;\n",
       "  /* unfitted */\n",
       "  color: var(--sklearn-color-unfitted-level-1);\n",
       "  border: var(--sklearn-color-unfitted-level-1) 1pt solid;\n",
       "}\n",
       "\n",
       "#sk-container-id-6 a.estimator_doc_link.fitted {\n",
       "  /* fitted */\n",
       "  border: var(--sklearn-color-fitted-level-1) 1pt solid;\n",
       "  color: var(--sklearn-color-fitted-level-1);\n",
       "}\n",
       "\n",
       "/* On hover */\n",
       "#sk-container-id-6 a.estimator_doc_link:hover {\n",
       "  /* unfitted */\n",
       "  background-color: var(--sklearn-color-unfitted-level-3);\n",
       "  color: var(--sklearn-color-background);\n",
       "  text-decoration: none;\n",
       "}\n",
       "\n",
       "#sk-container-id-6 a.estimator_doc_link.fitted:hover {\n",
       "  /* fitted */\n",
       "  background-color: var(--sklearn-color-fitted-level-3);\n",
       "}\n",
       "</style><div id=\"sk-container-id-6\" class=\"sk-top-container\"><div class=\"sk-text-repr-fallback\"><pre>RandomForestRegressor(warm_start=True)</pre><b>In a Jupyter environment, please rerun this cell to show the HTML representation or trust the notebook. <br />On GitHub, the HTML representation is unable to render, please try loading this page with nbviewer.org.</b></div><div class=\"sk-container\" hidden><div class=\"sk-item\"><div class=\"sk-estimator fitted sk-toggleable\"><input class=\"sk-toggleable__control sk-hidden--visually\" id=\"sk-estimator-id-6\" type=\"checkbox\" checked><label for=\"sk-estimator-id-6\" class=\"sk-toggleable__label fitted sk-toggleable__label-arrow fitted\">&nbsp;&nbsp;RandomForestRegressor<a class=\"sk-estimator-doc-link fitted\" rel=\"noreferrer\" target=\"_blank\" href=\"https://scikit-learn.org/1.4/modules/generated/sklearn.ensemble.RandomForestRegressor.html\">?<span>Documentation for RandomForestRegressor</span></a><span class=\"sk-estimator-doc-link fitted\">i<span>Fitted</span></span></label><div class=\"sk-toggleable__content fitted\"><pre>RandomForestRegressor(warm_start=True)</pre></div> </div></div></div></div>"
      ],
      "text/plain": [
       "RandomForestRegressor(warm_start=True)"
      ]
     },
     "execution_count": 130,
     "metadata": {},
     "output_type": "execute_result"
    }
   ],
   "source": [
    "rg_model_first.fit(train_embeddings_first, y_train)\n",
    "rg_model_middle.fit(train_embeddings_middle, y_train)\n",
    "rg_model_last.fit(train_embeddings_last, y_train)"
   ]
  },
  {
   "cell_type": "code",
   "execution_count": 131,
   "metadata": {},
   "outputs": [
    {
     "data": {
      "text/plain": [
       "(array([ 84.875  , 109.3125 ,  79.     ,  73.5    ,  91.1875 ,  36.59375,\n",
       "         36.40625, 100.3125 ,  85.125  ,  79.     , 160.     ,  77.875  ,\n",
       "        110.     ,  79.3125 ,  83.8125 ,  36.1875 ,  36.09375,  85.     ,\n",
       "         36.6875 ,  73.6875 ,  79.3125 ,  79.3125 , 140.     ,  79.     ,\n",
       "         73.3125 ,  73.4375 ,  40.     ,  79.6875 ,  74.125  , 111.1875 ,\n",
       "         84.375  ,  74.375  ,  78.125  ,  79.3125 ,  35.90625,  74.1875 ,\n",
       "         99.6875 ,  70.1875 ,  36.1875 , 106.875  ,  79.3125 ,  36.     ,\n",
       "        104.6875 , 103.1875 ,  36.     , 107.3125 ,  79.3125 ,  79.     ,\n",
       "         78.3125 , 112.1875 ,  74.1875 ,  74.6875 ,  36.90625,  79.3125 ,\n",
       "         85.3125 ,  75.     ,  83.6875 ,  79.3125 ,  83.9375 ,  76.3125 ,\n",
       "         36.8125 ,  83.5625 , 110.875  ,  98.5    ,  72.5    ,  36.09375,\n",
       "         99.125  , 110.5    ,  79.     ,  70.     ,  74.0625 , 100.     ,\n",
       "         75.8125 ,  73.8125 ,  95.     ,  42.     ,  36.5    ,  74.     ,\n",
       "         84.     ,  85.1875 ]),\n",
       " array([79.64702442, 79.64702442, 60.50087521, 79.64702442, 79.64702442,\n",
       "        79.64702442, 79.64702442, 79.64702442, 79.64702442, 60.50087521,\n",
       "        79.64702442, 79.64702442, 79.64702442, 79.64702442, 79.64702442,\n",
       "        79.64702442, 60.50087521, 79.64702442, 79.64702442, 79.64702442,\n",
       "        79.64702442, 60.50087521, 79.64702442, 79.64702442, 79.64702442,\n",
       "        79.64702442, 60.50087521, 79.64702442, 79.64702442, 79.64702442,\n",
       "        79.64702442, 79.64702442, 79.64702442, 79.64702442, 79.64702442,\n",
       "        79.64702442, 79.64702442, 79.64702442, 79.64702442, 79.64702442,\n",
       "        79.64702442, 79.64702442, 79.64702442, 79.64702442, 60.50087521,\n",
       "        79.64702442, 79.64702442, 79.64702442, 79.64702442, 79.64702442,\n",
       "        79.64702442, 60.50087521, 79.64702442, 79.64702442, 79.64702442,\n",
       "        79.64702442, 79.64702442, 79.64702442, 79.64702442, 79.64702442,\n",
       "        60.50087521, 79.64702442, 79.64702442, 79.64702442, 79.64702442,\n",
       "        79.64702442, 79.64702442, 79.64702442, 79.64702442, 79.64702442,\n",
       "        79.64702442, 79.64702442, 79.64702442, 79.64702442, 79.64702442,\n",
       "        79.64702442, 79.64702442, 79.64702442, 60.50087521, 79.64702442]),\n",
       " array([ 83.47     , 107.245    ,  79.82     ,  74.91125  ,  86.320625 ,\n",
       "         39.43875  ,  36.6609375, 102.601875 ,  83.30375  ,  76.003125 ,\n",
       "        138.9559375,  76.545625 , 107.8459375,  79.208125 ,  81.799375 ,\n",
       "         36.958125 ,  39.075    ,  82.5775   ,  38.5509375,  75.546875 ,\n",
       "         79.555    ,  76.8390625, 133.87625  ,  78.603125 ,  75.26875  ,\n",
       "         75.461875 ,  41.2465625,  81.26     ,  75.376875 , 108.4625   ,\n",
       "         83.855    ,  71.6028125,  79.485625 ,  79.471875 ,  41.2328125,\n",
       "         77.93875  ,  99.435625 ,  72.653125 ,  39.1103125, 106.09375  ,\n",
       "         79.78875  ,  36.5271875, 104.71125  , 104.39     ,  37.8696875,\n",
       "        105.2140625,  80.1775   ,  79.419375 ,  77.945625 , 106.0196875,\n",
       "         74.631875 ,  70.7409375,  39.0165625,  78.56875  ,  83.72625  ,\n",
       "         75.918125 ,  81.871875 ,  79.56625  ,  82.588125 ,  75.76     ,\n",
       "         38.9465625,  81.930625 , 108.266875 , 101.771875 ,  73.83625  ,\n",
       "         39.0915625, 102.094375 , 117.34875  ,  78.92375  ,  74.213125 ,\n",
       "         76.10625  ,  92.625625 ,  75.403125 ,  75.65375  ,  90.2834375,\n",
       "         39.928125 ,  37.2684375,  77.855    ,  81.704375 ,  83.425    ]),\n",
       " array([ 81.625625 , 108.761875 ,  79.875    ,  77.14125  ,  87.96125  ,\n",
       "         43.3609375,  38.82375  , 101.7421875,  83.145625 ,  77.2571875,\n",
       "        131.806875 ,  75.4115625, 107.53375  ,  79.80625  ,  82.224375 ,\n",
       "         41.4840625,  40.395    ,  83.349375 ,  39.5896875,  77.380625 ,\n",
       "         80.69     ,  80.910625 , 127.4709375,  80.430625 ,  74.3296875,\n",
       "         77.23875  ,  47.5309375,  81.603125 ,  75.873125 , 101.5965625,\n",
       "         84.42125  ,  76.618125 ,  77.194375 ,  79.56     ,  38.8209375,\n",
       "         76.70125  , 101.01125  ,  74.506875 ,  43.5665625, 102.325625 ,\n",
       "         78.209375 ,  38.0478125, 103.8821875, 103.26125  ,  40.3725   ,\n",
       "        105.35     ,  79.371875 ,  80.855625 ,  79.2103125, 109.7925   ,\n",
       "         76.30625  ,  78.1115625,  44.9603125,  78.458125 ,  83.385625 ,\n",
       "         74.9028125,  81.69     ,  79.3903125,  82.128125 ,  79.120625 ,\n",
       "         39.9175   ,  82.924375 , 107.96625  , 100.574375 ,  75.93375  ,\n",
       "         41.1915625,  98.7875   , 109.8409375,  80.72625  ,  74.321875 ,\n",
       "         75.455    ,  98.5346875,  75.5121875,  76.499375 ,  90.4884375,\n",
       "         41.03125  ,  40.8640625,  78.08625  ,  83.264375 ,  84.420625 ]))"
      ]
     },
     "execution_count": 131,
     "metadata": {},
     "output_type": "execute_result"
    }
   ],
   "source": [
    "y_pred_train_first = rg_model_first.predict(train_embeddings_first)\n",
    "y_pred_train_middle = rg_model_middle.predict(train_embeddings_middle)\n",
    "y_pred_train_last = rg_model_last.predict(train_embeddings_last)\n",
    "\n",
    "y_train, y_pred_train_first, y_pred_train_middle, y_pred_train_last"
   ]
  },
  {
   "cell_type": "code",
   "execution_count": 132,
   "metadata": {},
   "outputs": [
    {
     "name": "stdout",
     "output_type": "stream",
     "text": [
      "First Layer MSE: 574.3517347884845\n",
      "Middle Layer MSE: 12.078587659912106\n",
      "Last Layer MSE: 21.49789121215821\n"
     ]
    }
   ],
   "source": [
    "print(f'First Layer MSE: {mean_squared_error(y_train, y_pred_train_first)}')\n",
    "print(f'Middle Layer MSE: {mean_squared_error(y_train, y_pred_train_middle)}')\n",
    "print(f'Last Layer MSE: {mean_squared_error(y_train, y_pred_train_last)}')"
   ]
  },
  {
   "cell_type": "code",
   "execution_count": 133,
   "metadata": {},
   "outputs": [
    {
     "data": {
      "text/plain": [
       "(array([ 46.    ,  79.    ,  75.3125, 101.6875,  74.    , 135.    ,\n",
       "        105.125 ,  73.    ,  79.25  ,  79.25  ,  44.    ,  97.125 ,\n",
       "         36.    ,  36.3125,  68.    ,  98.    ,  73.5625,  77.    ,\n",
       "         79.5   ,  74.3125]),\n",
       " array([79.64702442, 79.64702442, 79.64702442, 79.64702442, 79.64702442,\n",
       "        79.64702442, 79.64702442, 79.64702442, 79.64702442, 79.64702442,\n",
       "        79.64702442, 79.64702442, 79.64702442, 79.64702442, 79.64702442,\n",
       "        79.64702442, 79.64702442, 79.64702442, 79.64702442, 79.64702442]),\n",
       " array([ 44.5609375,  78.334375 ,  78.530625 ,  91.161875 ,  81.6028125,\n",
       "        106.025625 ,  90.90875  ,  77.0184375,  80.12625  ,  79.944375 ,\n",
       "         46.4346875, 105.825625 ,  41.855    ,  38.41625  ,  77.2253125,\n",
       "         88.7734375,  82.31125  ,  82.6465625,  79.84125  ,  77.6153125]),\n",
       " array([41.1009375, 54.7553125, 87.6359375, 93.0078125, 79.59     ,\n",
       "        97.3809375, 88.405625 , 86.4853125, 90.354375 , 85.1334375,\n",
       "        44.7340625, 84.25375  , 42.89125  , 45.478125 , 81.786875 ,\n",
       "        87.0675   , 83.495    , 85.798125 , 84.3471875, 83.303125 ]))"
      ]
     },
     "execution_count": 133,
     "metadata": {},
     "output_type": "execute_result"
    }
   ],
   "source": [
    "y_pred_test_first = rg_model_first.predict(test_embeddings_first)\n",
    "y_pred_test_middle = rg_model_middle.predict(test_embeddings_middle)\n",
    "y_pred_test_last = rg_model_last.predict(test_embeddings_last)\n",
    "\n",
    "y_test, y_pred_test_first, y_pred_test_middle, y_pred_test_last"
   ]
  },
  {
   "cell_type": "code",
   "execution_count": 134,
   "metadata": {},
   "outputs": [
    {
     "name": "stdout",
     "output_type": "stream",
     "text": [
      "First Layer MSE: 566.5351669907324\n",
      "Middle Layer MSE: 82.52481687499998\n",
      "Last Layer MSE: 189.62282027832035\n"
     ]
    }
   ],
   "source": [
    "print(f'First Layer MSE: {mean_squared_error(y_test, y_pred_test_first)}')\n",
    "print(f'Middle Layer MSE: {mean_squared_error(y_test, y_pred_test_middle)}')\n",
    "print(f'Last Layer MSE: {mean_squared_error(y_test, y_pred_test_last)}')"
   ]
  }
 ],
 "metadata": {
  "kernelspec": {
   "display_name": "gpu_env_pip",
   "language": "python",
   "name": "python3"
  },
  "language_info": {
   "codemirror_mode": {
    "name": "ipython",
    "version": 3
   },
   "file_extension": ".py",
   "mimetype": "text/x-python",
   "name": "python",
   "nbconvert_exporter": "python",
   "pygments_lexer": "ipython3",
   "version": "3.10.14"
  }
 },
 "nbformat": 4,
 "nbformat_minor": 2
}
