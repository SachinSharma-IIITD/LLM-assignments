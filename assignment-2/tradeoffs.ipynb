{
 "cells": [
  {
   "cell_type": "code",
   "execution_count": 1,
   "metadata": {},
   "outputs": [
    {
     "name": "stderr",
     "output_type": "stream",
     "text": [
      "2024-09-22 23:04:58.501906: E external/local_xla/xla/stream_executor/cuda/cuda_dnn.cc:9261] Unable to register cuDNN factory: Attempting to register factory for plugin cuDNN when one has already been registered\n",
      "2024-09-22 23:04:58.501955: E external/local_xla/xla/stream_executor/cuda/cuda_fft.cc:607] Unable to register cuFFT factory: Attempting to register factory for plugin cuFFT when one has already been registered\n",
      "2024-09-22 23:04:58.502967: E external/local_xla/xla/stream_executor/cuda/cuda_blas.cc:1515] Unable to register cuBLAS factory: Attempting to register factory for plugin cuBLAS when one has already been registered\n",
      "2024-09-22 23:04:58.509924: I tensorflow/core/platform/cpu_feature_guard.cc:182] This TensorFlow binary is optimized to use available CPU instructions in performance-critical operations.\n",
      "To enable the following instructions: AVX2 FMA, in other operations, rebuild TensorFlow with the appropriate compiler flags.\n",
      "2024-09-22 23:04:59.498249: W tensorflow/compiler/tf2tensorrt/utils/py_utils.cc:38] TF-TRT Warning: Could not find TensorRT\n"
     ]
    }
   ],
   "source": [
    "import torch\n",
    "from transformers import AutoTokenizer, AutoModelForCausalLM, AutoModelForQuestionAnswering\n",
    "from transformers import pipeline\n",
    "from transformers import BitsAndBytesConfig\n",
    "from sentence_transformers import SentenceTransformer, util\n",
    "from torch.nn.functional import cosine_similarity\n",
    "\n",
    "from langchain.agents import load_tools\n",
    "from langchain.agents import initialize_agent\n",
    "from langchain.llms import HuggingFacePipeline\n",
    "\n",
    "from sklearn.metrics import accuracy_score, f1_score\n",
    "import matplotlib.pyplot as plt\n",
    "import seaborn as sb\n",
    "\n",
    "import pandas as pd\n",
    "import numpy as np\n",
    "from tqdm import tqdm\n",
    "import time\n",
    "import re\n",
    "import accelerate"
   ]
  },
  {
   "cell_type": "code",
   "execution_count": 2,
   "metadata": {},
   "outputs": [
    {
     "data": {
      "text/plain": [
       "device(type='cuda')"
      ]
     },
     "execution_count": 2,
     "metadata": {},
     "output_type": "execute_result"
    }
   ],
   "source": [
    "device = torch.device(\"cuda\" if torch.cuda.is_available() else \"cpu\")\n",
    "device"
   ]
  },
  {
   "cell_type": "markdown",
   "metadata": {},
   "source": [
    "#### Dataset Preparation"
   ]
  },
  {
   "cell_type": "code",
   "execution_count": 3,
   "metadata": {},
   "outputs": [],
   "source": [
    "def load_dataset(n_samples=None):\n",
    "    splits = {'test': 'college_mathematics/test-00000-of-00001.parquet', 'validation': 'college_mathematics/validation-00000-of-00001.parquet', 'dev': 'abstract_algebra/dev-00000-of-00001.parquet'}\n",
    "    dataset = pd.read_parquet(\"hf://datasets/cais/mmlu/\" + splits[\"test\"])\n",
    "    dataset.drop(columns='subject', inplace=True)\n",
    "    dataset.dropna(inplace=True)\n",
    "    dataset.reset_index(drop=True, inplace=True)\n",
    "    dataset = dataset[:n_samples]\n",
    "    dataset['answer'] = dataset['answer'] + 1\n",
    "    return dataset"
   ]
  },
  {
   "cell_type": "code",
   "execution_count": 4,
   "metadata": {},
   "outputs": [
    {
     "data": {
      "text/html": [
       "<div>\n",
       "<style scoped>\n",
       "    .dataframe tbody tr th:only-of-type {\n",
       "        vertical-align: middle;\n",
       "    }\n",
       "\n",
       "    .dataframe tbody tr th {\n",
       "        vertical-align: top;\n",
       "    }\n",
       "\n",
       "    .dataframe thead th {\n",
       "        text-align: right;\n",
       "    }\n",
       "</style>\n",
       "<table border=\"1\" class=\"dataframe\">\n",
       "  <thead>\n",
       "    <tr style=\"text-align: right;\">\n",
       "      <th></th>\n",
       "      <th>question</th>\n",
       "      <th>choices</th>\n",
       "      <th>answer</th>\n",
       "    </tr>\n",
       "  </thead>\n",
       "  <tbody>\n",
       "    <tr>\n",
       "      <th>0</th>\n",
       "      <td>Let k be the number of real solutions of the e...</td>\n",
       "      <td>[k = 0 and n = 1, k = 1 and n = 0, k = n = 1, ...</td>\n",
       "      <td>2</td>\n",
       "    </tr>\n",
       "    <tr>\n",
       "      <th>1</th>\n",
       "      <td>Up to isomorphism, how many additive abelian g...</td>\n",
       "      <td>[0, 1, 2, 3]</td>\n",
       "      <td>4</td>\n",
       "    </tr>\n",
       "    <tr>\n",
       "      <th>2</th>\n",
       "      <td>Suppose P is the set of polynomials with coeff...</td>\n",
       "      <td>[n = 1 and r = 6, n = 1 and r = 7, n = 2 and r...</td>\n",
       "      <td>4</td>\n",
       "    </tr>\n",
       "    <tr>\n",
       "      <th>3</th>\n",
       "      <td>The shortest distance from the curve xy = 8 to...</td>\n",
       "      <td>[4, 8, 16, 2sqrt(2)]</td>\n",
       "      <td>1</td>\n",
       "    </tr>\n",
       "    <tr>\n",
       "      <th>4</th>\n",
       "      <td>There are 25 suitcases, 5 of which are damaged...</td>\n",
       "      <td>[2/69, 1/30, 2/23, 12/125]</td>\n",
       "      <td>3</td>\n",
       "    </tr>\n",
       "    <tr>\n",
       "      <th>...</th>\n",
       "      <td>...</td>\n",
       "      <td>...</td>\n",
       "      <td>...</td>\n",
       "    </tr>\n",
       "    <tr>\n",
       "      <th>95</th>\n",
       "      <td>If U and V are 3-dimensional subspaces of R^5,...</td>\n",
       "      <td>[0, 1, 0 or 1, 1, 2, or 3]</td>\n",
       "      <td>4</td>\n",
       "    </tr>\n",
       "    <tr>\n",
       "      <th>96</th>\n",
       "      <td>Let S be the subset of R^2 consisting of all p...</td>\n",
       "      <td>[closed, open, connected, totally disconnected]</td>\n",
       "      <td>3</td>\n",
       "    </tr>\n",
       "    <tr>\n",
       "      <th>97</th>\n",
       "      <td>Which of the following circles has the greates...</td>\n",
       "      <td>[x^2 + y^2 = 1, x^2 + y^2 = 2, x^2 + y^2 = 9, ...</td>\n",
       "      <td>3</td>\n",
       "    </tr>\n",
       "    <tr>\n",
       "      <th>98</th>\n",
       "      <td>X is a finite set with the following property:...</td>\n",
       "      <td>[24, 25, 28, 35]</td>\n",
       "      <td>4</td>\n",
       "    </tr>\n",
       "    <tr>\n",
       "      <th>99</th>\n",
       "      <td>Let T: R^2 -&gt; R^2 be the linear transformation...</td>\n",
       "      <td>[(1, 6), (-1, 4), (3, 2), (-4, 3)]</td>\n",
       "      <td>1</td>\n",
       "    </tr>\n",
       "  </tbody>\n",
       "</table>\n",
       "<p>100 rows × 3 columns</p>\n",
       "</div>"
      ],
      "text/plain": [
       "                                             question  \\\n",
       "0   Let k be the number of real solutions of the e...   \n",
       "1   Up to isomorphism, how many additive abelian g...   \n",
       "2   Suppose P is the set of polynomials with coeff...   \n",
       "3   The shortest distance from the curve xy = 8 to...   \n",
       "4   There are 25 suitcases, 5 of which are damaged...   \n",
       "..                                                ...   \n",
       "95  If U and V are 3-dimensional subspaces of R^5,...   \n",
       "96  Let S be the subset of R^2 consisting of all p...   \n",
       "97  Which of the following circles has the greates...   \n",
       "98  X is a finite set with the following property:...   \n",
       "99  Let T: R^2 -> R^2 be the linear transformation...   \n",
       "\n",
       "                                              choices  answer  \n",
       "0   [k = 0 and n = 1, k = 1 and n = 0, k = n = 1, ...       2  \n",
       "1                                        [0, 1, 2, 3]       4  \n",
       "2   [n = 1 and r = 6, n = 1 and r = 7, n = 2 and r...       4  \n",
       "3                                [4, 8, 16, 2sqrt(2)]       1  \n",
       "4                          [2/69, 1/30, 2/23, 12/125]       3  \n",
       "..                                                ...     ...  \n",
       "95                         [0, 1, 0 or 1, 1, 2, or 3]       4  \n",
       "96    [closed, open, connected, totally disconnected]       3  \n",
       "97  [x^2 + y^2 = 1, x^2 + y^2 = 2, x^2 + y^2 = 9, ...       3  \n",
       "98                                   [24, 25, 28, 35]       4  \n",
       "99                 [(1, 6), (-1, 4), (3, 2), (-4, 3)]       1  \n",
       "\n",
       "[100 rows x 3 columns]"
      ]
     },
     "execution_count": 4,
     "metadata": {},
     "output_type": "execute_result"
    }
   ],
   "source": [
    "dataset = load_dataset(100)\n",
    "dataset"
   ]
  },
  {
   "cell_type": "code",
   "execution_count": 5,
   "metadata": {},
   "outputs": [
    {
     "data": {
      "text/plain": [
       "array([2, 4, 4, 1, 3, 4, 3, 3, 3, 1, 4, 2, 1, 2, 4, 4, 2, 3, 4, 1, 4, 4,\n",
       "       2, 1, 2, 4, 4, 1, 1, 2, 3, 2, 2, 3, 4, 4, 1, 1, 1, 3, 2, 4, 4, 1,\n",
       "       4, 1, 2, 2, 3, 4, 1, 2, 3, 3, 1, 4, 2, 4, 3, 1, 2, 1, 1, 4, 2, 4,\n",
       "       3, 4, 1, 1, 4, 4, 4, 4, 3, 4, 4, 3, 2, 2, 3, 2, 2, 3, 3, 2, 1, 3,\n",
       "       3, 3, 2, 3, 3, 2, 4, 4, 3, 3, 4, 1])"
      ]
     },
     "execution_count": 5,
     "metadata": {},
     "output_type": "execute_result"
    }
   ],
   "source": [
    "answers = dataset['answer'].to_numpy()\n",
    "answers"
   ]
  },
  {
   "cell_type": "markdown",
   "metadata": {},
   "source": [
    "#### LLM Preparation"
   ]
  },
  {
   "cell_type": "code",
   "execution_count": 3,
   "metadata": {},
   "outputs": [],
   "source": [
    "llama_model_id = \"meta-llama/Meta-Llama-3.1-8B-Instruct\"\n",
    "phi_model_id = 'microsoft/Phi-3.5-mini-instruct'\n",
    "gemma_model_id = 'google/gemma-2b-it'"
   ]
  },
  {
   "cell_type": "code",
   "execution_count": 4,
   "metadata": {},
   "outputs": [],
   "source": [
    "quantization_config = BitsAndBytesConfig(\n",
    "    load_in_4bit=True,\n",
    "    bnb_4bit_use_double_quant=True,\n",
    "    bnb_4bit_quant_type='nf4',  # Can be 'nf4' or 'fp4'\n",
    "    bnb_4bit_compute_dtype=torch.bfloat16  # Adjust compute type if needed\n",
    ")"
   ]
  },
  {
   "cell_type": "code",
   "execution_count": 5,
   "metadata": {},
   "outputs": [],
   "source": [
    "def init_llm(model_id, quantization_config=None):\n",
    "    tokenizer = AutoTokenizer.from_pretrained(model_id)\n",
    "    model = AutoModelForCausalLM.from_pretrained(\n",
    "    model_id,\n",
    "    torch_dtype=torch.float16,\n",
    "    device_map='cuda',\n",
    "    quantization_config=quantization_config,\n",
    "    )\n",
    "    return model, tokenizer"
   ]
  },
  {
   "cell_type": "code",
   "execution_count": 6,
   "metadata": {},
   "outputs": [],
   "source": [
    "def get_model_size(model):\n",
    "    total_params = sum(p.numel() for p in model.parameters())\n",
    "    total_size_bytes = total_params * 2\n",
    "    total_size_gb = total_size_bytes / (1024 ** 3)\n",
    "    return f\"Model size = {total_size_gb:.2f} GB\""
   ]
  },
  {
   "cell_type": "markdown",
   "metadata": {},
   "source": [
    "#### Prepare Prompt Types"
   ]
  },
  {
   "cell_type": "code",
   "execution_count": 9,
   "metadata": {},
   "outputs": [],
   "source": [
    "prompt_types = [\"zero_shot\", \"chain_of_thought\", \"react\"]\n",
    "llm_types = [\"llama\", \"phi\", \"gemma\"]\n",
    "\n",
    "model_sizes = {llm: 0 for llm in llm_types}\n",
    "model_times = {llm: {p: 0 for p in prompt_types} for llm in llm_types}\n",
    "model_accuracies = {llm: {p: 0 for p in prompt_types} for llm in llm_types}"
   ]
  },
  {
   "cell_type": "code",
   "execution_count": 10,
   "metadata": {},
   "outputs": [],
   "source": [
    "def extract_option(responses, pattern=r'Answer:\\sOption\\s(\\d+)'):\n",
    "    answers = []\n",
    "    for response in responses:\n",
    "        match = re.search(pattern, response)\n",
    "        if match:\n",
    "            ans = match.group(1)\n",
    "            answers.append(ans)\n",
    "        else:\n",
    "            answers.append('0')\n",
    "    return np.array(answers, dtype=int)"
   ]
  },
  {
   "cell_type": "code",
   "execution_count": 15,
   "metadata": {},
   "outputs": [],
   "source": [
    "def generate_response(prompt, model, tokenizer, max_tokens=40):\n",
    "    messages = [\n",
    "        {\"role\": \"system\", \"content\": \"You are a mathematical multiple-choice question-answering chatbot! Choose the correct option for the given question and output in the format 'Answer: Option x'.\"},\n",
    "        {\"role\": \"user\", \"content\": prompt},\n",
    "    ]\n",
    "\n",
    "    input_ids = tokenizer.apply_chat_template(\n",
    "        messages,\n",
    "        add_generation_prompt=True,\n",
    "        return_tensors=\"pt\"\n",
    "    ).to(model.device)\n",
    "\n",
    "    terminators = [\n",
    "        tokenizer.eos_token_id,\n",
    "        tokenizer.convert_tokens_to_ids(\"<|eot_id|>\")\n",
    "    ]\n",
    "\n",
    "    start_time = time.time()\n",
    "\n",
    "    outputs = model.generate(\n",
    "        input_ids,\n",
    "        max_new_tokens=max_tokens,\n",
    "        eos_token_id=terminators,\n",
    "        pad_token_id=tokenizer.eos_token_id,\n",
    "        do_sample=True,\n",
    "        temperature=0.6,\n",
    "        top_p=0.9,\n",
    "    )\n",
    "\n",
    "    end_time = time.time()\n",
    "    inference_time = end_time - start_time\n",
    "\n",
    "    response = outputs[0][input_ids.shape[-1]:]\n",
    "    del input_ids\n",
    "    torch.cuda.empty_cache()\n",
    "    return tokenizer.decode(response, skip_special_tokens=True), inference_time"
   ]
  },
  {
   "cell_type": "code",
   "execution_count": 70,
   "metadata": {},
   "outputs": [],
   "source": [
    "def generate_response_gemma(prompt, model, tokenizer, max_tokens=40):\n",
    "    messages = [\n",
    "        {\"role\": \"user\", \"content\": prompt},\n",
    "    ]\n",
    "\n",
    "    input_ids = tokenizer.apply_chat_template(\n",
    "        messages,\n",
    "        add_generation_prompt=True,\n",
    "        return_tensors=\"pt\"\n",
    "    ).to(model.device)\n",
    "\n",
    "    terminators = [\n",
    "        tokenizer.eos_token_id,\n",
    "        tokenizer.convert_tokens_to_ids(\"<|eot_id|>\")\n",
    "    ]\n",
    "\n",
    "    start_time = time.time()\n",
    "\n",
    "    outputs = model.generate(\n",
    "        input_ids,\n",
    "        max_new_tokens=max_tokens,\n",
    "        eos_token_id=terminators,\n",
    "        pad_token_id=tokenizer.eos_token_id,\n",
    "        do_sample=True,\n",
    "        temperature=0.6,\n",
    "        top_p=0.9,\n",
    "    )\n",
    "\n",
    "    end_time = time.time()\n",
    "    inference_time = end_time - start_time\n",
    "\n",
    "    response = outputs[0][input_ids.shape[-1]:]\n",
    "    del input_ids\n",
    "    torch.cuda.empty_cache()\n",
    "    return tokenizer.decode(response, skip_special_tokens=True), inference_time"
   ]
  },
  {
   "cell_type": "code",
   "execution_count": null,
   "metadata": {},
   "outputs": [],
   "source": [
    "class ReactAgent:\n",
    "    def __init__(self, model, tokenizer, system_prompt='', reason_prompt=\"\", action_prompt=\"\", verbose=False):\n",
    "        self.system_prompt = system_prompt\n",
    "        self.reason_prompt = reason_prompt\n",
    "        self.action_prompt = action_prompt\n",
    "        self.model = model\n",
    "        self.tokenizer = tokenizer\n",
    "        self.end_pattern = r'Option\\s(\\d+)'\n",
    "        self.max_steps = 10\n",
    "        self.verbose = verbose\n",
    "\n",
    "    def __call__(self, prompt, max_tokens=1000):\n",
    "        self.inference_time = 0\n",
    "        self.history = {'Reasoning': [], 'Action': []}\n",
    "\n",
    "        for step in range(self.max_steps):\n",
    "            reason, r_time = self.reasoning(prompt, max_tokens)\n",
    "            if self.verbose:\n",
    "                print(f'\\n\\nReasoning Performed:\\n{reason}')\n",
    "            self.history['Reasoning'].append(reason)\n",
    "\n",
    "            action, a_time = self.action(prompt, max_tokens)\n",
    "            if self.verbose:\n",
    "                print(f'\\n\\nAction Taken:\\n{action}')\n",
    "            self.history['Action'].append(action)\n",
    "\n",
    "            self.inference_time += r_time + a_time\n",
    "\n",
    "            match = re.search(self.end_pattern, action)\n",
    "            if match:\n",
    "                break\n",
    "        return action, self.inference_time\n",
    "\n",
    "    def reasoning(self, prompt, max_tokens=1000):\n",
    "        self.messages = []\n",
    "        history_prompt = ''\n",
    "\n",
    "        if len(self.history['Action']):\n",
    "            # history_prompt = '\\n'.join(['\\n'.join([f'Reasoning: {a}', f'Action: {b}']) for a, b in zip(\n",
    "            #     self.history['Reasoning'], self.history['Action'])]).strip()\n",
    "            history_prompt = self.history['Action'][-1]\n",
    "        updated_prompt = self.reason_prompt + '\\n\\n' + prompt + '\\n\\n' + f'Previous Action:\\n{history_prompt}'\n",
    "        if self.verbose:\n",
    "            print(f'\\n######\\nReasoning Prompt:\\n{updated_prompt}\\n######')\n",
    "\n",
    "        self.messages.append(\n",
    "            {\"role\": \"system\", \"content\": self.system_prompt})\n",
    "        self.messages.append({\"role\": \"user\", \"content\": updated_prompt})\n",
    "\n",
    "        reason, inf_time = self.execute(max_tokens)\n",
    "        return reason, inf_time\n",
    "\n",
    "    def action(self, prompt, max_tokens=1000):\n",
    "        self.messages = []\n",
    "        history_prompt = ''\n",
    "\n",
    "        if len(self.history['Reasoning']):\n",
    "            history_prompt = self.history['Reasoning'][-1]\n",
    "            # history_prompt = '\\n'.join(['\\n'.join([f'Reasoning: {a}', f'Action: {b}']) for a, b in zip(\n",
    "            #     self.history['Reasoning'], self.history['Action'])] + [f'Reasoning: {self.history[\"Reasoning\"][-1]}']).strip()\n",
    "        updated_prompt = self.action_prompt + '\\n\\n' + prompt + '\\n\\n' + f'Current Thought:\\n{history_prompt}'\n",
    "        if self.verbose:\n",
    "            print(f'\\n######\\nAction Prompt:\\n{updated_prompt}\\n######')\n",
    "\n",
    "        self.messages.append(\n",
    "            {\"role\": \"system\", \"content\": self.system_prompt})\n",
    "        self.messages.append({\"role\": \"user\", \"content\": updated_prompt})\n",
    "\n",
    "        action, inf_time = self.execute(max_tokens)\n",
    "        return action, inf_time\n",
    "\n",
    "    def execute(self, max_tokens):\n",
    "        input_ids = self.tokenizer.apply_chat_template(\n",
    "            self.messages,\n",
    "            add_generation_prompt=True,\n",
    "            return_tensors=\"pt\"\n",
    "        ).to(self.model.device)\n",
    "\n",
    "        terminators = [\n",
    "            self.tokenizer.eos_token_id,\n",
    "            self.tokenizer.convert_tokens_to_ids(\"<|eot_id|>\")\n",
    "        ]\n",
    "\n",
    "        start_time = time.time()\n",
    "\n",
    "        outputs = self.model.generate(\n",
    "            input_ids,\n",
    "            max_new_tokens=max_tokens,\n",
    "            eos_token_id=terminators,\n",
    "            pad_token_id=self.tokenizer.eos_token_id,\n",
    "            do_sample=True,\n",
    "            temperature=0.6,\n",
    "            top_p=0.9,\n",
    "        )\n",
    "\n",
    "        end_time = time.time()\n",
    "        inference_time = end_time - start_time\n",
    "\n",
    "        response = outputs[0][input_ids.shape[-1]:]\n",
    "        del input_ids\n",
    "        torch.cuda.empty_cache()\n",
    "        return self.tokenizer.decode(response, skip_special_tokens=True), inference_time"
   ]
  },
  {
   "cell_type": "code",
   "execution_count": null,
   "metadata": {},
   "outputs": [],
   "source": [
    "class ReactAgentGemma:\n",
    "    def __init__(self, model, tokenizer, system_prompt='', reason_prompt=\"\", action_prompt=\"\", verbose=False):\n",
    "        self.system_prompt = system_prompt\n",
    "        self.reason_prompt = reason_prompt\n",
    "        self.action_prompt = action_prompt\n",
    "        self.model = model\n",
    "        self.tokenizer = tokenizer\n",
    "        self.end_pattern = r'Option\\s(\\d+)'\n",
    "        self.max_steps = 10\n",
    "        self.verbose = verbose\n",
    "\n",
    "    def __call__(self, prompt, max_tokens=1000):\n",
    "        self.inference_time = 0\n",
    "        self.history = {'Reasoning': [], 'Action': []}\n",
    "\n",
    "        for step in range(self.max_steps):\n",
    "            reason, r_time = self.reasoning(prompt, max_tokens)\n",
    "            if self.verbose:\n",
    "                print(f'\\n\\nReasoning Performed:\\n{reason}')\n",
    "            self.history['Reasoning'].append(reason)\n",
    "\n",
    "            action, a_time = self.action(prompt, max_tokens)\n",
    "            if self.verbose:\n",
    "                print(f'\\n\\nAction Taken:\\n{action}')\n",
    "            self.history['Action'].append(action)\n",
    "\n",
    "            self.inference_time += r_time + a_time\n",
    "\n",
    "            match = re.search(self.end_pattern, action)\n",
    "            if match:\n",
    "                break\n",
    "        return action, self.inference_time\n",
    "\n",
    "    def reasoning(self, prompt, max_tokens=1000):\n",
    "        self.messages = []\n",
    "        history_prompt = ''\n",
    "\n",
    "        if len(self.history['Action']):\n",
    "            # history_prompt = '\\n'.join(['\\n'.join([f'Reasoning: {a}', f'Action: {b}']) for a, b in zip(\n",
    "            #     self.history['Reasoning'], self.history['Action'])]).strip()\n",
    "            history_prompt = self.history['Action'][-1]\n",
    "        updated_prompt = self.reason_prompt + '\\n\\n' + prompt + '\\n\\n' + f'Previous Action:\\n{history_prompt}'\n",
    "        if self.verbose:\n",
    "            print(f'\\n######\\nReasoning Prompt:\\n{updated_prompt}\\n######')\n",
    "\n",
    "        self.messages.append({\"role\": \"user\", \"content\": updated_prompt})\n",
    "\n",
    "        reason, inf_time = self.execute(max_tokens)\n",
    "        return reason, inf_time\n",
    "\n",
    "    def action(self, prompt, max_tokens=1000):\n",
    "        self.messages = []\n",
    "        history_prompt = ''\n",
    "\n",
    "        if len(self.history['Reasoning']):\n",
    "            history_prompt = self.history['Reasoning'][-1]\n",
    "            # history_prompt = '\\n'.join(['\\n'.join([f'Reasoning: {a}', f'Action: {b}']) for a, b in zip(\n",
    "            #     self.history['Reasoning'], self.history['Action'])] + [f'Reasoning: {self.history[\"Reasoning\"][-1]}']).strip()\n",
    "        updated_prompt = self.action_prompt + '\\n\\n' + prompt + '\\n\\n' + f'Current Thought:\\n{history_prompt}'\n",
    "        if self.verbose:\n",
    "            print(f'\\n######\\nAction Prompt:\\n{updated_prompt}\\n######')\n",
    "\n",
    "        self.messages.append({\"role\": \"user\", \"content\": updated_prompt})\n",
    "\n",
    "        action, inf_time = self.execute(max_tokens)\n",
    "        return action, inf_time\n",
    "\n",
    "    def execute(self, max_tokens):\n",
    "        input_ids = self.tokenizer.apply_chat_template(\n",
    "            self.messages,\n",
    "            add_generation_prompt=True,\n",
    "            return_tensors=\"pt\"\n",
    "        ).to(self.model.device)\n",
    "\n",
    "        terminators = [\n",
    "            self.tokenizer.eos_token_id,\n",
    "            self.tokenizer.convert_tokens_to_ids(\"<|eot_id|>\")\n",
    "        ]\n",
    "\n",
    "        start_time = time.time()\n",
    "\n",
    "        outputs = self.model.generate(\n",
    "            input_ids,\n",
    "            max_new_tokens=max_tokens,\n",
    "            eos_token_id=terminators,\n",
    "            pad_token_id=self.tokenizer.eos_token_id,\n",
    "            do_sample=True,\n",
    "            temperature=0.6,\n",
    "            top_p=0.9,\n",
    "        )\n",
    "\n",
    "        end_time = time.time()\n",
    "        inference_time = end_time - start_time\n",
    "\n",
    "        response = outputs[0][input_ids.shape[-1]:]\n",
    "        del input_ids\n",
    "        torch.cuda.empty_cache()\n",
    "        return self.tokenizer.decode(response, skip_special_tokens=True), inference_time"
   ]
  },
  {
   "cell_type": "code",
   "execution_count": 71,
   "metadata": {},
   "outputs": [],
   "source": [
    "zero_shot_prompt_template = \"\"\"Choose the correct answer to the given question: {}\\n\n",
    "Option 1: {}\\nOption 2: {}\\nOption 3: {}\\nOption 4: {}\\n\n",
    "Only output the correct option in the format 'Answer: Option x'. Do not explain.\"\"\".strip()"
   ]
  },
  {
   "cell_type": "code",
   "execution_count": 72,
   "metadata": {},
   "outputs": [],
   "source": [
    "chain_thought_prompt_template = \"\"\"Choose the correct answer to the given question: {}\\n\n",
    "Option 1: {}\\nOption 2: {}\\nOption 3: {}\\nOption 4: {}\\n\n",
    "Solve it in 3-4 steps (not much depth needed) and always output the correct option in the format 'Answer: Option x'.\"\"\""
   ]
  },
  {
   "cell_type": "code",
   "execution_count": null,
   "metadata": {},
   "outputs": [],
   "source": [
    "react_system_prompt = \"\"\"\n",
    "You are a mathematical multiple-choice question-answering chatbot!. Break the remaining problem in steps, think about 1 step at a time. Choose the correct option and output in the format 'Answer: Option x'.\n",
    "\"\"\".strip()\n",
    "\n",
    "react_reason_prompt = \"\"\"\n",
    "This is the next Reasoning Step. Just think only about the immediate next 1 step of reasoning of how you would approach the problem now. Do not solve the problem and don't give the answer. Just think about the approach for next 1 step.\n",
    "\"\"\".strip()\n",
    "\n",
    "react_action_prompt = \"\"\"\n",
    "This is the next Action Step. Based on your latest reasoning, compute answer for only the latest step. Just compute for 1 step, don't reason about further steps.\n",
    "If answer is obtained, output in the format 'Answer: Option x'. If not, output 'PAUSE'.\n",
    "\"\"\".strip()"
   ]
  },
  {
   "cell_type": "code",
   "execution_count": null,
   "metadata": {},
   "outputs": [],
   "source": [
    "react_prompt_template = \"\"\"Choose the correct answer to the given question: {}\\n\n",
    "Option 1: {}\\nOption 2: {}\\nOption 3: {}\\nOption 4: {}\\n\n",
    "\"\"\".strip()"
   ]
  },
  {
   "cell_type": "markdown",
   "metadata": {},
   "source": [
    "#### Llama-3.1"
   ]
  },
  {
   "cell_type": "code",
   "execution_count": 7,
   "metadata": {},
   "outputs": [
    {
     "data": {
      "application/vnd.jupyter.widget-view+json": {
       "model_id": "97dbb51eaecb4120865851520763fd8d",
       "version_major": 2,
       "version_minor": 0
      },
      "text/plain": [
       "Loading checkpoint shards:   0%|          | 0/4 [00:00<?, ?it/s]"
      ]
     },
     "metadata": {},
     "output_type": "display_data"
    }
   ],
   "source": [
    "llama_model, llama_tokenizer = init_llm(llama_model_id, quantization_config)"
   ]
  },
  {
   "cell_type": "code",
   "execution_count": 8,
   "metadata": {},
   "outputs": [
    {
     "data": {
      "text/plain": [
       "LlamaForCausalLM(\n",
       "  (model): LlamaModel(\n",
       "    (embed_tokens): Embedding(128256, 4096)\n",
       "    (layers): ModuleList(\n",
       "      (0-31): 32 x LlamaDecoderLayer(\n",
       "        (self_attn): LlamaSdpaAttention(\n",
       "          (q_proj): Linear4bit(in_features=4096, out_features=4096, bias=False)\n",
       "          (k_proj): Linear4bit(in_features=4096, out_features=1024, bias=False)\n",
       "          (v_proj): Linear4bit(in_features=4096, out_features=1024, bias=False)\n",
       "          (o_proj): Linear4bit(in_features=4096, out_features=4096, bias=False)\n",
       "          (rotary_emb): LlamaRotaryEmbedding()\n",
       "        )\n",
       "        (mlp): LlamaMLP(\n",
       "          (gate_proj): Linear4bit(in_features=4096, out_features=14336, bias=False)\n",
       "          (up_proj): Linear4bit(in_features=4096, out_features=14336, bias=False)\n",
       "          (down_proj): Linear4bit(in_features=14336, out_features=4096, bias=False)\n",
       "          (act_fn): SiLU()\n",
       "        )\n",
       "        (input_layernorm): LlamaRMSNorm((4096,), eps=1e-05)\n",
       "        (post_attention_layernorm): LlamaRMSNorm((4096,), eps=1e-05)\n",
       "      )\n",
       "    )\n",
       "    (norm): LlamaRMSNorm((4096,), eps=1e-05)\n",
       "    (rotary_emb): LlamaRotaryEmbedding()\n",
       "  )\n",
       "  (lm_head): Linear(in_features=4096, out_features=128256, bias=False)\n",
       ")"
      ]
     },
     "execution_count": 8,
     "metadata": {},
     "output_type": "execute_result"
    }
   ],
   "source": [
    "llama_model"
   ]
  },
  {
   "cell_type": "code",
   "execution_count": 13,
   "metadata": {},
   "outputs": [
    {
     "name": "stdout",
     "output_type": "stream",
     "text": [
      "meta-llama/Meta-Llama-3.1-8B-Instruct: Model size = 8.46 GB\n"
     ]
    }
   ],
   "source": [
    "model_sizes[\"llama\"] = get_model_size(llama_model)\n",
    "print(f'{llama_model_id}: {model_sizes[\"llama\"]}')"
   ]
  },
  {
   "cell_type": "code",
   "execution_count": 14,
   "metadata": {},
   "outputs": [
    {
     "data": {
      "text/plain": [
       "device(type='cuda', index=0)"
      ]
     },
     "execution_count": 14,
     "metadata": {},
     "output_type": "execute_result"
    }
   ],
   "source": [
    "llama_model.device"
   ]
  },
  {
   "cell_type": "markdown",
   "metadata": {},
   "source": [
    "##### Zero-Shot Prompting"
   ]
  },
  {
   "cell_type": "code",
   "execution_count": 17,
   "metadata": {},
   "outputs": [
    {
     "name": "stderr",
     "output_type": "stream",
     "text": [
      "Zero-shot responses:   0%|          | 0/100 [00:00<?, ?it/s]The attention mask is not set and cannot be inferred from input because pad token is same as eos token. As a consequence, you may observe unexpected behavior. Please pass your input's `attention_mask` to obtain reliable results.\n",
      "Zero-shot responses: 100%|██████████| 100/100 [00:59<00:00,  1.68it/s]\n"
     ]
    }
   ],
   "source": [
    "llama_zs_responses = []\n",
    "llama_zs_times = []\n",
    "\n",
    "for x in tqdm(dataset.iterrows(), desc='Zero-shot responses', total=len(dataset)):\n",
    "    options = x[1]['choices']\n",
    "    prompt = zero_shot_prompt_template.format(x[1]['question'], options[0], options[1], options[2], options[3])\n",
    "    response, inf_time = generate_response(prompt, llama_model, llama_tokenizer)\n",
    "    llama_zs_responses.append(response)\n",
    "    llama_zs_times.append(inf_time)"
   ]
  },
  {
   "cell_type": "code",
   "execution_count": 18,
   "metadata": {},
   "outputs": [
    {
     "data": {
      "text/plain": [
       "array([2, 4, 4, 1, 3, 4, 3, 3, 3, 1, 4, 2, 1, 2, 4, 4, 2, 3, 4, 1, 4, 4,\n",
       "       2, 1, 2, 4, 4, 1, 1, 2, 3, 2, 2, 3, 4, 4, 1, 1, 1, 3, 2, 4, 4, 1,\n",
       "       4, 1, 2, 2, 3, 4, 1, 2, 3, 3, 1, 4, 2, 4, 3, 1, 2, 1, 1, 4, 2, 4,\n",
       "       3, 4, 1, 1, 4, 4, 4, 4, 3, 4, 4, 3, 2, 2, 3, 2, 2, 3, 3, 2, 1, 3,\n",
       "       3, 3, 2, 3, 3, 2, 4, 4, 3, 3, 4, 1])"
      ]
     },
     "execution_count": 18,
     "metadata": {},
     "output_type": "execute_result"
    }
   ],
   "source": [
    "answers"
   ]
  },
  {
   "cell_type": "code",
   "execution_count": 19,
   "metadata": {},
   "outputs": [
    {
     "data": {
      "text/plain": [
       "array([1, 1, 1, 4, 4, 3, 1, 1, 4, 3, 4, 2, 4, 4, 3, 1, 3, 3, 4, 3, 3, 4,\n",
       "       1, 1, 1, 3, 3, 1, 1, 1, 3, 2, 2, 1, 4, 2, 2, 3, 3, 4, 4, 4, 4, 3,\n",
       "       5, 1, 1, 3, 2, 3, 4, 2, 3, 3, 4, 4, 3, 4, 2, 1, 1, 1, 2, 1, 2, 4,\n",
       "       3, 1, 4, 4, 4, 3, 3, 3, 1, 2, 2, 3, 2, 2, 2, 1, 4, 4, 1, 1, 4, 3,\n",
       "       3, 1, 3, 4, 4, 4, 4, 3, 4, 4, 3, 3])"
      ]
     },
     "execution_count": 19,
     "metadata": {},
     "output_type": "execute_result"
    }
   ],
   "source": [
    "llama_zs_answers = extract_option(llama_zs_responses)\n",
    "llama_zs_answers"
   ]
  },
  {
   "cell_type": "code",
   "execution_count": 20,
   "metadata": {},
   "outputs": [
    {
     "name": "stdout",
     "output_type": "stream",
     "text": [
      "Zero-shot Accuracy: 32.00%\n"
     ]
    }
   ],
   "source": [
    "model_accuracies[\"llama\"]['zero_shot'] = accuracy_score(answers, llama_zs_answers)\n",
    "print(f'Zero-shot Accuracy: {100 * model_accuracies[\"llama\"][\"zero_shot\"]:.2f}%')"
   ]
  },
  {
   "cell_type": "markdown",
   "metadata": {},
   "source": [
    "##### Chain-of-Thought Prompting"
   ]
  },
  {
   "cell_type": "code",
   "execution_count": 22,
   "metadata": {},
   "outputs": [
    {
     "name": "stderr",
     "output_type": "stream",
     "text": [
      "Chain-of-Thought responses: 100%|██████████| 100/100 [53:34<00:00, 32.14s/it] \n"
     ]
    }
   ],
   "source": [
    "llama_cot_responses = []\n",
    "llama_cot_times = []\n",
    "\n",
    "for x in tqdm(dataset.iterrows(), desc='Chain-of-Thought responses', total=len(dataset)):\n",
    "    options = x[1]['choices']\n",
    "    prompt = chain_thought_prompt_template.format(x[1]['question'], options[0], options[1], options[2], options[3])\n",
    "    response, inf_time = generate_response(prompt, llama_model, llama_tokenizer, max_tokens=1000)\n",
    "    llama_cot_responses.append(response)\n",
    "    llama_cot_times.append(inf_time)"
   ]
  },
  {
   "cell_type": "code",
   "execution_count": 24,
   "metadata": {},
   "outputs": [
    {
     "data": {
      "text/plain": [
       "array([2, 2, 2, 4, 3, 0, 3, 1, 4, 0, 4, 0, 0, 1, 2, 1, 4, 3, 4, 1, 4, 2,\n",
       "       2, 4, 1, 3, 0, 2, 1, 1, 4, 2, 2, 2, 4, 2, 1, 1, 3, 4, 2, 4, 4, 3,\n",
       "       4, 1, 3, 2, 4, 2, 3, 2, 3, 3, 1, 4, 4, 4, 0, 1, 2, 1, 1, 4, 4, 0,\n",
       "       3, 1, 3, 4, 0, 4, 3, 4, 1, 1, 4, 1, 0, 1, 3, 0, 2, 3, 2, 2, 5, 0,\n",
       "       3, 3, 0, 4, 0, 2, 4, 0, 4, 4, 4, 3])"
      ]
     },
     "execution_count": 24,
     "metadata": {},
     "output_type": "execute_result"
    }
   ],
   "source": [
    "llama_cot_answers = extract_option(llama_cot_responses)\n",
    "llama_cot_answers"
   ]
  },
  {
   "cell_type": "code",
   "execution_count": 25,
   "metadata": {},
   "outputs": [
    {
     "name": "stdout",
     "output_type": "stream",
     "text": [
      "Chain-of-Thought Accuracy: 45.00%\n"
     ]
    }
   ],
   "source": [
    "model_accuracies[\"llama\"]['chain_of_thought'] = accuracy_score(answers, llama_cot_answers)\n",
    "print(f'Chain-of-Thought Accuracy: {100 * model_accuracies[\"llama\"][\"chain_of_thought\"]:.2f}%')"
   ]
  },
  {
   "cell_type": "markdown",
   "metadata": {},
   "source": [
    "##### ReAct Prompting"
   ]
  },
  {
   "cell_type": "code",
   "execution_count": null,
   "metadata": {},
   "outputs": [],
   "source": [
    "llama_react_agent = ReactAgent(llama_model, llama_tokenizer, react_system_prompt, react_reason_prompt, react_action_prompt)"
   ]
  },
  {
   "cell_type": "code",
   "execution_count": null,
   "metadata": {},
   "outputs": [],
   "source": [
    "small_dataset = dataset[:30]"
   ]
  },
  {
   "cell_type": "code",
   "execution_count": null,
   "metadata": {},
   "outputs": [
    {
     "name": "stderr",
     "output_type": "stream",
     "text": [
      "React responses: 100%|██████████| 30/30 [42:21<00:00, 84.73s/it]  \n"
     ]
    }
   ],
   "source": [
    "llama_react_responses = []\n",
    "llama_react_times = []\n",
    "\n",
    "for x in tqdm(small_dataset.iterrows(), desc='React responses', total=len(small_dataset)):\n",
    "    options = x[1]['choices']\n",
    "    prompt = react_prompt_template.format(x[1]['question'], options[0], options[1], options[2], options[3])\n",
    "    response, inf_time = llama_react_agent(prompt, max_tokens=1000)\n",
    "    llama_react_responses.append(response)\n",
    "    llama_react_times.append(inf_time)"
   ]
  },
  {
   "cell_type": "code",
   "execution_count": null,
   "metadata": {},
   "outputs": [
    {
     "data": {
      "text/plain": [
       "array([4, 1, 4, 0, 4, 2, 3, 1, 4, 3, 4, 2, 4, 1, 3, 1, 1, 3, 3, 3, 4, 4,\n",
       "       2, 1, 1, 1, 3, 2, 4, 1])"
      ]
     },
     "metadata": {},
     "output_type": "display_data"
    }
   ],
   "source": [
    "llama_react_answers = extract_option(llama_react_responses, pattern=r'Option\\s(\\d+)')\n",
    "llama_react_answers"
   ]
  },
  {
   "cell_type": "code",
   "execution_count": null,
   "metadata": {},
   "outputs": [
    {
     "name": "stdout",
     "output_type": "stream",
     "text": [
      "ReAct Accuracy: 30.00%\n"
     ]
    }
   ],
   "source": [
    "model_accuracies[\"llama\"]['react'] = accuracy_score(answers[:30], llama_react_answers)\n",
    "print(f'ReAct Accuracy: {100 * model_accuracies[\"llama\"][\"react\"]:.2f}%')"
   ]
  },
  {
   "cell_type": "code",
   "execution_count": 9,
   "metadata": {},
   "outputs": [],
   "source": [
    "del llama_model\n",
    "del llama_tokenizer"
   ]
  },
  {
   "cell_type": "markdown",
   "metadata": {},
   "source": [
    "#### Phi-3.5"
   ]
  },
  {
   "cell_type": "code",
   "execution_count": null,
   "metadata": {},
   "outputs": [
    {
     "data": {
      "application/vnd.jupyter.widget-view+json": {
       "model_id": "aa9a1d8c16424fdd8ac4854a95e5e0e9",
       "version_major": 2,
       "version_minor": 0
      },
      "text/plain": [
       "Loading checkpoint shards:   0%|          | 0/2 [00:00<?, ?it/s]"
      ]
     },
     "metadata": {},
     "output_type": "display_data"
    }
   ],
   "source": [
    "phi_model, phi_tokenizer = init_llm(phi_model_id, quantization_config)"
   ]
  },
  {
   "cell_type": "code",
   "execution_count": 11,
   "metadata": {},
   "outputs": [
    {
     "data": {
      "text/plain": [
       "Phi3ForCausalLM(\n",
       "  (model): Phi3Model(\n",
       "    (embed_tokens): Embedding(32064, 3072, padding_idx=32000)\n",
       "    (embed_dropout): Dropout(p=0.0, inplace=False)\n",
       "    (layers): ModuleList(\n",
       "      (0-31): 32 x Phi3DecoderLayer(\n",
       "        (self_attn): Phi3Attention(\n",
       "          (o_proj): Linear4bit(in_features=3072, out_features=3072, bias=False)\n",
       "          (qkv_proj): Linear4bit(in_features=3072, out_features=9216, bias=False)\n",
       "          (rotary_emb): Phi3LongRoPEScaledRotaryEmbedding()\n",
       "        )\n",
       "        (mlp): Phi3MLP(\n",
       "          (gate_up_proj): Linear4bit(in_features=3072, out_features=16384, bias=False)\n",
       "          (down_proj): Linear4bit(in_features=8192, out_features=3072, bias=False)\n",
       "          (activation_fn): SiLU()\n",
       "        )\n",
       "        (input_layernorm): Phi3RMSNorm((3072,), eps=1e-05)\n",
       "        (resid_attn_dropout): Dropout(p=0.0, inplace=False)\n",
       "        (resid_mlp_dropout): Dropout(p=0.0, inplace=False)\n",
       "        (post_attention_layernorm): Phi3RMSNorm((3072,), eps=1e-05)\n",
       "      )\n",
       "    )\n",
       "    (norm): Phi3RMSNorm((3072,), eps=1e-05)\n",
       "  )\n",
       "  (lm_head): Linear(in_features=3072, out_features=32064, bias=False)\n",
       ")"
      ]
     },
     "execution_count": 11,
     "metadata": {},
     "output_type": "execute_result"
    }
   ],
   "source": [
    "phi_model"
   ]
  },
  {
   "cell_type": "code",
   "execution_count": 28,
   "metadata": {},
   "outputs": [
    {
     "name": "stdout",
     "output_type": "stream",
     "text": [
      "microsoft/Phi-3.5-mini-instruct: Model size = 3.74 GB\n"
     ]
    }
   ],
   "source": [
    "model_sizes[\"phi\"] = get_model_size(phi_model)\n",
    "print(f'{phi_model_id}: {model_sizes[\"phi\"]}')"
   ]
  },
  {
   "cell_type": "code",
   "execution_count": 29,
   "metadata": {},
   "outputs": [
    {
     "data": {
      "text/plain": [
       "device(type='cuda', index=0)"
      ]
     },
     "execution_count": 29,
     "metadata": {},
     "output_type": "execute_result"
    }
   ],
   "source": [
    "phi_model.device"
   ]
  },
  {
   "cell_type": "markdown",
   "metadata": {},
   "source": [
    "##### Zero-Shot Prompting"
   ]
  },
  {
   "cell_type": "code",
   "execution_count": 30,
   "metadata": {},
   "outputs": [
    {
     "name": "stderr",
     "output_type": "stream",
     "text": [
      "Zero-shot responses:   0%|          | 0/100 [00:00<?, ?it/s]You are not running the flash-attention implementation, expect numerical differences.\n",
      "Zero-shot responses: 100%|██████████| 100/100 [01:03<00:00,  1.57it/s]\n"
     ]
    }
   ],
   "source": [
    "phi_zs_responses = []\n",
    "phi_zs_times = []\n",
    "\n",
    "for x in tqdm(dataset.iterrows(), desc='Zero-shot responses', total=len(dataset)):\n",
    "    options = x[1]['choices']\n",
    "    prompt = zero_shot_prompt_template.format(x[1]['question'], options[0], options[1], options[2], options[3])\n",
    "    response, inf_time = generate_response(prompt, phi_model, phi_tokenizer, max_tokens=20)\n",
    "    phi_zs_responses.append(response)\n",
    "    phi_zs_times.append(inf_time)"
   ]
  },
  {
   "cell_type": "code",
   "execution_count": 31,
   "metadata": {},
   "outputs": [
    {
     "data": {
      "text/plain": [
       "array([2, 4, 4, 1, 3, 4, 3, 3, 3, 1, 4, 2, 1, 2, 4, 4, 2, 3, 4, 1, 4, 4,\n",
       "       2, 1, 2, 4, 4, 1, 1, 2, 3, 2, 2, 3, 4, 4, 1, 1, 1, 3, 2, 4, 4, 1,\n",
       "       4, 1, 2, 2, 3, 4, 1, 2, 3, 3, 1, 4, 2, 4, 3, 1, 2, 1, 1, 4, 2, 4,\n",
       "       3, 4, 1, 1, 4, 4, 4, 4, 3, 4, 4, 3, 2, 2, 3, 2, 2, 3, 3, 2, 1, 3,\n",
       "       3, 3, 2, 3, 3, 2, 4, 4, 3, 3, 4, 1])"
      ]
     },
     "execution_count": 31,
     "metadata": {},
     "output_type": "execute_result"
    }
   ],
   "source": [
    "answers"
   ]
  },
  {
   "cell_type": "code",
   "execution_count": 32,
   "metadata": {},
   "outputs": [
    {
     "data": {
      "text/plain": [
       "array([ 2,  2,  2,  4,  1,  4,  2,  3,  4,  3, 45,  2,  4,  3,  4,  1,  4,\n",
       "        3,  3,  3,  3,  1,  1,  4,  2,  1,  3,  4,  3,  3,  3,  2,  2,  3,\n",
       "        3,  4,  4,  2,  4,  4,  4,  4,  4,  2,  4,  2,  3,  2,  3,  4,  2,\n",
       "        3,  3,  3,  3,  4,  4,  3,  2,  2,  1,  1,  1,  3,  2,  4,  3,  3,\n",
       "        4,  4,  3,  4,  3,  3,  2,  1,  3,  3,  3,  2,  2,  3,  2,  3,  3,\n",
       "        3,  4,  1,  4,  1,  3,  3,  2,  1,  4,  3,  4,  3,  3,  2])"
      ]
     },
     "execution_count": 32,
     "metadata": {},
     "output_type": "execute_result"
    }
   ],
   "source": [
    "phi_zs_answers = extract_option(phi_zs_responses)\n",
    "phi_zs_answers"
   ]
  },
  {
   "cell_type": "code",
   "execution_count": 33,
   "metadata": {},
   "outputs": [
    {
     "name": "stdout",
     "output_type": "stream",
     "text": [
      "Zero-shot Accuracy: 35.00%\n"
     ]
    }
   ],
   "source": [
    "model_accuracies[\"phi\"]['zero_shot'] = accuracy_score(answers, phi_zs_answers)\n",
    "print(f'Zero-shot Accuracy: {100 * model_accuracies[\"phi\"][\"zero_shot\"]:.2f}%')"
   ]
  },
  {
   "cell_type": "markdown",
   "metadata": {},
   "source": [
    "##### Chain-of-Thought Prompting"
   ]
  },
  {
   "cell_type": "code",
   "execution_count": 34,
   "metadata": {},
   "outputs": [
    {
     "name": "stderr",
     "output_type": "stream",
     "text": [
      "Chain-of-Thought responses: 100%|██████████| 100/100 [54:17<00:00, 32.57s/it]\n"
     ]
    }
   ],
   "source": [
    "phi_cot_responses = []\n",
    "phi_cot_times = []\n",
    "\n",
    "for x in tqdm(dataset.iterrows(), desc='Chain-of-Thought responses', total=len(dataset)):\n",
    "    options = x[1]['choices']\n",
    "    prompt = chain_thought_prompt_template.format(x[1]['question'], options[0], options[1], options[2], options[3])\n",
    "    response, inf_time = generate_response(prompt, phi_model, phi_tokenizer, max_tokens=1000)\n",
    "    phi_cot_responses.append(response)\n",
    "    phi_cot_times.append(inf_time)"
   ]
  },
  {
   "cell_type": "code",
   "execution_count": 35,
   "metadata": {},
   "outputs": [
    {
     "data": {
      "text/plain": [
       "array([2, 4, 4, 1, 3, 4, 3, 3, 3, 1, 4, 2, 1, 2, 4, 4, 2, 3, 4, 1, 4, 4,\n",
       "       2, 1, 2, 4, 4, 1, 1, 2, 3, 2, 2, 3, 4, 4, 1, 1, 1, 3, 2, 4, 4, 1,\n",
       "       4, 1, 2, 2, 3, 4, 1, 2, 3, 3, 1, 4, 2, 4, 3, 1, 2, 1, 1, 4, 2, 4,\n",
       "       3, 4, 1, 1, 4, 4, 4, 4, 3, 4, 4, 3, 2, 2, 3, 2, 2, 3, 3, 2, 1, 3,\n",
       "       3, 3, 2, 3, 3, 2, 4, 4, 3, 3, 4, 1])"
      ]
     },
     "execution_count": 35,
     "metadata": {},
     "output_type": "execute_result"
    }
   ],
   "source": [
    "answers"
   ]
  },
  {
   "cell_type": "code",
   "execution_count": 36,
   "metadata": {},
   "outputs": [
    {
     "data": {
      "text/plain": [
       "array([2, 2, 1, 4, 0, 4, 3, 1, 4, 3, 4, 2, 3, 2, 4, 1, 4, 3, 3, 1, 3, 1,\n",
       "       0, 1, 2, 1, 2, 2, 3, 1, 3, 2, 2, 2, 2, 4, 1, 0, 4, 3, 4, 4, 4, 1,\n",
       "       4, 2, 2, 2, 3, 4, 4, 3, 4, 4, 1, 4, 3, 4, 1, 1, 4, 4, 1, 3, 0, 1,\n",
       "       4, 1, 0, 3, 3, 4, 4, 4, 3, 3, 4, 2, 3, 3, 1, 2, 2, 3, 3, 0, 1, 0,\n",
       "       4, 4, 2, 0, 1, 2, 3, 3, 3, 4, 1, 3])"
      ]
     },
     "execution_count": 36,
     "metadata": {},
     "output_type": "execute_result"
    }
   ],
   "source": [
    "phi_cot_answers = extract_option(phi_cot_responses)\n",
    "phi_cot_answers"
   ]
  },
  {
   "cell_type": "code",
   "execution_count": 37,
   "metadata": {},
   "outputs": [
    {
     "name": "stdout",
     "output_type": "stream",
     "text": [
      "Chain-of-Thought Accuracy: 43.00%\n"
     ]
    }
   ],
   "source": [
    "model_accuracies[\"phi\"]['chain_of_thought'] = accuracy_score(answers, phi_cot_answers)\n",
    "print(f'Chain-of-Thought Accuracy: {100 * model_accuracies[\"phi\"][\"chain_of_thought\"]:.2f}%')"
   ]
  },
  {
   "cell_type": "markdown",
   "metadata": {},
   "source": [
    "##### ReAct Prompting"
   ]
  },
  {
   "cell_type": "code",
   "execution_count": null,
   "metadata": {},
   "outputs": [],
   "source": [
    "phi_react_agent = ReactAgent(phi_model, phi_tokenizer, react_system_prompt, react_reason_prompt, react_action_prompt)"
   ]
  },
  {
   "cell_type": "code",
   "execution_count": null,
   "metadata": {},
   "outputs": [],
   "source": [
    "small_dataset = dataset[:30]"
   ]
  },
  {
   "cell_type": "code",
   "execution_count": null,
   "metadata": {},
   "outputs": [
    {
     "name": "stderr",
     "output_type": "stream",
     "text": [
      "React responses:   0%|          | 0/30 [00:00<?, ?it/s]"
     ]
    },
    {
     "name": "stderr",
     "output_type": "stream",
     "text": [
      "React responses: 100%|██████████| 30/30 [1:13:20<00:00, 146.70s/it]\n"
     ]
    }
   ],
   "source": [
    "phi_react_responses = []\n",
    "phi_react_times = []\n",
    "\n",
    "for x in tqdm(small_dataset.iterrows(), desc='React responses', total=len(small_dataset)):\n",
    "    options = x[1]['choices']\n",
    "    prompt = react_prompt_template.format(x[1]['question'], options[0], options[1], options[2], options[3])\n",
    "    response, inf_time = phi_react_agent(prompt, max_tokens=1000)\n",
    "    phi_react_responses.append(response)\n",
    "    phi_react_times.append(inf_time)"
   ]
  },
  {
   "cell_type": "code",
   "execution_count": null,
   "metadata": {},
   "outputs": [
    {
     "data": {
      "text/plain": [
       "array([2, 4, 4, 1, 3, 4, 3, 3, 3, 1, 4, 2, 1, 2, 4, 4, 2, 3, 4, 1, 4, 4,\n",
       "       2, 1, 2, 4, 4, 1, 1, 2])"
      ]
     },
     "metadata": {},
     "output_type": "display_data"
    }
   ],
   "source": [
    "answers[:30]"
   ]
  },
  {
   "cell_type": "code",
   "execution_count": null,
   "metadata": {},
   "outputs": [
    {
     "data": {
      "text/plain": [
       "array([2, 1, 4, 4, 3, 4, 2, 1, 3, 3, 4, 2, 4, 1, 3, 1, 2, 3, 0, 3, 4, 2,\n",
       "       1, 4, 3, 1, 2, 2, 1, 1])"
      ]
     },
     "metadata": {},
     "output_type": "display_data"
    }
   ],
   "source": [
    "phi_react_answers = extract_option(phi_react_responses, pattern=r'Option\\s(\\d+)')\n",
    "phi_react_answers"
   ]
  },
  {
   "cell_type": "code",
   "execution_count": null,
   "metadata": {},
   "outputs": [
    {
     "name": "stdout",
     "output_type": "stream",
     "text": [
      "ReAct Accuracy: 36.67%\n"
     ]
    }
   ],
   "source": [
    "model_accuracies[\"phi\"]['react'] = accuracy_score(answers[:30], phi_react_answers)\n",
    "print(f'ReAct Accuracy: {100 * model_accuracies[\"phi\"][\"react\"]:.2f}%')"
   ]
  },
  {
   "cell_type": "code",
   "execution_count": 12,
   "metadata": {},
   "outputs": [],
   "source": [
    "del phi_model\n",
    "del phi_tokenizer"
   ]
  },
  {
   "cell_type": "markdown",
   "metadata": {},
   "source": [
    "#### Gemma-2b"
   ]
  },
  {
   "cell_type": "code",
   "execution_count": 13,
   "metadata": {},
   "outputs": [
    {
     "name": "stderr",
     "output_type": "stream",
     "text": [
      "`config.hidden_act` is ignored, you should use `config.hidden_activation` instead.\n",
      "Gemma's activation function will be set to `gelu_pytorch_tanh`. Please, use\n",
      "`config.hidden_activation` if you want to override this behaviour.\n",
      "See https://github.com/huggingface/transformers/pull/29402 for more details.\n"
     ]
    },
    {
     "data": {
      "application/vnd.jupyter.widget-view+json": {
       "model_id": "bd44e565c4b44dc5bf1a56a5efe0273f",
       "version_major": 2,
       "version_minor": 0
      },
      "text/plain": [
       "Loading checkpoint shards:   0%|          | 0/2 [00:00<?, ?it/s]"
      ]
     },
     "metadata": {},
     "output_type": "display_data"
    }
   ],
   "source": [
    "gemma_model, gemma_tokenizer = init_llm(gemma_model_id, quantization_config)"
   ]
  },
  {
   "cell_type": "code",
   "execution_count": 14,
   "metadata": {},
   "outputs": [
    {
     "data": {
      "text/plain": [
       "GemmaForCausalLM(\n",
       "  (model): GemmaModel(\n",
       "    (embed_tokens): Embedding(256000, 2048, padding_idx=0)\n",
       "    (layers): ModuleList(\n",
       "      (0-17): 18 x GemmaDecoderLayer(\n",
       "        (self_attn): GemmaSdpaAttention(\n",
       "          (q_proj): Linear4bit(in_features=2048, out_features=2048, bias=False)\n",
       "          (k_proj): Linear4bit(in_features=2048, out_features=256, bias=False)\n",
       "          (v_proj): Linear4bit(in_features=2048, out_features=256, bias=False)\n",
       "          (o_proj): Linear4bit(in_features=2048, out_features=2048, bias=False)\n",
       "          (rotary_emb): GemmaRotaryEmbedding()\n",
       "        )\n",
       "        (mlp): GemmaMLP(\n",
       "          (gate_proj): Linear4bit(in_features=2048, out_features=16384, bias=False)\n",
       "          (up_proj): Linear4bit(in_features=2048, out_features=16384, bias=False)\n",
       "          (down_proj): Linear4bit(in_features=16384, out_features=2048, bias=False)\n",
       "          (act_fn): PytorchGELUTanh()\n",
       "        )\n",
       "        (input_layernorm): GemmaRMSNorm((2048,), eps=1e-06)\n",
       "        (post_attention_layernorm): GemmaRMSNorm((2048,), eps=1e-06)\n",
       "      )\n",
       "    )\n",
       "    (norm): GemmaRMSNorm((2048,), eps=1e-06)\n",
       "  )\n",
       "  (lm_head): Linear(in_features=2048, out_features=256000, bias=False)\n",
       ")"
      ]
     },
     "execution_count": 14,
     "metadata": {},
     "output_type": "execute_result"
    }
   ],
   "source": [
    "gemma_model"
   ]
  },
  {
   "cell_type": "code",
   "execution_count": 52,
   "metadata": {},
   "outputs": [
    {
     "name": "stdout",
     "output_type": "stream",
     "text": [
      "google/gemma-2b-it: Model size = 2.82 GB\n"
     ]
    }
   ],
   "source": [
    "model_sizes[\"gemma\"] = get_model_size(gemma_model)\n",
    "print(f'{gemma_model_id}: {model_sizes[\"gemma\"]}')"
   ]
  },
  {
   "cell_type": "code",
   "execution_count": 53,
   "metadata": {},
   "outputs": [
    {
     "data": {
      "text/plain": [
       "device(type='cuda', index=0)"
      ]
     },
     "execution_count": 53,
     "metadata": {},
     "output_type": "execute_result"
    }
   ],
   "source": [
    "gemma_model.device"
   ]
  },
  {
   "cell_type": "markdown",
   "metadata": {},
   "source": [
    "##### Zero-Shot Prompting"
   ]
  },
  {
   "cell_type": "code",
   "execution_count": 79,
   "metadata": {},
   "outputs": [
    {
     "name": "stderr",
     "output_type": "stream",
     "text": [
      "Zero-shot responses: 100%|██████████| 100/100 [01:32<00:00,  1.08it/s]\n"
     ]
    }
   ],
   "source": [
    "gemma_zs_responses = []\n",
    "gemma_zs_times = []\n",
    "\n",
    "for x in tqdm(dataset.iterrows(), desc='Zero-shot responses', total=len(dataset)):\n",
    "    options = x[1]['choices']\n",
    "    prompt = zero_shot_prompt_template.format(x[1]['question'], options[0], options[1], options[2], options[3])\n",
    "    response, inf_time = generate_response_gemma(prompt, gemma_model, gemma_tokenizer, max_tokens=20)\n",
    "    gemma_zs_responses.append(response)\n",
    "    gemma_zs_times.append(inf_time)"
   ]
  },
  {
   "cell_type": "code",
   "execution_count": 57,
   "metadata": {},
   "outputs": [
    {
     "data": {
      "text/plain": [
       "array([2, 4, 4, 1, 3, 4, 3, 3, 3, 1, 4, 2, 1, 2, 4, 4, 2, 3, 4, 1, 4, 4,\n",
       "       2, 1, 2, 4, 4, 1, 1, 2, 3, 2, 2, 3, 4, 4, 1, 1, 1, 3, 2, 4, 4, 1,\n",
       "       4, 1, 2, 2, 3, 4, 1, 2, 3, 3, 1, 4, 2, 4, 3, 1, 2, 1, 1, 4, 2, 4,\n",
       "       3, 4, 1, 1, 4, 4, 4, 4, 3, 4, 4, 3, 2, 2, 3, 2, 2, 3, 3, 2, 1, 3,\n",
       "       3, 3, 2, 3, 3, 2, 4, 4, 3, 3, 4, 1])"
      ]
     },
     "execution_count": 57,
     "metadata": {},
     "output_type": "execute_result"
    }
   ],
   "source": [
    "answers"
   ]
  },
  {
   "cell_type": "code",
   "execution_count": 80,
   "metadata": {},
   "outputs": [
    {
     "data": {
      "text/plain": [
       "array([1, 0, 2, 1, 1, 3, 1, 0, 0, 1, 2, 2, 0, 2, 1, 0, 0, 2, 0, 3, 0, 3,\n",
       "       0, 1, 1, 0, 0, 3, 1, 3, 3, 2, 3, 3, 0, 2, 3, 3, 2, 0, 0, 0, 3, 0,\n",
       "       4, 0, 1, 3, 3, 3, 3, 3, 3, 3, 3, 0, 3, 0, 0, 1, 3, 1, 0, 1, 1, 1,\n",
       "       3, 0, 3, 4, 3, 3, 2, 0, 1, 3, 1, 0, 1, 1, 3, 1, 3, 1, 3, 2, 1, 3,\n",
       "       3, 1, 2, 0, 3, 3, 4, 0, 1, 3, 3, 1])"
      ]
     },
     "execution_count": 80,
     "metadata": {},
     "output_type": "execute_result"
    }
   ],
   "source": [
    "gemma_zs_answers = extract_option(gemma_zs_responses)\n",
    "gemma_zs_answers"
   ]
  },
  {
   "cell_type": "code",
   "execution_count": 81,
   "metadata": {},
   "outputs": [
    {
     "name": "stdout",
     "output_type": "stream",
     "text": [
      "Zero-shot Accuracy: 27.00%\n"
     ]
    }
   ],
   "source": [
    "model_accuracies[\"gemma\"]['zero_shot'] = accuracy_score(answers, gemma_zs_answers)\n",
    "print(f'Zero-shot Accuracy: {100 * model_accuracies[\"gemma\"][\"zero_shot\"]:.2f}%')"
   ]
  },
  {
   "cell_type": "markdown",
   "metadata": {},
   "source": [
    "##### Chain-of-Thought Prompting"
   ]
  },
  {
   "cell_type": "code",
   "execution_count": 82,
   "metadata": {},
   "outputs": [
    {
     "name": "stderr",
     "output_type": "stream",
     "text": [
      "Chain-of-Thought responses: 100%|██████████| 100/100 [08:25<00:00,  5.05s/it]\n"
     ]
    }
   ],
   "source": [
    "gemma_cot_responses = []\n",
    "gemma_cot_times = []\n",
    "\n",
    "for x in tqdm(dataset.iterrows(), desc='Chain-of-Thought responses', total=len(dataset)):\n",
    "    options = x[1]['choices']\n",
    "    prompt = chain_thought_prompt_template.format(x[1]['question'], options[0], options[1], options[2], options[3])\n",
    "    response, inf_time = generate_response_gemma(prompt, gemma_model, gemma_tokenizer, max_tokens=1000)\n",
    "    gemma_cot_responses.append(response)\n",
    "    gemma_cot_times.append(inf_time)"
   ]
  },
  {
   "cell_type": "code",
   "execution_count": 67,
   "metadata": {},
   "outputs": [
    {
     "data": {
      "text/plain": [
       "array([2, 4, 4, 1, 3, 4, 3, 3, 3, 1, 4, 2, 1, 2, 4, 4, 2, 3, 4, 1, 4, 4,\n",
       "       2, 1, 2, 4, 4, 1, 1, 2, 3, 2, 2, 3, 4, 4, 1, 1, 1, 3, 2, 4, 4, 1,\n",
       "       4, 1, 2, 2, 3, 4, 1, 2, 3, 3, 1, 4, 2, 4, 3, 1, 2, 1, 1, 4, 2, 4,\n",
       "       3, 4, 1, 1, 4, 4, 4, 4, 3, 4, 4, 3, 2, 2, 3, 2, 2, 3, 3, 2, 1, 3,\n",
       "       3, 3, 2, 3, 3, 2, 4, 4, 3, 3, 4, 1])"
      ]
     },
     "execution_count": 67,
     "metadata": {},
     "output_type": "execute_result"
    }
   ],
   "source": [
    "answers"
   ]
  },
  {
   "cell_type": "code",
   "execution_count": 84,
   "metadata": {},
   "outputs": [
    {
     "data": {
      "text/plain": [
       "array([3, 0, 2, 1, 1, 3, 1, 3, 0, 2, 2, 2, 1, 2, 2, 0, 0, 2, 0, 1, 0, 3,\n",
       "       0, 2, 1, 0, 3, 3, 2, 3, 1, 1, 3, 3, 0, 2, 3, 3, 2, 3, 1, 1, 3, 0,\n",
       "       4, 1, 2, 3, 3, 3, 3, 3, 3, 3, 3, 3, 3, 0, 3, 1, 3, 1, 1, 1, 1, 3,\n",
       "       2, 0, 3, 4, 3, 3, 2, 3, 2, 3, 1, 1, 2, 1, 3, 1, 3, 3, 3, 2, 1, 1,\n",
       "       4, 1, 1, 3, 3, 3, 4, 3, 2, 3, 3, 1])"
      ]
     },
     "execution_count": 84,
     "metadata": {},
     "output_type": "execute_result"
    }
   ],
   "source": [
    "gemma_cot_answers = extract_option(gemma_cot_responses)\n",
    "gemma_cot_answers"
   ]
  },
  {
   "cell_type": "code",
   "execution_count": 86,
   "metadata": {},
   "outputs": [
    {
     "name": "stdout",
     "output_type": "stream",
     "text": [
      "Chain-of-Thought Accuracy: 29.00%\n"
     ]
    }
   ],
   "source": [
    "model_accuracies[\"gemma\"]['chain_of_thought'] = accuracy_score(answers, gemma_cot_answers)\n",
    "print(f'Chain-of-Thought Accuracy: {100 * model_accuracies[\"gemma\"][\"chain_of_thought\"]:.2f}%')"
   ]
  },
  {
   "cell_type": "markdown",
   "metadata": {},
   "source": [
    "##### ReAct Prompting"
   ]
  },
  {
   "cell_type": "code",
   "execution_count": null,
   "metadata": {},
   "outputs": [],
   "source": [
    "gemma_react_agent = ReactAgentGemma(gemma_model, gemma_tokenizer, react_system_prompt, react_reason_prompt, react_action_prompt)"
   ]
  },
  {
   "cell_type": "code",
   "execution_count": null,
   "metadata": {},
   "outputs": [
    {
     "data": {
      "text/plain": [
       "array([2, 4, 4, 1, 3, 4, 3, 3, 3, 1, 4, 2, 1, 2, 4, 4, 2, 3, 4, 1, 4, 4,\n",
       "       2, 1, 2, 4, 4, 1, 1, 2])"
      ]
     },
     "metadata": {},
     "output_type": "display_data"
    }
   ],
   "source": [
    "answers[:30]"
   ]
  },
  {
   "cell_type": "code",
   "execution_count": null,
   "metadata": {},
   "outputs": [
    {
     "name": "stderr",
     "output_type": "stream",
     "text": [
      "React responses: 100%|██████████| 30/30 [06:33<00:00, 13.13s/it]\n"
     ]
    }
   ],
   "source": [
    "gemma_react_responses = []\n",
    "gemma_react_times = []\n",
    "\n",
    "for x in tqdm(small_dataset.iterrows(), desc='React responses', total=len(small_dataset)):\n",
    "    options = x[1]['choices']\n",
    "    prompt = react_prompt_template.format(x[1]['question'], options[0], options[1], options[2], options[3])\n",
    "    response, inf_time = gemma_react_agent(prompt, max_tokens=1000)\n",
    "    gemma_react_responses.append(response)\n",
    "    gemma_react_times.append(inf_time)"
   ]
  },
  {
   "cell_type": "code",
   "execution_count": null,
   "metadata": {},
   "outputs": [
    {
     "data": {
      "text/plain": [
       "array([4, 2, 2, 1, 1, 2, 1, 3, 1, 2, 1, 4, 3, 3, 2, 3, 0, 2, 4, 1, 0, 4,\n",
       "       4, 1, 1, 1, 3, 3, 1, 3])"
      ]
     },
     "metadata": {},
     "output_type": "display_data"
    }
   ],
   "source": [
    "gemma_react_answers = extract_option(gemma_react_responses, pattern=r'Option\\s(\\d+)')\n",
    "gemma_react_answers"
   ]
  },
  {
   "cell_type": "code",
   "execution_count": null,
   "metadata": {},
   "outputs": [
    {
     "name": "stdout",
     "output_type": "stream",
     "text": [
      "ReAct Accuracy: 23.33%\n"
     ]
    }
   ],
   "source": [
    "model_accuracies[\"gemma\"]['react'] = accuracy_score(answers[:30], gemma_react_answers)\n",
    "print(f'ReAct Accuracy: {100 * model_accuracies[\"gemma\"][\"react\"]:.2f}%')"
   ]
  },
  {
   "cell_type": "code",
   "execution_count": 15,
   "metadata": {},
   "outputs": [],
   "source": [
    "del gemma_model\n",
    "del gemma_tokenizer"
   ]
  },
  {
   "cell_type": "markdown",
   "metadata": {},
   "source": [
    "#### LLM Comparision"
   ]
  },
  {
   "cell_type": "code",
   "execution_count": 205,
   "metadata": {},
   "outputs": [],
   "source": [
    "model_times['llama']['zero_shot'] = np.mean(llama_zs_times)\n",
    "model_times['llama']['chain_of_thought'] = np.mean(llama_cot_times)\n",
    "model_times['llama']['react'] = np.mean(llama_react_times)\n",
    "\n",
    "model_times['phi']['zero_shot'] = np.mean(phi_zs_times)\n",
    "model_times['phi']['chain_of_thought'] = np.mean(phi_cot_times)\n",
    "model_times['phi']['react'] = np.mean(phi_react_times)\n",
    "\n",
    "model_times['gemma']['zero_shot'] = np.mean(gemma_zs_times)\n",
    "model_times['gemma']['chain_of_thought'] = np.mean(gemma_cot_times)\n",
    "model_times['gemma']['react'] = np.mean(gemma_react_times)"
   ]
  },
  {
   "cell_type": "code",
   "execution_count": 212,
   "metadata": {},
   "outputs": [
    {
     "data": {
      "text/plain": [
       "{'llama': 'Model size = 8.46 GB',\n",
       " 'phi': 'Model size = 3.74 GB',\n",
       " 'gemma': 'Model size = 2.82 GB'}"
      ]
     },
     "execution_count": 212,
     "metadata": {},
     "output_type": "execute_result"
    }
   ],
   "source": [
    "model_sizes"
   ]
  },
  {
   "cell_type": "code",
   "execution_count": 216,
   "metadata": {},
   "outputs": [
    {
     "data": {
      "text/plain": [
       "array([8.46, 3.74, 2.82])"
      ]
     },
     "execution_count": 216,
     "metadata": {},
     "output_type": "execute_result"
    }
   ],
   "source": [
    "accuracies_df = pd.DataFrame(model_accuracies)\n",
    "accuracies_df\n",
    "\n",
    "# times_df = pd.DataFrame({llm: model_times[llm] for llm in llm_types})\n",
    "times_df = pd.DataFrame(model_times)\n",
    "times_df\n",
    "\n",
    "sizes_array = np.array([float((x.split('= ')[1]).split(' GB')[0]) for x in model_sizes.values()])\n",
    "sizes_array"
   ]
  },
  {
   "cell_type": "markdown",
   "metadata": {},
   "source": [
    "##### LLM Accuracies"
   ]
  },
  {
   "cell_type": "code",
   "execution_count": 211,
   "metadata": {},
   "outputs": [
    {
     "data": {
      "image/png": "[encoded data removed]",
      "text/plain": [
       "<Figure size 640x480 with 1 Axes>"
      ]
     },
     "metadata": {},
     "output_type": "display_data"
    }
   ],
   "source": [
    "plt.plot(accuracies_df.T)\n",
    "plt.legend(accuracies_df.T.columns)\n",
    "plt.ylabel('Accuracy')\n",
    "plt.xlabel('Prompt Type')\n",
    "plt.title('Model Accuracies across LLMs')\n",
    "plt.show()"
   ]
  },
  {
   "cell_type": "code",
   "execution_count": 210,
   "metadata": {},
   "outputs": [
    {
     "data": {
      "image/png": "[encoded data removed]",
      "text/plain": [
       "<Figure size 640x480 with 1 Axes>"
      ]
     },
     "metadata": {},
     "output_type": "display_data"
    }
   ],
   "source": [
    "plt.plot(accuracies_df)\n",
    "plt.legend(accuracies_df.columns)\n",
    "plt.ylabel('Accuracy')\n",
    "plt.xlabel('Prompt Type')\n",
    "plt.title('Model Accuracies across Prompt Types')\n",
    "plt.show()"
   ]
  },
  {
   "cell_type": "markdown",
   "metadata": {},
   "source": [
    "##### LLM Inference Time"
   ]
  },
  {
   "cell_type": "code",
   "execution_count": 221,
   "metadata": {},
   "outputs": [
    {
     "data": {
      "image/png": "[encoded data removed]",
      "text/plain": [
       "<Figure size 640x480 with 1 Axes>"
      ]
     },
     "metadata": {},
     "output_type": "display_data"
    }
   ],
   "source": [
    "plt.plot(times_df.T)\n",
    "plt.legend(times_df.T.columns)\n",
    "plt.ylabel('Inference Time (s)')\n",
    "plt.xlabel('Prompt Type')\n",
    "plt.title('Model Inference Time across LLMs')\n",
    "plt.show()"
   ]
  },
  {
   "cell_type": "markdown",
   "metadata": {},
   "source": [
    "##### LLM Model Size"
   ]
  },
  {
   "cell_type": "code",
   "execution_count": 222,
   "metadata": {},
   "outputs": [
    {
     "data": {
      "image/png": "[encoded data removed]",
      "text/plain": [
       "<Figure size 640x480 with 1 Axes>"
      ]
     },
     "metadata": {},
     "output_type": "display_data"
    }
   ],
   "source": [
    "# Plot sizes_array\n",
    "plt.bar(llm_types, sizes_array)\n",
    "plt.ylabel('Model Size (GB)')\n",
    "plt.title('Model Sizes across LLMs')\n",
    "plt.show()"
   ]
  }
 ],
 "metadata": {
  "kernelspec": {
   "display_name": "gpu_env_pip",
   "language": "python",
   "name": "python3"
  },
  "language_info": {
   "codemirror_mode": {
    "name": "ipython",
    "version": 3
   },
   "file_extension": ".py",
   "mimetype": "text/x-python",
   "name": "python",
   "nbconvert_exporter": "python",
   "pygments_lexer": "ipython3",
   "version": "3.10.14"
  }
 },
 "nbformat": 4,
 "nbformat_minor": 2
}
